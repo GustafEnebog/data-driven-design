{
  "cells": [
    {
      "cell_type": "markdown",
      "metadata": {
        "id": "0aStgWSO0E0E"
      },
      "source": [
        "# **Regression**"
      ]
    },
    {
      "cell_type": "markdown",
      "metadata": {
        "id": "1eLEkw5O0ECa"
      },
      "source": [
        "## Objectives\n",
        "\n",
        "*   Fit and evaluate a regression model to predict Max Altitude (Hmax) for airplanes with that are likely having Multi Engine (or category in Engine Type)\n",
        "\n",
        "\n",
        "## Inputs\n",
        "\n",
        "* outputs/datasets/collection/airplane_performance_study.csv\n",
        "* Instructions on which variables to use for data cleaning and feature engineering. They are found in their respective notebooks.\n",
        "\n",
        "## Outputs\n",
        "\n",
        "* Train set (features and target)\n",
        "* Test set (features and target)\n",
        "* ML pipeline to predict tenure\n",
        "* labels map\n",
        "* Feature Importance Plot\n",
        "\n"
      ]
    },
    {
      "cell_type": "markdown",
      "metadata": {
        "id": "9uWZXH9LwoQg"
      },
      "source": [
        "---"
      ]
    },
    {
      "cell_type": "markdown",
      "metadata": {},
      "source": [
        "# Change working directory"
      ]
    },
    {
      "cell_type": "markdown",
      "metadata": {},
      "source": [
        "We need to change the working directory from its current folder to its parent folder\n",
        "* Access the current directory with os.getcwd()"
      ]
    },
    {
      "cell_type": "code",
      "execution_count": 1,
      "metadata": {},
      "outputs": [
        {
          "data": {
            "text/plain": [
              "'/workspace/data-driven-design/jupyter_notebooks'"
            ]
          },
          "execution_count": 1,
          "metadata": {},
          "output_type": "execute_result"
        }
      ],
      "source": [
        "import os\n",
        "current_dir = os.getcwd()\n",
        "current_dir"
      ]
    },
    {
      "cell_type": "markdown",
      "metadata": {},
      "source": [
        "Make the parent of the current directory the new current directory\n",
        "* os.path.dirname() gets the parent directory\n",
        "* os.chir() defines the new current directory"
      ]
    },
    {
      "cell_type": "code",
      "execution_count": 2,
      "metadata": {},
      "outputs": [
        {
          "name": "stdout",
          "output_type": "stream",
          "text": [
            "You set a new current directory\n"
          ]
        }
      ],
      "source": [
        "os.chdir(os.path.dirname(current_dir))\n",
        "print(\"You set a new current directory\")"
      ]
    },
    {
      "cell_type": "markdown",
      "metadata": {},
      "source": [
        "Confirm the new current directory"
      ]
    },
    {
      "cell_type": "code",
      "execution_count": 3,
      "metadata": {},
      "outputs": [
        {
          "data": {
            "text/plain": [
              "'/workspace/data-driven-design'"
            ]
          },
          "execution_count": 3,
          "metadata": {},
          "output_type": "execute_result"
        }
      ],
      "source": [
        "current_dir = os.getcwd()\n",
        "current_dir"
      ]
    },
    {
      "cell_type": "markdown",
      "metadata": {
        "id": "pXKlJFX0iuM5"
      },
      "source": [
        "---"
      ]
    },
    {
      "cell_type": "markdown",
      "metadata": {
        "id": "-mavJ8DibrcQ"
      },
      "source": [
        "# Load Data"
      ]
    },
    {
      "cell_type": "markdown",
      "metadata": {},
      "source": [
        "In order to not compare apples with oranges the code below filters out all Multi Engined, jet and propjet leaving only the subset of **single Piston Engines**. It also drops these columns as well as the Turbo Prop performance modification column since it only refers to propjet Engines and the Hmax_(One) and ROC_(One)-columns since they only pertain to Multi Engined airplane."
      ]
    },
    {
      "cell_type": "code",
      "execution_count": 4,
      "metadata": {
        "id": "Xk7DU_ekbtX8"
      },
      "outputs": [
        {
          "name": "stdout",
          "output_type": "stream",
          "text": [
            "(27, 16)\n"
          ]
        },
        {
          "data": {
            "text/html": [
              "<div>\n",
              "<style scoped>\n",
              "    .dataframe tbody tr th:only-of-type {\n",
              "        vertical-align: middle;\n",
              "    }\n",
              "\n",
              "    .dataframe tbody tr th {\n",
              "        vertical-align: top;\n",
              "    }\n",
              "\n",
              "    .dataframe thead th {\n",
              "        text-align: right;\n",
              "    }\n",
              "</style>\n",
              "<table border=\"1\" class=\"dataframe\">\n",
              "  <thead>\n",
              "    <tr style=\"text-align: right;\">\n",
              "      <th></th>\n",
              "      <th>Wing_Span</th>\n",
              "      <th>Length</th>\n",
              "      <th>Height</th>\n",
              "      <th>AUW</th>\n",
              "      <th>MEW</th>\n",
              "      <th>FW</th>\n",
              "      <th>Vmax</th>\n",
              "      <th>Vcruise</th>\n",
              "      <th>Vstall</th>\n",
              "      <th>Range</th>\n",
              "      <th>Hmax</th>\n",
              "      <th>ROC</th>\n",
              "      <th>Vlo</th>\n",
              "      <th>Slo</th>\n",
              "      <th>Vl</th>\n",
              "      <th>Sl</th>\n",
              "    </tr>\n",
              "  </thead>\n",
              "  <tbody>\n",
              "    <tr>\n",
              "      <th>12</th>\n",
              "      <td>42.416667</td>\n",
              "      <td>33.083333</td>\n",
              "      <td>12.083333</td>\n",
              "      <td>5200.0</td>\n",
              "      <td>3150.0</td>\n",
              "      <td>536.0</td>\n",
              "      <td>128.472975</td>\n",
              "      <td>113.0</td>\n",
              "      <td>44.677972</td>\n",
              "      <td>528.313006</td>\n",
              "      <td>15821.745377</td>\n",
              "      <td>535.100314</td>\n",
              "      <td>900.000000</td>\n",
              "      <td>575.692111</td>\n",
              "      <td>707.224426</td>\n",
              "      <td>246.309124</td>\n",
              "    </tr>\n",
              "    <tr>\n",
              "      <th>28</th>\n",
              "      <td>59.200000</td>\n",
              "      <td>44.038445</td>\n",
              "      <td>15.313704</td>\n",
              "      <td>16000.0</td>\n",
              "      <td>6751.0</td>\n",
              "      <td>1701.8</td>\n",
              "      <td>166.000000</td>\n",
              "      <td>166.0</td>\n",
              "      <td>54.000000</td>\n",
              "      <td>610.000000</td>\n",
              "      <td>14704.835880</td>\n",
              "      <td>780.000000</td>\n",
              "      <td>2343.285672</td>\n",
              "      <td>2000.000000</td>\n",
              "      <td>1440.358832</td>\n",
              "      <td>669.473377</td>\n",
              "    </tr>\n",
              "    <tr>\n",
              "      <th>29</th>\n",
              "      <td>56.000000</td>\n",
              "      <td>33.500000</td>\n",
              "      <td>12.166667</td>\n",
              "      <td>12500.0</td>\n",
              "      <td>5829.0</td>\n",
              "      <td>1447.2</td>\n",
              "      <td>158.000000</td>\n",
              "      <td>126.0</td>\n",
              "      <td>52.000000</td>\n",
              "      <td>600.000000</td>\n",
              "      <td>8000.000000</td>\n",
              "      <td>650.000000</td>\n",
              "      <td>1756.907849</td>\n",
              "      <td>1830.000000</td>\n",
              "      <td>1949.973315</td>\n",
              "      <td>1634.223699</td>\n",
              "    </tr>\n",
              "    <tr>\n",
              "      <th>30</th>\n",
              "      <td>50.000000</td>\n",
              "      <td>30.752893</td>\n",
              "      <td>11.429067</td>\n",
              "      <td>9200.0</td>\n",
              "      <td>4488.0</td>\n",
              "      <td>1139.0</td>\n",
              "      <td>144.000000</td>\n",
              "      <td>126.0</td>\n",
              "      <td>60.000000</td>\n",
              "      <td>547.000000</td>\n",
              "      <td>21577.544015</td>\n",
              "      <td>760.000000</td>\n",
              "      <td>2005.300648</td>\n",
              "      <td>1170.000000</td>\n",
              "      <td>2210.643697</td>\n",
              "      <td>1260.453771</td>\n",
              "    </tr>\n",
              "    <tr>\n",
              "      <th>31</th>\n",
              "      <td>50.000000</td>\n",
              "      <td>45.195952</td>\n",
              "      <td>15.753430</td>\n",
              "      <td>9200.0</td>\n",
              "      <td>4123.0</td>\n",
              "      <td>1139.0</td>\n",
              "      <td>144.000000</td>\n",
              "      <td>126.0</td>\n",
              "      <td>60.000000</td>\n",
              "      <td>547.000000</td>\n",
              "      <td>22036.934145</td>\n",
              "      <td>760.000000</td>\n",
              "      <td>2052.961073</td>\n",
              "      <td>1170.000000</td>\n",
              "      <td>1851.291709</td>\n",
              "      <td>830.604750</td>\n",
              "    </tr>\n",
              "    <tr>\n",
              "      <th>32</th>\n",
              "      <td>49.000000</td>\n",
              "      <td>45.264445</td>\n",
              "      <td>15.784063</td>\n",
              "      <td>7860.0</td>\n",
              "      <td>3739.0</td>\n",
              "      <td>1139.0</td>\n",
              "      <td>122.000000</td>\n",
              "      <td>105.0</td>\n",
              "      <td>46.000000</td>\n",
              "      <td>574.000000</td>\n",
              "      <td>16880.470889</td>\n",
              "      <td>1000.000000</td>\n",
              "      <td>1345.778506</td>\n",
              "      <td>810.000000</td>\n",
              "      <td>1517.532366</td>\n",
              "      <td>871.472430</td>\n",
              "    </tr>\n",
              "    <tr>\n",
              "      <th>34</th>\n",
              "      <td>45.083333</td>\n",
              "      <td>36.738499</td>\n",
              "      <td>13.270990</td>\n",
              "      <td>7800.0</td>\n",
              "      <td>3550.0</td>\n",
              "      <td>844.2</td>\n",
              "      <td>200.000000</td>\n",
              "      <td>185.0</td>\n",
              "      <td>55.000000</td>\n",
              "      <td>129.113978</td>\n",
              "      <td>25192.761928</td>\n",
              "      <td>1500.000000</td>\n",
              "      <td>1759.828119</td>\n",
              "      <td>1000.000000</td>\n",
              "      <td>2371.646167</td>\n",
              "      <td>1543.376644</td>\n",
              "    </tr>\n",
              "    <tr>\n",
              "      <th>62</th>\n",
              "      <td>44.416667</td>\n",
              "      <td>33.000000</td>\n",
              "      <td>9.166667</td>\n",
              "      <td>6000.0</td>\n",
              "      <td>3600.0</td>\n",
              "      <td>1273.0</td>\n",
              "      <td>138.000000</td>\n",
              "      <td>130.0</td>\n",
              "      <td>57.000000</td>\n",
              "      <td>545.000000</td>\n",
              "      <td>25000.000000</td>\n",
              "      <td>1740.000000</td>\n",
              "      <td>1823.943639</td>\n",
              "      <td>600.000000</td>\n",
              "      <td>2179.158883</td>\n",
              "      <td>500.000000</td>\n",
              "    </tr>\n",
              "    <tr>\n",
              "      <th>68</th>\n",
              "      <td>57.916667</td>\n",
              "      <td>46.666667</td>\n",
              "      <td>14.333333</td>\n",
              "      <td>15000.0</td>\n",
              "      <td>9955.0</td>\n",
              "      <td>1534.0</td>\n",
              "      <td>312.000000</td>\n",
              "      <td>263.0</td>\n",
              "      <td>81.000000</td>\n",
              "      <td>1806.000000</td>\n",
              "      <td>35000.000000</td>\n",
              "      <td>2700.000000</td>\n",
              "      <td>4116.731629</td>\n",
              "      <td>3300.000000</td>\n",
              "      <td>3951.179185</td>\n",
              "      <td>2692.000000</td>\n",
              "    </tr>\n",
              "    <tr>\n",
              "      <th>71</th>\n",
              "      <td>57.916667</td>\n",
              "      <td>43.833333</td>\n",
              "      <td>14.833333</td>\n",
              "      <td>12590.0</td>\n",
              "      <td>8830.0</td>\n",
              "      <td>3645.0</td>\n",
              "      <td>310.000000</td>\n",
              "      <td>259.0</td>\n",
              "      <td>80.000000</td>\n",
              "      <td>1720.000000</td>\n",
              "      <td>35000.000000</td>\n",
              "      <td>2437.000000</td>\n",
              "      <td>2951.061823</td>\n",
              "      <td>2111.000000</td>\n",
              "      <td>2390.994732</td>\n",
              "      <td>2845.000000</td>\n",
              "    </tr>\n",
              "  </tbody>\n",
              "</table>\n",
              "</div>"
            ],
            "text/plain": [
              "    Wing_Span     Length     Height      AUW     MEW      FW        Vmax  \\\n",
              "12  42.416667  33.083333  12.083333   5200.0  3150.0   536.0  128.472975   \n",
              "28  59.200000  44.038445  15.313704  16000.0  6751.0  1701.8  166.000000   \n",
              "29  56.000000  33.500000  12.166667  12500.0  5829.0  1447.2  158.000000   \n",
              "30  50.000000  30.752893  11.429067   9200.0  4488.0  1139.0  144.000000   \n",
              "31  50.000000  45.195952  15.753430   9200.0  4123.0  1139.0  144.000000   \n",
              "32  49.000000  45.264445  15.784063   7860.0  3739.0  1139.0  122.000000   \n",
              "34  45.083333  36.738499  13.270990   7800.0  3550.0   844.2  200.000000   \n",
              "62  44.416667  33.000000   9.166667   6000.0  3600.0  1273.0  138.000000   \n",
              "68  57.916667  46.666667  14.333333  15000.0  9955.0  1534.0  312.000000   \n",
              "71  57.916667  43.833333  14.833333  12590.0  8830.0  3645.0  310.000000   \n",
              "\n",
              "    Vcruise     Vstall        Range          Hmax          ROC          Vlo  \\\n",
              "12    113.0  44.677972   528.313006  15821.745377   535.100314   900.000000   \n",
              "28    166.0  54.000000   610.000000  14704.835880   780.000000  2343.285672   \n",
              "29    126.0  52.000000   600.000000   8000.000000   650.000000  1756.907849   \n",
              "30    126.0  60.000000   547.000000  21577.544015   760.000000  2005.300648   \n",
              "31    126.0  60.000000   547.000000  22036.934145   760.000000  2052.961073   \n",
              "32    105.0  46.000000   574.000000  16880.470889  1000.000000  1345.778506   \n",
              "34    185.0  55.000000   129.113978  25192.761928  1500.000000  1759.828119   \n",
              "62    130.0  57.000000   545.000000  25000.000000  1740.000000  1823.943639   \n",
              "68    263.0  81.000000  1806.000000  35000.000000  2700.000000  4116.731629   \n",
              "71    259.0  80.000000  1720.000000  35000.000000  2437.000000  2951.061823   \n",
              "\n",
              "            Slo           Vl           Sl  \n",
              "12   575.692111   707.224426   246.309124  \n",
              "28  2000.000000  1440.358832   669.473377  \n",
              "29  1830.000000  1949.973315  1634.223699  \n",
              "30  1170.000000  2210.643697  1260.453771  \n",
              "31  1170.000000  1851.291709   830.604750  \n",
              "32   810.000000  1517.532366   871.472430  \n",
              "34  1000.000000  2371.646167  1543.376644  \n",
              "62   600.000000  2179.158883   500.000000  \n",
              "68  3300.000000  3951.179185  2692.000000  \n",
              "71  2111.000000  2390.994732  2845.000000  "
            ]
          },
          "execution_count": 4,
          "metadata": {},
          "output_type": "execute_result"
        }
      ],
      "source": [
        "import numpy as np\n",
        "import pandas as pd\n",
        "df = (pd.read_csv(\"outputs/datasets/collection/airplane_performance_study.csv\")\n",
        "      .query(\"Engine_Type == 1 and Multi_Engine == 0 and TP_mods == 0\")  # subset of airplanes with single Piston Enginees without any Turbo Prop performance modification TP_mods dmultiple Engines\n",
        "      .drop(labels=['Model', 'Company', 'THR', 'SHP', 'Engine_Type', 'Multi_Engine', 'TP_mods', 'Hmax_(One)', 'ROC_(One)'], axis=1)\n",
        "      )\n",
        "\n",
        "print(df.shape)\n",
        "df.head(10)"
      ]
    },
    {
      "cell_type": "markdown",
      "metadata": {},
      "source": [
        "Import Libraries (Cell 1)\n",
        "\n",
        "Load and Preprocess Data (Cell 2)\n",
        "\n",
        "Define Features and Target (Cell 3)\n",
        "\n",
        "Split the Data (Cell 4)\n",
        "\n",
        "Define and Save the Pipeline (Cell 5)\n",
        "\n",
        "Evaluate Model (Cell 6)\n",
        "\n",
        "Visualizations (Cell 7)"
      ]
    },
    {
      "cell_type": "markdown",
      "metadata": {},
      "source": [
        "Define features and target\n",
        "\n",
        "X are the features for the model (all columns in df except for target Wing_Span.\n",
        "y is the target variable which is the Wing_Span column in the df."
      ]
    },
    {
      "cell_type": "code",
      "execution_count": 5,
      "metadata": {},
      "outputs": [],
      "source": [
        "import pandas as pd\n",
        "from sklearn.pipeline import Pipeline\n",
        "from sklearn.preprocessing import StandardScaler\n",
        "from sklearn.ensemble import RandomForestRegressor\n",
        "from sklearn.model_selection import train_test_split\n",
        "from sklearn.metrics import mean_squared_error\n",
        "\n",
        "\n",
        "# Define features and target\n",
        "X = df.drop('Wing_Span', axis=1)  # Features (where I drop the target variable)\n",
        "y = df['Wing_Span']                # Target variable"
      ]
    },
    {
      "cell_type": "markdown",
      "metadata": {},
      "source": [
        "## Split Train Test Set\n",
        "\n",
        "80% of df is split into the train set and 20% is left for the test set.\n",
        "The random_state=0 parameter ensures reproducibility of the split."
      ]
    },
    {
      "cell_type": "code",
      "execution_count": 6,
      "metadata": {},
      "outputs": [
        {
          "name": "stdout",
          "output_type": "stream",
          "text": [
            "* Train set: (21, 15) (21,) \n",
            "* Test set: (6, 15) (6,)\n"
          ]
        }
      ],
      "source": [
        "# Split the data into training and testing sets\n",
        "X_train, X_test, y_train, y_test = train_test_split(X, y, test_size=0.2, random_state=0)  # 80% to train and 20% to test.\n",
        "\n",
        "print(\"* Train set:\", X_train.shape, y_train.shape,\n",
        "      \"\\n* Test set:\",  X_test.shape, y_test.shape)"
      ]
    },
    {
      "cell_type": "markdown",
      "metadata": {},
      "source": [
        "# MP Pipeline: Regressor"
      ]
    },
    {
      "cell_type": "markdown",
      "metadata": {},
      "source": [
        "## Create Pipeline\n",
        "\n",
        "'scaler' applies standard scaling to the (numerical) features, ensuring that they have a mean = 0 and a standard deviation = 1.\n",
        "'regressor' initializes Random Forest regression model for predicting target variable (Wing_Span)."
      ]
    },
    {
      "cell_type": "code",
      "execution_count": 7,
      "metadata": {},
      "outputs": [],
      "source": [
        "pipeline = Pipeline(steps=[\n",
        "    ('scaler', StandardScaler()),                     # Scale numerical features\n",
        "    ('regressor', RandomForestRegressor(random_state=0))  # Regression model using Random Forrest\n",
        "])"
      ]
    },
    {
      "cell_type": "markdown",
      "metadata": {},
      "source": [
        "Custom Class for hyperparameter optimisation"
      ]
    },
    {
      "cell_type": "code",
      "execution_count": 8,
      "metadata": {},
      "outputs": [],
      "source": [
        "# Need to write this code!"
      ]
    },
    {
      "cell_type": "markdown",
      "metadata": {},
      "source": [
        "## Grid Search CV - Sklearn"
      ]
    },
    {
      "cell_type": "code",
      "execution_count": 9,
      "metadata": {},
      "outputs": [],
      "source": [
        "# Need to write this code!"
      ]
    },
    {
      "cell_type": "markdown",
      "metadata": {},
      "source": [
        "## Fit the model\n",
        "\n",
        "build the training model using the training dataset.\n",
        "\n",
        "StandardScaler is applied to scale the features in X_train.\n",
        "\n",
        "RandomForestRegressor is trained on the scaled features (from previous step) and corresponding target values."
      ]
    },
    {
      "cell_type": "code",
      "execution_count": 10,
      "metadata": {},
      "outputs": [
        {
          "data": {
            "text/plain": [
              "Pipeline(steps=[('scaler', StandardScaler()),\n",
              "                ('regressor', RandomForestRegressor(random_state=0))])"
            ]
          },
          "execution_count": 10,
          "metadata": {},
          "output_type": "execute_result"
        }
      ],
      "source": [
        "pipeline.fit(X_train, y_train)"
      ]
    },
    {
      "cell_type": "markdown",
      "metadata": {},
      "source": [
        "## Make predictions\n",
        "\n",
        "Scaling test features using StandardScaler fitted during training.\n",
        "\n",
        "Using the trained RandomForestRegressor to predict on scaled test data.\n",
        "\n",
        "Output: The predicted values for target (Wing_Span) stored in the predictions variable."
      ]
    },
    {
      "cell_type": "code",
      "execution_count": 11,
      "metadata": {},
      "outputs": [],
      "source": [
        "predictions = pipeline.predict(X_test)"
      ]
    },
    {
      "cell_type": "markdown",
      "metadata": {},
      "source": [
        "## Assess feature importance"
      ]
    },
    {
      "cell_type": "markdown",
      "metadata": {},
      "source": [
        "## Evaluate on Train and Test Sets (but now the code is only evaluating on the test set!)"
      ]
    },
    {
      "cell_type": "markdown",
      "metadata": {},
      "source": [
        "## Mean Squared Error Calculation\n",
        "\n",
        "The mean_squared_error computes the mean squared error (MSE) between the actual values (y_test) and the predicted values (predictions).\n",
        "\n",
        "The MSE provids a quantitative measure of the model's performance on the test dataset."
      ]
    },
    {
      "cell_type": "code",
      "execution_count": 12,
      "metadata": {},
      "outputs": [
        {
          "name": "stdout",
          "output_type": "stream",
          "text": [
            "Mean Squared Error: 10.941415245370358\n"
          ]
        }
      ],
      "source": [
        "mse = mean_squared_error(y_test, predictions)\n",
        "print(f'Mean Squared Error: {mse}')"
      ]
    },
    {
      "cell_type": "markdown",
      "metadata": {},
      "source": [
        "Save above output"
      ]
    },
    {
      "cell_type": "code",
      "execution_count": 13,
      "metadata": {},
      "outputs": [],
      "source": [
        "# Save MSE to a text file\n",
        "with open('outputs/ml_pipeline/predict_analysis/mse.txt', 'w') as f:\n",
        "    f.write(f'Mean Squared Error: {mse}\\n')"
      ]
    },
    {
      "cell_type": "markdown",
      "metadata": {},
      "source": [
        "## Print feature importances (for RandomForestRegressor)\n",
        "\n",
        "feature_importance_df is created that in descending order (by importance) list an \"importance score\"-for each feature providing insights into which features are most influential in predicting the target variable (Wing_Span)."
      ]
    },
    {
      "cell_type": "code",
      "execution_count": 14,
      "metadata": {},
      "outputs": [
        {
          "name": "stdout",
          "output_type": "stream",
          "text": [
            "    Feature  Importance\n",
            "0    Length    0.473480\n",
            "2       AUW    0.321005\n",
            "1    Height    0.048814\n",
            "3       MEW    0.031150\n",
            "10      ROC    0.024729\n",
            "12      Slo    0.021725\n",
            "11      Vlo    0.013380\n",
            "6   Vcruise    0.010606\n",
            "9      Hmax    0.010577\n",
            "13       Vl    0.009976\n",
            "4        FW    0.009971\n",
            "5      Vmax    0.009235\n",
            "14       Sl    0.005633\n",
            "7    Vstall    0.005132\n",
            "8     Range    0.004589\n"
          ]
        }
      ],
      "source": [
        "importances = pipeline.named_steps['regressor'].feature_importances_\n",
        "feature_names = X.columns\n",
        "feature_importance_df = pd.DataFrame({'Feature': feature_names, 'Importance': importances})\n",
        "print(feature_importance_df.sort_values(by='Importance', ascending=False))"
      ]
    },
    {
      "cell_type": "markdown",
      "metadata": {},
      "source": [
        "Save above output"
      ]
    },
    {
      "cell_type": "code",
      "execution_count": 15,
      "metadata": {},
      "outputs": [
        {
          "data": {
            "text/plain": [
              "['outputs/ml_pipeline/predict_analysis/feature_importance_df.pkl']"
            ]
          },
          "execution_count": 15,
          "metadata": {},
          "output_type": "execute_result"
        }
      ],
      "source": [
        "import joblib\n",
        "\n",
        "# Save the feature importances as a .pkl file\n",
        "joblib.dump(importances, 'outputs/ml_pipeline/predict_analysis/feature_importances.pkl')\n",
        "\n",
        "# Save the feature names as a .pkl file\n",
        "joblib.dump(feature_names.tolist(), 'outputs/ml_pipeline/predict_analysis/feature_names.pkl')\n",
        "\n",
        "# Save the feature importance DataFrame as a .pkl file\n",
        "joblib.dump(feature_importance_df, 'outputs/ml_pipeline/predict_analysis/feature_importance_df.pkl')\n"
      ]
    },
    {
      "cell_type": "markdown",
      "metadata": {},
      "source": [
        "## Plot Regression"
      ]
    },
    {
      "cell_type": "markdown",
      "metadata": {},
      "source": [
        "### Predicted vs actual values\n",
        "\n",
        "Importing Libraries: The code imports matplotlib.pyplot for plotting and seaborn (though it's not explicitly used in this block, it can enhance plots if needed).\n",
        "\n",
        "Figure Setup: A new figure is created with a specified size (10x6 inches) for better visibility.\n",
        "\n",
        "Scatter Plot: The actual vs. predicted values for Wing_Span are plotted using a scatter plot. The alpha=0.6 parameter makes the points slightly transparent, helping to visualize overlapping points.\n",
        "\n",
        "Diagonal Line: A red dashed line is plotted from the minimum to maximum values of y_test. This line represents perfect predictions (where predicted values equal actual values).\n",
        "\n",
        "Titles and Labels: The plot is given a title and labeled axes to clarify what is being represented.\n",
        "\n",
        "Axis Limits: The x-axis and y-axis limits are set to match the range of the actual Wing_Span values.\n",
        "\n",
        "Grid and Display: A grid is added for better readability, and plt.show() displays the plot.\n",
        "\n",
        "\n",
        "The points in the scatter plot represent the predicted Wing_Span values (on the y-axis) against the actual Wing_Span values (on the x-axis) for the test set.\n",
        "\n",
        "\n",
        "I need to check X_test and y_test and predictions to see why there are so few "
      ]
    },
    {
      "cell_type": "code",
      "execution_count": 16,
      "metadata": {},
      "outputs": [
        {
          "data": {
            "image/png": "[encoded data removed]",
            "text/plain": [
              "<Figure size 1000x600 with 1 Axes>"
            ]
          },
          "metadata": {},
          "output_type": "display_data"
        }
      ],
      "source": [
        "import matplotlib.pyplot as plt\n",
        "import seaborn as sns\n",
        "\n",
        "plt.figure(figsize=(10, 6))\n",
        "plt.scatter(y_test, predictions, alpha=0.6)\n",
        "plt.plot([y_test.min(), y_test.max()], [y_test.min(), y_test.max()], 'r--')  # Diagonal line\n",
        "plt.title('Predicted vs Actual Wing Span')\n",
        "plt.xlabel('Actual Wing Span')\n",
        "plt.ylabel('Predicted Wing Span')\n",
        "plt.xlim([y_test.min(), y_test.max()])\n",
        "plt.ylim([y_test.min(), y_test.max()])\n",
        "plt.grid()\n",
        "plt.savefig('outputs/ml_pipeline/predict_analysis/predicted_vs_actual.png')  # Save the plot as a PNG file\n",
        "plt.show()"
      ]
    },
    {
      "cell_type": "markdown",
      "metadata": {},
      "source": [
        "### Residual plot\n",
        "\n",
        "Calculating Residuals: The residuals are calculated by subtracting the predicted values (predictions) from the actual values (y_test). Residuals indicate the difference between what the model predicted and what the actual values were.\n",
        "\n",
        "Figure Setup: A new figure is created with a specified size (10x6 inches).\n",
        "\n",
        "Histogram Plot: The sns.histplot() function is used to create a histogram of the residuals, with a Kernel Density Estimate (KDE) overlaid. The KDE provides a smoothed estimate of the residuals' distribution.\n",
        "\n",
        "Titles and Labels: The plot is given a title and labeled axes to clarify what is being represented.\n",
        "\n",
        "Grid and Display: A grid is added for better readability, and plt.show() displays the plot.\n",
        "\n",
        "This histogram helps visualize the distribution of the residuals, which can indicate how well the model is performing. Ideally, residuals should be normally distributed around zero if the model is a good fit.\n",
        "\n",
        "The Residuals Distribution shows that the distribution of errors are such that most errors have an error of ca 1 meter (and that the model rather tend overestimate than underestimate the wingspan). Above that the errors appear to be evenly distribbuted between 1 and 7 meter\n",
        "\n",
        "\n",
        "\n",
        "\n",
        "Distribution of Residuals: If you notice that there are very few (or no) negative residuals, it could suggest a few things:\n",
        "\n",
        "Model Bias: The model may be biased toward overestimating the wingspan values. This can happen if the training data has characteristics that lead the model to make consistently higher predictions.\n",
        "Data Characteristics: If the data itself has a distribution skewed towards larger wingspans, the model may learn to predict higher values more often.\n",
        "Outliers or Data Issues: There might be outliers or peculiarities in the dataset that influence the predictions. It’s worth investigating the training data to see if there are any patterns or trends that could explain this distribution.\n",
        "Model Evaluation: It's important to examine why there’s a bias in the residuals. You might consider looking into other metrics, performing diagnostics, or even adjusting the model to address this issue."
      ]
    },
    {
      "cell_type": "code",
      "execution_count": 17,
      "metadata": {},
      "outputs": [
        {
          "data": {
            "image/png": "[encoded data removed]",
            "text/plain": [
              "<Figure size 1000x600 with 1 Axes>"
            ]
          },
          "metadata": {},
          "output_type": "display_data"
        }
      ],
      "source": [
        "residuals = y_test - predictions\n",
        "plt.figure(figsize=(10, 6))\n",
        "sns.histplot(residuals, kde=True)\n",
        "plt.title('Residuals Distribution')\n",
        "plt.xlabel('Residuals')\n",
        "plt.ylabel('Frequency')\n",
        "plt.grid()\n",
        "plt.savefig('outputs/ml_pipeline/predict_analysis/residuals_distribution.png')  # Save the plot as a PNG file\n",
        "plt.show()"
      ]
    },
    {
      "cell_type": "markdown",
      "metadata": {},
      "source": [
        "### Residuals vs Fitted plot\n",
        "\n",
        "Each point represents a fitted value (predicted wingspan) from the train set plotted against its corresponding residual.\n",
        "\n",
        "We do see here the same overestimation pattern that we saw in the Residuals distribution. Ideally, the residuals should be randomly scattered around the horizontal line at zero without any discernible pattern however our pattern appear to be \"high\". Note however that we only have five datapoints making for a very uncertain prediction, i.e. the high pattern might be due to chanse!\n",
        "\n",
        "If we the \"High pattern\" is real it could indicate: it may indicate issues such as non-linearity, omitted variables, or model misspecification."
      ]
    },
    {
      "cell_type": "code",
      "execution_count": 18,
      "metadata": {},
      "outputs": [
        {
          "data": {
            "image/png": "[encoded data removed]",
            "text/plain": [
              "<Figure size 1000x600 with 1 Axes>"
            ]
          },
          "metadata": {},
          "output_type": "display_data"
        }
      ],
      "source": [
        "plt.figure(figsize=(10, 6))\n",
        "plt.scatter(predictions, residuals, alpha=0.6)\n",
        "plt.axhline(0, color='red', linestyle='--')\n",
        "plt.title('Residuals vs Fitted')\n",
        "plt.xlabel('Fitted Values (Predicted Wing Span)')\n",
        "plt.ylabel('Residuals')\n",
        "plt.grid()\n",
        "plt.savefig('outputs/ml_pipeline/predict_analysis/residuals_vs_fitted.png')  # Save the plot\n",
        "plt.show()\n"
      ]
    },
    {
      "cell_type": "markdown",
      "metadata": {},
      "source": [
        "## Save the file\n",
        "\n",
        "Using joblib to save the pipeline to a subfolder under the output - folder"
      ]
    },
    {
      "cell_type": "code",
      "execution_count": 19,
      "metadata": {},
      "outputs": [
        {
          "data": {
            "text/plain": [
              "['outputs/ml_pipeline/predict_analysis/wingspan_predictor_model.pkl']"
            ]
          },
          "execution_count": 19,
          "metadata": {},
          "output_type": "execute_result"
        }
      ],
      "source": [
        "joblib.dump(pipeline, 'outputs/ml_pipeline/predict_analysis/wingspan_predictor_model.pkl')\n"
      ]
    },
    {
      "cell_type": "markdown",
      "metadata": {},
      "source": [
        "---"
      ]
    },
    {
      "cell_type": "markdown",
      "metadata": {},
      "source": [
        "---"
      ]
    },
    {
      "cell_type": "markdown",
      "metadata": {},
      "source": [
        "---"
      ]
    },
    {
      "cell_type": "markdown",
      "metadata": {},
      "source": [
        "---"
      ]
    },
    {
      "cell_type": "markdown",
      "metadata": {},
      "source": [
        "---"
      ]
    },
    {
      "cell_type": "markdown",
      "metadata": {},
      "source": [
        "---"
      ]
    },
    {
      "cell_type": "markdown",
      "metadata": {
        "id": "GBtppR73G1Yx"
      },
      "source": [
        "# Push files to the repo"
      ]
    },
    {
      "cell_type": "markdown",
      "metadata": {
        "id": "ShuJ5tYUC06o"
      },
      "source": [
        "We will generate the following files\n",
        "\n",
        "* Train set\n",
        "* Test set\n",
        "* Modeling pipeline\n",
        "* label map\n",
        "* features importance plot"
      ]
    },
    {
      "cell_type": "code",
      "execution_count": 20,
      "metadata": {
        "id": "8vBpPvnaG5Mb"
      },
      "outputs": [
        {
          "name": "stdout",
          "output_type": "stream",
          "text": [
            "[Errno 17] File exists: 'outputs/ml_pipeline/predict_tenure/v1'\n"
          ]
        }
      ],
      "source": [
        "import joblib\n",
        "import os\n",
        "\n",
        "version = 'v1'\n",
        "file_path = f'outputs/ml_pipeline/predict_tenure/{version}'\n",
        "\n",
        "try:\n",
        "  os.makedirs(name=file_path)\n",
        "except Exception as e:\n",
        "  print(e)"
      ]
    },
    {
      "cell_type": "markdown",
      "metadata": {
        "id": "4TvoMsi3DNw1"
      },
      "source": [
        "## Train Set: features and target"
      ]
    },
    {
      "cell_type": "code",
      "execution_count": 21,
      "metadata": {
        "id": "yJHmwyqgDOr1"
      },
      "outputs": [
        {
          "data": {
            "text/html": [
              "<div>\n",
              "<style scoped>\n",
              "    .dataframe tbody tr th:only-of-type {\n",
              "        vertical-align: middle;\n",
              "    }\n",
              "\n",
              "    .dataframe tbody tr th {\n",
              "        vertical-align: top;\n",
              "    }\n",
              "\n",
              "    .dataframe thead th {\n",
              "        text-align: right;\n",
              "    }\n",
              "</style>\n",
              "<table border=\"1\" class=\"dataframe\">\n",
              "  <thead>\n",
              "    <tr style=\"text-align: right;\">\n",
              "      <th></th>\n",
              "      <th>Length</th>\n",
              "      <th>Height</th>\n",
              "      <th>AUW</th>\n",
              "      <th>MEW</th>\n",
              "      <th>FW</th>\n",
              "      <th>Vmax</th>\n",
              "      <th>Vcruise</th>\n",
              "      <th>Vstall</th>\n",
              "      <th>Range</th>\n",
              "      <th>Hmax</th>\n",
              "      <th>ROC</th>\n",
              "      <th>Vlo</th>\n",
              "      <th>Slo</th>\n",
              "      <th>Vl</th>\n",
              "      <th>Sl</th>\n",
              "    </tr>\n",
              "  </thead>\n",
              "  <tbody>\n",
              "    <tr>\n",
              "      <th>774</th>\n",
              "      <td>30.083333</td>\n",
              "      <td>11.250000</td>\n",
              "      <td>4318.0</td>\n",
              "      <td>2900.0</td>\n",
              "      <td>1011.7</td>\n",
              "      <td>265.0</td>\n",
              "      <td>262.0</td>\n",
              "      <td>60.000000</td>\n",
              "      <td>1000.0</td>\n",
              "      <td>27000.0</td>\n",
              "      <td>3000.0</td>\n",
              "      <td>1200.000000</td>\n",
              "      <td>800.000000</td>\n",
              "      <td>1000.000000</td>\n",
              "      <td>800.000000</td>\n",
              "    </tr>\n",
              "    <tr>\n",
              "      <th>467</th>\n",
              "      <td>35.166667</td>\n",
              "      <td>14.250000</td>\n",
              "      <td>7394.0</td>\n",
              "      <td>4629.0</td>\n",
              "      <td>6032.0</td>\n",
              "      <td>330.0</td>\n",
              "      <td>252.0</td>\n",
              "      <td>91.828552</td>\n",
              "      <td>1730.0</td>\n",
              "      <td>31000.0</td>\n",
              "      <td>1653.0</td>\n",
              "      <td>2423.542163</td>\n",
              "      <td>2380.000000</td>\n",
              "      <td>2152.050052</td>\n",
              "      <td>2430.000000</td>\n",
              "    </tr>\n",
              "    <tr>\n",
              "      <th>668</th>\n",
              "      <td>29.833333</td>\n",
              "      <td>11.333333</td>\n",
              "      <td>6000.0</td>\n",
              "      <td>3650.0</td>\n",
              "      <td>1742.0</td>\n",
              "      <td>274.0</td>\n",
              "      <td>257.0</td>\n",
              "      <td>77.516253</td>\n",
              "      <td>1484.0</td>\n",
              "      <td>30000.0</td>\n",
              "      <td>1556.0</td>\n",
              "      <td>2635.000000</td>\n",
              "      <td>1784.744942</td>\n",
              "      <td>2659.000000</td>\n",
              "      <td>1437.406264</td>\n",
              "    </tr>\n",
              "    <tr>\n",
              "      <th>669</th>\n",
              "      <td>29.583333</td>\n",
              "      <td>11.333333</td>\n",
              "      <td>5092.0</td>\n",
              "      <td>3417.0</td>\n",
              "      <td>1139.0</td>\n",
              "      <td>260.0</td>\n",
              "      <td>245.0</td>\n",
              "      <td>69.000000</td>\n",
              "      <td>1000.0</td>\n",
              "      <td>30000.0</td>\n",
              "      <td>1556.0</td>\n",
              "      <td>2438.000000</td>\n",
              "      <td>1650.000000</td>\n",
              "      <td>2110.000000</td>\n",
              "      <td>1020.000000</td>\n",
              "    </tr>\n",
              "    <tr>\n",
              "      <th>470</th>\n",
              "      <td>34.916667</td>\n",
              "      <td>14.333333</td>\n",
              "      <td>7394.0</td>\n",
              "      <td>4651.0</td>\n",
              "      <td>1887.0</td>\n",
              "      <td>345.0</td>\n",
              "      <td>333.0</td>\n",
              "      <td>86.985250</td>\n",
              "      <td>1360.0</td>\n",
              "      <td>31000.0</td>\n",
              "      <td>1500.0</td>\n",
              "      <td>3273.534152</td>\n",
              "      <td>2832.000000</td>\n",
              "      <td>2332.550212</td>\n",
              "      <td>2427.000000</td>\n",
              "    </tr>\n",
              "  </tbody>\n",
              "</table>\n",
              "</div>"
            ],
            "text/plain": [
              "        Length     Height     AUW     MEW      FW   Vmax  Vcruise     Vstall  \\\n",
              "774  30.083333  11.250000  4318.0  2900.0  1011.7  265.0    262.0  60.000000   \n",
              "467  35.166667  14.250000  7394.0  4629.0  6032.0  330.0    252.0  91.828552   \n",
              "668  29.833333  11.333333  6000.0  3650.0  1742.0  274.0    257.0  77.516253   \n",
              "669  29.583333  11.333333  5092.0  3417.0  1139.0  260.0    245.0  69.000000   \n",
              "470  34.916667  14.333333  7394.0  4651.0  1887.0  345.0    333.0  86.985250   \n",
              "\n",
              "      Range     Hmax     ROC          Vlo          Slo           Vl  \\\n",
              "774  1000.0  27000.0  3000.0  1200.000000   800.000000  1000.000000   \n",
              "467  1730.0  31000.0  1653.0  2423.542163  2380.000000  2152.050052   \n",
              "668  1484.0  30000.0  1556.0  2635.000000  1784.744942  2659.000000   \n",
              "669  1000.0  30000.0  1556.0  2438.000000  1650.000000  2110.000000   \n",
              "470  1360.0  31000.0  1500.0  3273.534152  2832.000000  2332.550212   \n",
              "\n",
              "              Sl  \n",
              "774   800.000000  \n",
              "467  2430.000000  \n",
              "668  1437.406264  \n",
              "669  1020.000000  \n",
              "470  2427.000000  "
            ]
          },
          "execution_count": 21,
          "metadata": {},
          "output_type": "execute_result"
        }
      ],
      "source": [
        "X_train.head()"
      ]
    },
    {
      "cell_type": "code",
      "execution_count": 22,
      "metadata": {},
      "outputs": [],
      "source": [
        "X_train.head().to_csv('outputs/ml_pipeline/predict_analysis/X_train_head.csv', index=False)"
      ]
    },
    {
      "cell_type": "code",
      "execution_count": 23,
      "metadata": {
        "id": "yh6w6R7tDOvM"
      },
      "outputs": [],
      "source": [
        "# Delete!!!!!!!!!!!!!!\n",
        "# X_train.to_csv(f\"{file_path}/X_train.csv\", index=False)"
      ]
    },
    {
      "cell_type": "code",
      "execution_count": 24,
      "metadata": {
        "id": "pB6pjmAcDOym"
      },
      "outputs": [
        {
          "data": {
            "text/plain": [
              "774    43.000000\n",
              "467    42.083333\n",
              "668    43.250000\n",
              "669    43.000000\n",
              "470    41.583333\n",
              "28     59.200000\n",
              "300    51.666667\n",
              "825    33.416667\n",
              "776    37.833333\n",
              "68     57.916667\n",
              "34     45.083333\n",
              "31     50.000000\n",
              "629    53.250000\n",
              "71     57.916667\n",
              "62     44.416667\n",
              "741    45.000000\n",
              "30     50.000000\n",
              "12     42.416667\n",
              "670    43.000000\n",
              "469    41.583333\n",
              "302    52.083333\n",
              "Name: Wing_Span, dtype: float64"
            ]
          },
          "execution_count": 24,
          "metadata": {},
          "output_type": "execute_result"
        }
      ],
      "source": [
        "y_train"
      ]
    },
    {
      "cell_type": "code",
      "execution_count": 25,
      "metadata": {},
      "outputs": [],
      "source": [
        "y_train.to_csv('outputs/ml_pipeline/predict_analysis/y_train.csv', index=False)"
      ]
    },
    {
      "cell_type": "code",
      "execution_count": 26,
      "metadata": {
        "id": "ZZ93HN6cDPBN"
      },
      "outputs": [],
      "source": [
        "# Delete!!!!!!!!!!!!!!\n",
        "# y_train.to_csv(f\"{file_path}/y_train.csv\", index=False)"
      ]
    },
    {
      "cell_type": "markdown",
      "metadata": {
        "id": "aVbS3OnRDYtJ"
      },
      "source": [
        "## Test Set: features and target"
      ]
    },
    {
      "cell_type": "code",
      "execution_count": 27,
      "metadata": {
        "id": "XbgF38n1DaPp"
      },
      "outputs": [
        {
          "data": {
            "text/html": [
              "<div>\n",
              "<style scoped>\n",
              "    .dataframe tbody tr th:only-of-type {\n",
              "        vertical-align: middle;\n",
              "    }\n",
              "\n",
              "    .dataframe tbody tr th {\n",
              "        vertical-align: top;\n",
              "    }\n",
              "\n",
              "    .dataframe thead th {\n",
              "        text-align: right;\n",
              "    }\n",
              "</style>\n",
              "<table border=\"1\" class=\"dataframe\">\n",
              "  <thead>\n",
              "    <tr style=\"text-align: right;\">\n",
              "      <th></th>\n",
              "      <th>Length</th>\n",
              "      <th>Height</th>\n",
              "      <th>AUW</th>\n",
              "      <th>MEW</th>\n",
              "      <th>FW</th>\n",
              "      <th>Vmax</th>\n",
              "      <th>Vcruise</th>\n",
              "      <th>Vstall</th>\n",
              "      <th>Range</th>\n",
              "      <th>Hmax</th>\n",
              "      <th>ROC</th>\n",
              "      <th>Vlo</th>\n",
              "      <th>Slo</th>\n",
              "      <th>Vl</th>\n",
              "      <th>Sl</th>\n",
              "    </tr>\n",
              "  </thead>\n",
              "  <tbody>\n",
              "    <tr>\n",
              "      <th>29</th>\n",
              "      <td>33.500000</td>\n",
              "      <td>12.166667</td>\n",
              "      <td>12500.0</td>\n",
              "      <td>5829.0</td>\n",
              "      <td>1447.2</td>\n",
              "      <td>158.0</td>\n",
              "      <td>126.0</td>\n",
              "      <td>52.000000</td>\n",
              "      <td>600.0</td>\n",
              "      <td>8000.000000</td>\n",
              "      <td>650.0</td>\n",
              "      <td>1756.907849</td>\n",
              "      <td>1830.0</td>\n",
              "      <td>1949.973315</td>\n",
              "      <td>1634.223699</td>\n",
              "    </tr>\n",
              "    <tr>\n",
              "      <th>775</th>\n",
              "      <td>30.083333</td>\n",
              "      <td>11.250000</td>\n",
              "      <td>4318.0</td>\n",
              "      <td>2900.0</td>\n",
              "      <td>1011.7</td>\n",
              "      <td>254.0</td>\n",
              "      <td>250.0</td>\n",
              "      <td>60.000000</td>\n",
              "      <td>1000.0</td>\n",
              "      <td>27000.000000</td>\n",
              "      <td>2500.0</td>\n",
              "      <td>1200.000000</td>\n",
              "      <td>800.0</td>\n",
              "      <td>1000.000000</td>\n",
              "      <td>800.000000</td>\n",
              "    </tr>\n",
              "    <tr>\n",
              "      <th>468</th>\n",
              "      <td>35.166667</td>\n",
              "      <td>14.250000</td>\n",
              "      <td>7394.0</td>\n",
              "      <td>4629.0</td>\n",
              "      <td>1949.7</td>\n",
              "      <td>330.0</td>\n",
              "      <td>252.0</td>\n",
              "      <td>87.442146</td>\n",
              "      <td>1730.0</td>\n",
              "      <td>31000.000000</td>\n",
              "      <td>1653.0</td>\n",
              "      <td>2868.520976</td>\n",
              "      <td>2380.0</td>\n",
              "      <td>2483.538114</td>\n",
              "      <td>2430.000000</td>\n",
              "    </tr>\n",
              "    <tr>\n",
              "      <th>471</th>\n",
              "      <td>34.916667</td>\n",
              "      <td>14.333333</td>\n",
              "      <td>6579.0</td>\n",
              "      <td>4050.0</td>\n",
              "      <td>1887.0</td>\n",
              "      <td>300.0</td>\n",
              "      <td>291.0</td>\n",
              "      <td>61.000000</td>\n",
              "      <td>1563.0</td>\n",
              "      <td>30000.000000</td>\n",
              "      <td>2380.0</td>\n",
              "      <td>1591.000000</td>\n",
              "      <td>1017.0</td>\n",
              "      <td>2034.000000</td>\n",
              "      <td>1181.000000</td>\n",
              "    </tr>\n",
              "    <tr>\n",
              "      <th>32</th>\n",
              "      <td>45.264445</td>\n",
              "      <td>15.784063</td>\n",
              "      <td>7860.0</td>\n",
              "      <td>3739.0</td>\n",
              "      <td>1139.0</td>\n",
              "      <td>122.0</td>\n",
              "      <td>105.0</td>\n",
              "      <td>46.000000</td>\n",
              "      <td>574.0</td>\n",
              "      <td>16880.470889</td>\n",
              "      <td>1000.0</td>\n",
              "      <td>1345.778506</td>\n",
              "      <td>810.0</td>\n",
              "      <td>1517.532366</td>\n",
              "      <td>871.472430</td>\n",
              "    </tr>\n",
              "  </tbody>\n",
              "</table>\n",
              "</div>"
            ],
            "text/plain": [
              "        Length     Height      AUW     MEW      FW   Vmax  Vcruise     Vstall  \\\n",
              "29   33.500000  12.166667  12500.0  5829.0  1447.2  158.0    126.0  52.000000   \n",
              "775  30.083333  11.250000   4318.0  2900.0  1011.7  254.0    250.0  60.000000   \n",
              "468  35.166667  14.250000   7394.0  4629.0  1949.7  330.0    252.0  87.442146   \n",
              "471  34.916667  14.333333   6579.0  4050.0  1887.0  300.0    291.0  61.000000   \n",
              "32   45.264445  15.784063   7860.0  3739.0  1139.0  122.0    105.0  46.000000   \n",
              "\n",
              "      Range          Hmax     ROC          Vlo     Slo           Vl  \\\n",
              "29    600.0   8000.000000   650.0  1756.907849  1830.0  1949.973315   \n",
              "775  1000.0  27000.000000  2500.0  1200.000000   800.0  1000.000000   \n",
              "468  1730.0  31000.000000  1653.0  2868.520976  2380.0  2483.538114   \n",
              "471  1563.0  30000.000000  2380.0  1591.000000  1017.0  2034.000000   \n",
              "32    574.0  16880.470889  1000.0  1345.778506   810.0  1517.532366   \n",
              "\n",
              "              Sl  \n",
              "29   1634.223699  \n",
              "775   800.000000  \n",
              "468  2430.000000  \n",
              "471  1181.000000  \n",
              "32    871.472430  "
            ]
          },
          "execution_count": 27,
          "metadata": {},
          "output_type": "execute_result"
        }
      ],
      "source": [
        "X_test.head()"
      ]
    },
    {
      "cell_type": "code",
      "execution_count": 28,
      "metadata": {},
      "outputs": [],
      "source": [
        "X_test.head().to_csv('outputs/ml_pipeline/predict_analysis/X_test_head.csv', index=False)"
      ]
    },
    {
      "cell_type": "code",
      "execution_count": 29,
      "metadata": {
        "id": "x9lM0xDvDaVZ"
      },
      "outputs": [],
      "source": [
        "# X_test.to_csv(f\"{file_path}/X_test.csv\", index=False)"
      ]
    },
    {
      "cell_type": "code",
      "execution_count": 30,
      "metadata": {
        "id": "5Jz66iMaDacI"
      },
      "outputs": [
        {
          "data": {
            "text/plain": [
              "29     56.000000\n",
              "775    43.000000\n",
              "468    42.083333\n",
              "471    41.583333\n",
              "32     49.000000\n",
              "301    52.083333\n",
              "Name: Wing_Span, dtype: float64"
            ]
          },
          "execution_count": 30,
          "metadata": {},
          "output_type": "execute_result"
        }
      ],
      "source": [
        "y_test"
      ]
    },
    {
      "cell_type": "code",
      "execution_count": 31,
      "metadata": {},
      "outputs": [],
      "source": [
        "y_test.to_csv('outputs/ml_pipeline/predict_analysis/y_test.csv', index=False)"
      ]
    },
    {
      "cell_type": "code",
      "execution_count": 32,
      "metadata": {
        "id": "weYaJ4UxDake"
      },
      "outputs": [],
      "source": [
        "#y_test.to_csv(f\"{file_path}/y_test.csv\", index=False)"
      ]
    },
    {
      "cell_type": "markdown",
      "metadata": {
        "id": "U-XpkYAPFncu"
      },
      "source": [
        "## Modelling pipeline"
      ]
    },
    {
      "cell_type": "markdown",
      "metadata": {
        "id": "xLmFFWF6RGo6"
      },
      "source": [
        "ML pipeline for predicting tenure"
      ]
    },
    {
      "cell_type": "code",
      "execution_count": 33,
      "metadata": {
        "id": "vQkr4rcrHDnn"
      },
      "outputs": [],
      "source": [
        "# pipeline_clf"
      ]
    },
    {
      "cell_type": "code",
      "execution_count": 34,
      "metadata": {
        "id": "YrZPif2aHdyO"
      },
      "outputs": [],
      "source": [
        "# joblib.dump(value=pipeline_clf, filename=f\"{file_path}/clf_pipeline.pkl\")"
      ]
    },
    {
      "cell_type": "markdown",
      "metadata": {
        "id": "LUCrXGvUFpeB"
      },
      "source": [
        "## List  mapping target levels to ranges"
      ]
    },
    {
      "cell_type": "markdown",
      "metadata": {
        "id": "TFkAKp0eRMYM"
      },
      "source": [
        "Map for converting numerical variable to categorical variable"
      ]
    },
    {
      "cell_type": "code",
      "execution_count": 35,
      "metadata": {
        "id": "V6HfkzarHHbW"
      },
      "outputs": [],
      "source": [
        "# label_map"
      ]
    },
    {
      "cell_type": "code",
      "execution_count": 36,
      "metadata": {
        "id": "TPEpdAgPHQaL"
      },
      "outputs": [],
      "source": [
        "# joblib.dump(value=label_map, filename=f\"{file_path}/label_map.pkl\")"
      ]
    },
    {
      "cell_type": "markdown",
      "metadata": {
        "id": "tTJlYRC5Q2wJ"
      },
      "source": [
        "## Feature importance plot"
      ]
    },
    {
      "cell_type": "code",
      "execution_count": 37,
      "metadata": {
        "id": "0SfLH05-Q2D8"
      },
      "outputs": [],
      "source": [
        "# df_feature_importance.plot(kind='bar', x='Feature', y='Importance')\n",
        "# plt.show()"
      ]
    },
    {
      "cell_type": "code",
      "execution_count": 38,
      "metadata": {
        "id": "R-Hc2H3dQ74Z"
      },
      "outputs": [],
      "source": [
        "# df_feature_importance.plot(kind='bar',x='Feature',y='Importance')\n",
        "# plt.savefig(f'{file_path}/features_importance.png', bbox_inches='tight')"
      ]
    },
    {
      "cell_type": "markdown",
      "metadata": {
        "id": "Sh0SKfv_s-3V"
      },
      "source": [
        "Good job! Clear cell's outputs, push to the repo using git commands and move on to the next notebook"
      ]
    },
    {
      "cell_type": "markdown",
      "metadata": {},
      "source": [
        "---"
      ]
    }
  ],
  "metadata": {
    "accelerator": "GPU",
    "colab": {
      "name": "Modeling and Evaluation - Predict Tenure.ipynb",
      "provenance": []
    },
    "kernelspec": {
      "display_name": "Python 3",
      "language": "python",
      "name": "python3"
    },
    "language_info": {
      "codemirror_mode": {
        "name": "ipython",
        "version": 3
      },
      "file_extension": ".py",
      "mimetype": "text/x-python",
      "name": "python",
      "nbconvert_exporter": "python",
      "pygments_lexer": "ipython3",
      "version": "3.8.18"
    },
    "orig_nbformat": 2,
    "vscode": {
      "interpreter": {
        "hash": "8b8334dab9339717f727a1deaf837b322d7a41c20d15cc86be99a8e69ceec8ce"
      }
    }
  },
  "nbformat": 4,
  "nbformat_minor": 2
}
