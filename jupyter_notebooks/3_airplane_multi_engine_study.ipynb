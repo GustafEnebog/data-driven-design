{
  "cells": [
    {
      "cell_type": "markdown",
      "metadata": {
        "id": "0aStgWSO0E0E"
      },
      "source": [
        "# **Airplane Engine Type Study Notebook**"
      ]
    },
    {
      "cell_type": "markdown",
      "metadata": {
        "id": "1eLEkw5O0ECa"
      },
      "source": [
        "## Objectives\n",
        "\n",
        "*   Answer business requirement 1: \n",
        "    * The client is interested to understand the patterns between an airplanes design features and its Performance features, so that the client can learn which are the most relevant variables to consider when choosing **Engine Type** (jet, piston or propjet) in the design process of a new airplane.\n",
        "\n",
        "## Inputs\n",
        "\n",
        "* outputs/datasets/collection/airplane_performance_study.csv\n",
        "\n",
        "## Outputs\n",
        "\n",
        "* generate code that answers business requirement 1 and can be used to build the Streamlit App\n",
        "\n",
        "\n",
        "\n",
        "\n"
      ]
    },
    {
      "cell_type": "markdown",
      "metadata": {
        "id": "9uWZXH9LwoQg"
      },
      "source": [
        "---"
      ]
    },
    {
      "cell_type": "markdown",
      "metadata": {},
      "source": [
        "# Change working directory"
      ]
    },
    {
      "cell_type": "markdown",
      "metadata": {},
      "source": [
        "Access the current directory with os.getcwd()"
      ]
    },
    {
      "cell_type": "code",
      "execution_count": null,
      "metadata": {},
      "outputs": [],
      "source": [
        "import os\n",
        "current_dir = os.getcwd()\n",
        "current_dir"
      ]
    },
    {
      "cell_type": "markdown",
      "metadata": {},
      "source": [
        "Make the parent of the current directory the new current directory"
      ]
    },
    {
      "cell_type": "code",
      "execution_count": null,
      "metadata": {},
      "outputs": [],
      "source": [
        "os.chdir(os.path.dirname(current_dir))\n",
        "print(\"You set a new current directory\")"
      ]
    },
    {
      "cell_type": "markdown",
      "metadata": {},
      "source": [
        "Confirm the new current directory"
      ]
    },
    {
      "cell_type": "code",
      "execution_count": null,
      "metadata": {},
      "outputs": [],
      "source": [
        "current_dir = os.getcwd()\n",
        "current_dir"
      ]
    },
    {
      "cell_type": "markdown",
      "metadata": {
        "id": "_tdAGw4Zwssu"
      },
      "source": [
        "---"
      ]
    },
    {
      "cell_type": "markdown",
      "metadata": {
        "id": "t2oPUd1K_qCr"
      },
      "source": [
        "# Load Data"
      ]
    },
    {
      "cell_type": "markdown",
      "metadata": {},
      "source": [
        "* We drop the columns with Meta Data 'Model' and 'Company' since these are identifier variables not needed for the study\n",
        "* Dropping the two Engine \"size\" features 'THR' (Force with unit lbf) and 'SHP' (Power with unit SHP). The \"THR\" column is occupied (otherwise showing NaN) when the \"Engine Type\" is categorized with Jet and the same goes for the \"SHP\" when the \"Engine Type\" is categorized with piston or propjet. These two features () are interesting from an Aircraft Design perspective but since these are different quantities with different units they become difficult and awkward to compare with each other.\n",
        "\n",
        "* We can see that THR (Thrust) is not present in lower velocities regime simply because Jet powered airplanes which are measured in THR are not flying in this velocity regime. With the same reasoning the SHP (Shaft Horse Power) represented piston (propeller driven) powered airplanes which flies in the lower velocity regime.\n",
        "\n",
        "<img src=\"/workspace/data-driven-design/images_notebook/THR_SHP_kaggle.png\" alt=\"Screenshot showing distribution between Cessna and Piper\" height=\"200\" />"
      ]
    },
    {
      "cell_type": "code",
      "execution_count": null,
      "metadata": {
        "colab": {
          "base_uri": "https://localhost:8080/"
        },
        "id": "oqqga261_w4N",
        "outputId": "a936deda-749e-4926-c6a0-c857edfb43ae"
      },
      "outputs": [],
      "source": [
        "import pandas as pd\n",
        "df = (pd.read_csv(\"/workspace/data-driven-design/outputs/datasets/collection/airplane_performance_study.csv\")\n",
        "    .drop(['Model', 'Company', 'THR', 'SHP'], axis=1))\n",
        "df.head(10)"
      ]
    },
    {
      "cell_type": "markdown",
      "metadata": {
        "id": "xsBHpBFJ0ZFa"
      },
      "source": [
        "# Data Exploration"
      ]
    },
    {
      "cell_type": "markdown",
      "metadata": {},
      "source": [
        "We are interested to get more familiar with the dataset, check variable type and distribution, missing levels and what these variables mean in the business context of Airplane Design."
      ]
    },
    {
      "cell_type": "markdown",
      "metadata": {},
      "source": [
        "* Data set is dominated by numerical/quantitative, continous data and only three categorical features:\n",
        "  * Multi Engine\n",
        "  * TP mods\n",
        "  * Engine Type\n",
        "* The categorical data could be considered nominal since the categories simply represent different propulsion cases however they could also be considered ordinal since Multiple Engines are \"more\" than a single Engine, that a modified Engine could represent an improved engine and that a Jet Engine has many advantages over Piston etc."
      ]
    },
    {
      "cell_type": "code",
      "execution_count": null,
      "metadata": {
        "id": "ncii4qR90aS1"
      },
      "outputs": [],
      "source": [
        "from ydata_profiling import ProfileReport\n",
        "pandas_report = ProfileReport(df=df, minimal=True)\n",
        "pandas_report.to_notebook_iframe()"
      ]
    },
    {
      "cell_type": "markdown",
      "metadata": {
        "id": "DceTmVKMzHZV"
      },
      "source": [
        "# Correlation Study"
      ]
    },
    {
      "cell_type": "code",
      "execution_count": null,
      "metadata": {},
      "outputs": [],
      "source": [
        "# Check the data types\n",
        "print(df.dtypes)"
      ]
    },
    {
      "cell_type": "markdown",
      "metadata": {},
      "source": [
        "Converting data type of Multi Engine to object and checking if the conversion was successfull"
      ]
    },
    {
      "cell_type": "code",
      "execution_count": null,
      "metadata": {},
      "outputs": [],
      "source": [
        "# Convert to categorical type\n",
        "df['Multi_Engine'] = df['Multi_Engine'].astype('object')\n",
        "\n",
        "# Verify the conversion\n",
        "df['Multi_Engine'].dtype\n"
      ]
    },
    {
      "cell_type": "code",
      "execution_count": null,
      "metadata": {},
      "outputs": [],
      "source": [
        "from feature_engine.encoding import OneHotEncoder\n",
        "\n",
        "encoder = OneHotEncoder(variables='Multi_Engine', drop_last=False)\n",
        "df_ohe = encoder.fit_transform(df)\n",
        "df_ohe.head(3)"
      ]
    },
    {
      "cell_type": "code",
      "execution_count": null,
      "metadata": {},
      "outputs": [],
      "source": [
        "# Get column names\n",
        "column_names = df_ohe.columns\n",
        "print(column_names)"
      ]
    },
    {
      "cell_type": "markdown",
      "metadata": {},
      "source": [
        "Convert the column names created by the onehotencoder to make the table more intuitive to read."
      ]
    },
    {
      "cell_type": "markdown",
      "metadata": {},
      "source": [
        "Reference to below fix: https://pandas.pydata.org/pandas-docs/stable/user_guide/indexing.html#returning-a-view-versus-a-copy"
      ]
    },
    {
      "cell_type": "code",
      "execution_count": null,
      "metadata": {},
      "outputs": [],
      "source": [
        "# Bugfix: Make a copy\n",
        "df_ohe = df_ohe.copy()\n",
        "\n",
        "# Replace column name\n",
        "df_ohe.rename(columns={'Multi_Engine_False': 'Single_Engine'}, inplace=True)\n",
        "df_ohe.rename(columns={'Multi_Engine_True': 'Multi_Engine'}, inplace=True)\n",
        "\n",
        "df_ohe.head(3)\n"
      ]
    },
    {
      "cell_type": "markdown",
      "metadata": {},
      "source": [
        "### Using \"Engine Type\" as target variable"
      ]
    },
    {
      "cell_type": "markdown",
      "metadata": {},
      "source": [
        "We are using the One Hot Encoder on the categorical features (\"Engine Type\", \"Multi Engine\") to \n",
        "\"Avoids Ordinal Relationships\" (One hot encoding prevents the model from assuming any ordinal relationship between the categories. Make sure the datatype is either object or category (othervise the OneHotEncoder will not work!)"
      ]
    },
    {
      "cell_type": "markdown",
      "metadata": {
        "id": "6a7e-64OzeP0"
      },
      "source": [
        "We use `.corr()` for `spearman` and `pearson` methods, and investigate the top 10 correlations."
      ]
    },
    {
      "cell_type": "markdown",
      "metadata": {},
      "source": [
        "Calculate Pearson to check the Linear relationship between variables"
      ]
    },
    {
      "cell_type": "code",
      "execution_count": null,
      "metadata": {},
      "outputs": [],
      "source": [
        "# Step 1: Select relevant numeric columns (excluding 'Multi Engine' if needed)\n",
        "df_subset = df_ohe.select_dtypes(include=['float64', 'int64'])\n",
        "\n",
        "# Step 2: Calculate Pearson correlation with 'Single Engine' as well as 'Multi Engine'\n",
        "corr_pearson_single_engine = df_subset.corr(method='pearson')['Single_Engine'].sort_values(key=abs, ascending=False)[1:].head(10)\n",
        "corr_pearson_multi_engine = df_subset.corr(method='pearson')['Multi_Engine'].sort_values(key=abs, ascending=False)[1:].head(10)\n",
        "\n",
        "# Drop \"Single Engine\" and \"Multi Engine\" from the Series if they exist\n",
        "corr_pearson_single_engine = corr_pearson_single_engine.drop(['Multi_Engine'], errors='ignore')\n",
        "corr_pearson_multi_engine = corr_pearson_multi_engine.drop(['Single_Engine'], errors='ignore')\n",
        "\n",
        "# Now print the remaining correlations\n",
        "print(corr_pearson_single_engine)"
      ]
    },
    {
      "cell_type": "markdown",
      "metadata": {},
      "source": [
        "Do the same for `spearman` to check the Monotonic relationship between variables"
      ]
    },
    {
      "cell_type": "code",
      "execution_count": null,
      "metadata": {},
      "outputs": [],
      "source": [
        "# Step 1: Select relevant numeric columns (excluding 'Multi Engine' if needed)\n",
        "df_subset = df_ohe.select_dtypes(include=['float64', 'int64'])\n",
        "\n",
        "# Step 2: Calculate Pearson correlation with 'Single Engine' as well as 'Multi Engine'\n",
        "corr_spearman_single_engine = df_subset.corr(method='spearman')['Single_Engine'].sort_values(key=abs, ascending=False)[1:].head(10)\n",
        "corr_spearman_multi_engine = df_subset.corr(method='spearman')['Multi_Engine'].sort_values(key=abs, ascending=False)[1:].head(10)\n",
        "\n",
        "# Drop \"Single Engine\" and \"Multi Engine\" from the Series if they exist\n",
        "corr_spearman_single_engine = corr_spearman_single_engine.drop(['Multi_Engine'], errors='ignore')\n",
        "corr_spearman_multi_engine = corr_spearman_multi_engine.drop(['Single_Engine'], errors='ignore')\n",
        "\n",
        "# Now print the remaining correlations\n",
        "print(corr_pearson_single_engine)"
      ]
    },
    {
      "cell_type": "markdown",
      "metadata": {
        "id": "KHrTrQYO0px_"
      },
      "source": [
        "For both methods, we notice moderate or strong levels of correlation between multi engine and a given variable. This is good news since we Ideally pursue strong correlation levels. We will consider the top five correlation levels at `df_ohe` and will study the associated variables at `df`"
      ]
    },
    {
      "cell_type": "code",
      "execution_count": null,
      "metadata": {
        "colab": {
          "base_uri": "https://localhost:8080/"
        },
        "id": "A-5y4MY71Nk5",
        "outputId": "fe686228-8176-4310-e538-b6e4c7100bdf"
      },
      "outputs": [],
      "source": [
        "top_n = 5\n",
        "set(corr_pearson_single_engine[:top_n].index.to_list() + corr_pearson_single_engine[:top_n].index.to_list())\n",
        "set(corr_pearson_multi_engine[:top_n].index.to_list() + corr_pearson_multi_engine[:top_n].index.to_list())"
      ]
    },
    {
      "cell_type": "markdown",
      "metadata": {
        "id": "0vz-wC9e2I-z"
      },
      "source": [
        "Therefore (by looking on the sign before the correlation values we can determine if one increases or decreases as the target, Multi Engine, increases). We will investigate if:\n",
        "* A multi engined airplane typically has a higher Hmax than a single engined airplane\n",
        "* A multi engined airplane typically has a higher Vcruise than a single engined airplane\n",
        "* A multi engined airplane typically has a higher Vl than a single engined airplane\n",
        "* A multi engined airplane typically has a higher Vmax than a single engined airplane\n",
        "* A multi engined airplane typically has a higher Vstall than a single engined airplane"
      ]
    },
    {
      "cell_type": "markdown",
      "metadata": {},
      "source": [
        "We suspect Airplanes with Multiple Engines are Higher, Further,\n",
        "Faster as the slogan goes: Correct. The correlation study in the\n",
        "'Multi Engine Airplane Study' supports that.\n",
        "\n",
        "The study of the Airplane data showed a general Performance\n",
        "increase in Service Ceiling (Hmax), Range, Cruise and Max speed\n",
        "(Vcruise an Vmax), but also on the negative side: a higher \n",
        "landing speed and stall speed (Vl and Vstall).\n",
        "This insight will enter into the Conceptual Design Prediction\n",
        "tools.\""
      ]
    },
    {
      "cell_type": "code",
      "execution_count": null,
      "metadata": {
        "colab": {
          "base_uri": "https://localhost:8080/"
        },
        "id": "iHKRE6E32NPv",
        "outputId": "39ab0829-d47b-4c62-e7e2-859574080737"
      },
      "outputs": [],
      "source": [
        "vars_to_study = ['Hmax', 'Vcruise', 'Vl', 'Vmax', 'Vstall']\n",
        "vars_to_study"
      ]
    },
    {
      "cell_type": "markdown",
      "metadata": {
        "id": "IV2d12vC0Puq"
      },
      "source": [
        "# EDA on selected variables"
      ]
    },
    {
      "cell_type": "code",
      "execution_count": null,
      "metadata": {
        "colab": {
          "base_uri": "https://localhost:8080/",
          "height": 419
        },
        "id": "wpIgK8rxAbdR",
        "outputId": "e11c7684-df93-4e53-b8e4-dd287c4ce915"
      },
      "outputs": [],
      "source": [
        "df_eda = df.filter(vars_to_study + ['Multi_Engine'])\n",
        "df_eda.head(30)"
      ]
    },
    {
      "cell_type": "markdown",
      "metadata": {
        "id": "y7NNXfA10mx2"
      },
      "source": [
        "## Variables Distribution by Multi Engine "
      ]
    },
    {
      "cell_type": "markdown",
      "metadata": {
        "id": "GIITMZ-3AGoY"
      },
      "source": [
        "We plot the distribution (numerical and categorical) coloured by Multi Engine"
      ]
    },
    {
      "cell_type": "code",
      "execution_count": 16,
      "metadata": {},
      "outputs": [],
      "source": [
        "%matplotlib inline"
      ]
    },
    {
      "cell_type": "markdown",
      "metadata": {},
      "source": [
        "---"
      ]
    },
    {
      "cell_type": "code",
      "execution_count": 17,
      "metadata": {},
      "outputs": [],
      "source": [
        "# Code copied from \"3A_airplane_engine_type_study\" notebook - \"Variables Distribution by Multi Engine\"-section\n",
        "def plot_numerical(df, col, target_var):\n",
        "    fig, ax = plt.subplots(figsize=(8, 5))  # Create a figure and axis\n",
        "    sns.histplot(data=df, x=col, hue=target_var, kde=True, element=\"step\", ax=ax)  # Pass ax to the plot\n",
        "    ax.set_title(f\"{col}\", fontsize=20, y=1.05)\n",
        "    st.pyplot(fig)  # Pass the figure to st.pyplot()\n",
        "\n",
        "# Code copied from \"3A_airplane_engine_type_study\" notebook - \"Variables Distribution by Multi Engine\"-section\n",
        "def multi_engine_per_feature(df_eda, vars_to_study):\n",
        "    target_var = 'Multi_Engine'\n",
        "    for col in vars_to_study:\n",
        "        plot_numerical(df_eda, col, target_var)\n",
        "        print(\"\\n\\n\")"
      ]
    },
    {
      "cell_type": "code",
      "execution_count": null,
      "metadata": {
        "id": "ensdFklI3Vbn"
      },
      "outputs": [],
      "source": [
        "import matplotlib.pyplot as plt\n",
        "import seaborn as sns\n",
        "sns.set_style('whitegrid')\n",
        "\n",
        "\n",
        "def plot_numerical(df, col, target_var):\n",
        "    plt.figure(figsize=(8, 5))\n",
        "    sns.histplot(data=df, x=col, hue=target_var, kde=True, element=\"step\")\n",
        "    plt.title(f\"{col}\", fontsize=20, y=1.05)\n",
        "    plt.show()\n",
        "\n",
        "\n",
        "target_var = 'Multi_Engine'\n",
        "for col in vars_to_study:\n",
        "    plot_numerical(df_eda, col, target_var)\n",
        "    print(\"\\n\\n\")\n"
      ]
    },
    {
      "cell_type": "markdown",
      "metadata": {
        "id": "qH46EnLZAfYH"
      },
      "source": [
        "---"
      ]
    },
    {
      "cell_type": "markdown",
      "metadata": {
        "id": "CopCR3yj0pbY"
      },
      "source": [
        "## Parallel Plot"
      ]
    },
    {
      "cell_type": "markdown",
      "metadata": {},
      "source": [
        "For the paralleled plot there is only relevant to include the interval which has data points and enough of data points. For this reason we cut of the lower and/or upper ends of the data range for the benefit of the paralleled Plot. However by making the first (lower) and last (upper) bin (interval) go to negative infinity and positive infinity respectively we do not throw away any values since they all enter into the plot.\n",
        "\n",
        "Extreme values can sometimes skew data but not in this case since extreme performance airplanes really *does* exist and are relevant to our analysis *need* therefore to be included to not skew the graphs. This is however not true if we desire to only predict more conservative designs. In other words: if we want a prediction for conservative and conventional airplane design, then we should not include the outliers since these typically are the result of aggressice and extreme (non-conventional) designs!\n"
      ]
    },
    {
      "cell_type": "code",
      "execution_count": null,
      "metadata": {},
      "outputs": [],
      "source": [
        "from feature_engine.discretisation import ArbitraryDiscretiser\n",
        "import numpy as np\n",
        "\n",
        "# Step 1: Define the mapping arrays\n",
        "# Maps hard coded based on inspection of the histogram plots under \"Variables Distribution by Multi Engine\" in this notebook.\n",
        "Hmax_map = [-np.Inf, 23000, 32000, 42000, 50000, np.Inf]\n",
        "Vcruise_map = [-np.Inf, 250, 350, 450, 550, np.Inf]\n",
        "Vl_map = [-np.Inf, 2000, 3000, 4000, np.Inf]\n",
        "Vmax_map = [-np.Inf, 250, 350, 450, 550, np.Inf]\n",
        "Vstall_map = [-np.Inf, 70, 90, 110, np.Inf]\n",
        "\n",
        "# Step 2: Combine all mappings into a single binning dictionary (Inbetween step necessary since we have multiple variables)\n",
        "binning_dict = {\n",
        "    'Hmax': Hmax_map,\n",
        "    'Vcruise': Vcruise_map,\n",
        "    'Vl': Vl_map,\n",
        "    'Vmax': Vmax_map,\n",
        "    'Vstall': Vstall_map\n",
        "}\n",
        "\n",
        "# Step 3: Initialize the ArbitraryDiscretiser with the combined binning dictionary\n",
        "disc = ArbitraryDiscretiser(binning_dict=binning_dict)\n",
        "\n",
        "# Step 4: Fit and transform the DataFrame\n",
        "df_parallel = disc.fit_transform(df_eda)\n",
        "\n",
        "# Display the first few rows of the transformed DataFrame\n",
        "print(df_parallel.head())\n",
        "df_parallel.head()\n"
      ]
    },
    {
      "cell_type": "code",
      "execution_count": null,
      "metadata": {},
      "outputs": [],
      "source": [
        "# Fit and transform the DataFrame\n",
        "df_parallel = disc.fit_transform(df_eda)\n",
        "\n",
        "# Access the binning dictionaries after fitting\n",
        "if hasattr(disc, 'binner_dict_'):\n",
        "    print(\"Binning dictionary for Hmax:\", disc.binner_dict_['Hmax'])\n",
        "    print(\"Binning dictionary for Vcruise:\", disc.binner_dict_['Vcruise'])\n",
        "    print(\"Binning dictionary for Vl:\", disc.binner_dict_['Vl'])\n",
        "    print(\"Binning dictionary for Vmax:\", disc.binner_dict_['Vmax'])\n",
        "    print(\"Binning dictionary for Vstall:\", disc.binner_dict_['Vstall'])\n",
        "else:\n",
        "    print(\"binner_dict_ does not exist. Please check if the discretiser was fitted successfully.\")\n"
      ]
    },
    {
      "cell_type": "markdown",
      "metadata": {
        "id": "A8SOHbD6QT-L"
      },
      "source": [
        "Create a map to replace the variable with more informative levels."
      ]
    },
    {
      "cell_type": "code",
      "execution_count": null,
      "metadata": {},
      "outputs": [],
      "source": [
        "# Assuming disc is already fitted and contains the binning dictionary\n",
        "labels_map = {}\n",
        "\n",
        "# Iterate over each variable in the binning dictionary\n",
        "for variable in disc.binner_dict_.keys():\n",
        "    classes_ranges = disc.binner_dict_[variable][1:-1]  # Exclude -Inf and +Inf\n",
        "    n_classes = len(classes_ranges) + 1  # Number of intervals/classes\n",
        "    \n",
        "    # Initialize labels for this variable\n",
        "    variable_labels = {}\n",
        "    \n",
        "    for n in range(n_classes):\n",
        "        if n == 0:\n",
        "            variable_labels[n] = f\"<{classes_ranges[0]}\"\n",
        "        elif n == n_classes - 1:\n",
        "            variable_labels[n] = f\"+{classes_ranges[-1]}\"\n",
        "        else:\n",
        "            variable_labels[n] = f\"{classes_ranges[n - 1]} to {classes_ranges[n]}\"\n",
        "    \n",
        "    # Store the labels in the main labels_map\n",
        "    labels_map[variable] = variable_labels\n",
        "\n",
        "# Output the labels map for each variable\n",
        "labels_map\n"
      ]
    },
    {
      "cell_type": "markdown",
      "metadata": {
        "id": "Q7nvRC9uQhag"
      },
      "source": [
        "Replace according to the labels_map"
      ]
    },
    {
      "cell_type": "code",
      "execution_count": null,
      "metadata": {},
      "outputs": [],
      "source": [
        "# Replace the values in df_parallel for each variable using the corresponding labels from labels_map\n",
        "for variable, labels in labels_map.items():\n",
        "    df_parallel[variable] = df_parallel[variable].replace(labels)\n",
        "\n",
        "# Display the first few rows of the transformed DataFrame\n",
        "df_parallel.head(10)\n"
      ]
    },
    {
      "cell_type": "code",
      "execution_count": null,
      "metadata": {},
      "outputs": [],
      "source": [
        "# Convert boolean to integer via replacing\n",
        "df_parallel['Multi_Engine'] = df_parallel['Multi_Engine'].replace({True: 1, False: 0})\n",
        "# Display the first few rows of the transformed DataFrame\n",
        "df_parallel.head(10)"
      ]
    },
    {
      "cell_type": "markdown",
      "metadata": {
        "id": "VgYQ30JXQxBR"
      },
      "source": [
        "Creates multi-dimensional categorical data plot"
      ]
    },
    {
      "cell_type": "code",
      "execution_count": null,
      "metadata": {
        "colab": {
          "base_uri": "https://localhost:8080/",
          "height": 542
        },
        "id": "XpjcTS4XAbgO",
        "outputId": "be219931-6003-4e74-e67b-3254b763e596"
      },
      "outputs": [],
      "source": [
        "import plotly.express as px\n",
        "fig = px.parallel_categories(df_parallel, color=\"Multi_Engine\")   #fig = px.parallel_categories(df_parallel, color=\"Multi_Engine\", color_discrete_sequence=[\"blue\", \"orange\"])\n",
        "fig.show(renderer='jupyterlab')"
      ]
    },
    {
      "cell_type": "markdown",
      "metadata": {
        "id": "ua0-YwyMCtDy"
      },
      "source": [
        "---"
      ]
    },
    {
      "cell_type": "markdown",
      "metadata": {
        "id": "6jkAa1rpCLbY"
      },
      "source": [
        "# Conclusions"
      ]
    },
    {
      "cell_type": "markdown",
      "metadata": {},
      "source": [
        "* We suspect Airplanes with Multiple Engines are Higher, Further,\n",
        "Faster as the slogan goes: Correct. The correlation study in the\n",
        "'Multi Engine Airplane Study' supports that.\n",
        "\n",
        "The study of the Airplane data showed a general Performance\n",
        "increase in Service Ceiling (Hmax), Range, Cruise and Max speed\n",
        "(Vcruise an Vmax), but also on the negative side: a higher \n",
        "landing speed and stall speed (Vl and Vstall).\n",
        "This insight will enter into the Conceptual Design Prediction\n",
        "tools.\""
      ]
    },
    {
      "cell_type": "markdown",
      "metadata": {
        "id": "vVOqV5ADZjD1"
      },
      "source": [
        "---"
      ]
    }
  ],
  "metadata": {
    "accelerator": "GPU",
    "colab": {
      "name": "Data Practitioner Jupyter Notebook.ipynb",
      "provenance": []
    },
    "interpreter": {
      "hash": "8b8334dab9339717f727a1deaf837b322d7a41c20d15cc86be99a8e69ceec8ce"
    },
    "kernelspec": {
      "display_name": "Python 3.8.12 64-bit ('3.8.12': pyenv)",
      "name": "python3"
    },
    "language_info": {
      "codemirror_mode": {
        "name": "ipython",
        "version": 3
      },
      "file_extension": ".py",
      "mimetype": "text/x-python",
      "name": "python",
      "nbconvert_exporter": "python",
      "pygments_lexer": "ipython3",
      "version": "3.8.18"
    },
    "orig_nbformat": 2
  },
  "nbformat": 4,
  "nbformat_minor": 2
}
