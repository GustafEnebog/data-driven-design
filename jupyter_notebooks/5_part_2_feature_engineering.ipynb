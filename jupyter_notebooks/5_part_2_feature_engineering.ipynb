{
  "cells": [
    {
      "cell_type": "markdown",
      "metadata": {
        "id": "0aStgWSO0E0E"
      },
      "source": [
        "# **Feature Engineering Notebook**"
      ]
    },
    {
      "cell_type": "markdown",
      "metadata": {
        "id": "1eLEkw5O0ECa"
      },
      "source": [
        "## Objectives\n",
        "\n",
        "*   Engineer features for Classification, Regression and Cluster models\n",
        "\n",
        "\n",
        "## Inputs\n",
        "\n",
        "* inputs/datasets/cleaned/TrainSet.csv\n",
        "* inputs/datasets/cleaned/TestSet.csv\n",
        "\n",
        "## Outputs\n",
        "\n",
        "* generate a list with variables to engineer\n",
        "\n",
        "## Conclusions\n",
        "\n",
        "\n",
        "\n",
        "* Feature Engineering Transformers\n",
        "  * Ordinal categorical encoding: `['xxxxxxxxxxxxxfill in from the middle result', 'xxxxxxxxxxxxx', 'xxxxxxx']`\n",
        "  * Smart Correlation Selection: `['xxxxxxxxxxxxxxxxxxx fill in from the bottom result', 'xxxxxxx', 'xxxxxxxx']`\n",
        "  \n"
      ]
    },
    {
      "cell_type": "markdown",
      "metadata": {
        "id": "9uWZXH9LwoQg"
      },
      "source": [
        "---"
      ]
    },
    {
      "cell_type": "markdown",
      "metadata": {},
      "source": [
        "# Change working directory"
      ]
    },
    {
      "cell_type": "markdown",
      "metadata": {},
      "source": [
        "We need to change the working directory from its current folder to its parent folder\n",
        "* Access the current directory with os.getcwd()"
      ]
    },
    {
      "cell_type": "code",
      "execution_count": null,
      "metadata": {},
      "outputs": [],
      "source": [
        "import os\n",
        "current_dir = os.getcwd()\n",
        "current_dir"
      ]
    },
    {
      "cell_type": "markdown",
      "metadata": {},
      "source": [
        "Make the parent of the current directory the new current directory.\n",
        "* os.path.dirname() gets the parent directory\n",
        "* os.chir() defines the new current directory"
      ]
    },
    {
      "cell_type": "code",
      "execution_count": null,
      "metadata": {},
      "outputs": [],
      "source": [
        "os.chdir(os.path.dirname(current_dir))\n",
        "print(\"You set a new current directory\")"
      ]
    },
    {
      "cell_type": "markdown",
      "metadata": {},
      "source": [
        "Confirm the new current directory"
      ]
    },
    {
      "cell_type": "code",
      "execution_count": null,
      "metadata": {},
      "outputs": [],
      "source": [
        "current_dir = os.getcwd()\n",
        "current_dir"
      ]
    },
    {
      "cell_type": "markdown",
      "metadata": {},
      "source": [
        "---"
      ]
    },
    {
      "cell_type": "markdown",
      "metadata": {},
      "source": [
        "# Imports"
      ]
    },
    {
      "cell_type": "code",
      "execution_count": null,
      "metadata": {},
      "outputs": [],
      "source": [
        "import pandas as pd\n",
        "import scipy.stats as stats\n",
        "import matplotlib.pyplot as plt\n",
        "import seaborn as sns\n",
        "import numpy as np\n",
        "import warnings\n",
        "\n",
        "from feature_engine import transformation as vt\n",
        "from feature_engine.outliers import Winsorizer\n",
        "from feature_engine.encoding import OrdinalEncoder\n",
        "from scipy import stats\n",
        "from sklearn.preprocessing import PowerTransformer\n",
        "from feature_engine.selection import SmartCorrelatedSelection"
      ]
    },
    {
      "cell_type": "markdown",
      "metadata": {
        "id": "-mavJ8DibrcQ"
      },
      "source": [
        "# Load Feature Engineerd Data (from 4_feature_engineering_part_1)"
      ]
    },
    {
      "cell_type": "markdown",
      "metadata": {
        "id": "j6h-QeuCa2_U"
      },
      "source": [
        "Train Set"
      ]
    },
    {
      "cell_type": "code",
      "execution_count": null,
      "metadata": {
        "id": "C2ELZj83tF1g"
      },
      "outputs": [],
      "source": [
        "train_set_path = \"outputs/datasets/feature_engineering/TrainSet.csv\"\n",
        "TrainSet = pd.read_csv(train_set_path)\n",
        "TrainSet.head(3)"
      ]
    },
    {
      "cell_type": "markdown",
      "metadata": {
        "id": "NNJOqym1a38e"
      },
      "source": [
        "Test Set"
      ]
    },
    {
      "cell_type": "code",
      "execution_count": null,
      "metadata": {
        "id": "L-WRjItbiOs6"
      },
      "outputs": [],
      "source": [
        "test_set_path = 'outputs/datasets/feature_engineering/TestSet.csv'\n",
        "TestSet = pd.read_csv(test_set_path)\n",
        "TestSet.head(3)"
      ]
    },
    {
      "cell_type": "markdown",
      "metadata": {},
      "source": [
        "## Continuation of... \"Dealing with Feature Engineering\""
      ]
    },
    {
      "cell_type": "code",
      "execution_count": 6,
      "metadata": {},
      "outputs": [],
      "source": [
        "sns.set(style=\"whitegrid\")\n",
        "warnings.filterwarnings('ignore')\n",
        "\n",
        "\n",
        "def FeatureEngineeringAnalysis(df, analysis_type=None):\n",
        "    \"\"\"\n",
        "    - used for quick feature engineering on numerical and categorical variables\n",
        "    to decide which transformation can better transform the distribution shape\n",
        "    - Once transformed, use a reporting tool, like ydata-profiling, to evaluate distributions\n",
        "    \"\"\"\n",
        "    check_missing_values(df)\n",
        "    allowed_types = ['numerical', 'ordinal_encoder', 'outlier_winsorizer']\n",
        "    check_user_entry_on_analysis_type(analysis_type, allowed_types)\n",
        "    list_column_transformers = define_list_column_transformers(analysis_type)\n",
        "\n",
        "    # Loop in each variable and engineer the data according to the analysis type\n",
        "    df_feat_eng = pd.DataFrame([])\n",
        "    for column in df.columns:\n",
        "        # create additional columns (column_method) to apply the methods\n",
        "        df_feat_eng = pd.concat([df_feat_eng, df[column]], axis=1)\n",
        "        for method in list_column_transformers:\n",
        "            df_feat_eng[f\"{column}_{method}\"] = df[column]\n",
        "\n",
        "        # Apply transformers in respective column_transformers\n",
        "        df_feat_eng, list_applied_transformers = apply_transformers(\n",
        "            analysis_type, df_feat_eng, column)\n",
        "\n",
        "        # For each variable, assess how the transformations perform\n",
        "        transformer_evaluation(\n",
        "            column, list_applied_transformers, analysis_type, df_feat_eng)\n",
        "\n",
        "    return df_feat_eng\n",
        "\n",
        "\n",
        "def check_user_entry_on_analysis_type(analysis_type, allowed_types):\n",
        "    \"\"\" Check analysis type \"\"\"\n",
        "    if analysis_type is None:\n",
        "        raise SystemExit(\n",
        "            f\"You should pass analysis_type parameter as one of the following options: {allowed_types}\")\n",
        "    if analysis_type not in allowed_types:\n",
        "        raise SystemExit(\n",
        "            f\"analysis_type argument should be one of these options: {allowed_types}\")\n",
        "\n",
        "\n",
        "def check_missing_values(df):\n",
        "    if df.isna().sum().sum() != 0:\n",
        "        raise SystemExit(\n",
        "            f\"There is a missing value in your dataset. Please handle that before getting into feature engineering.\")\n",
        "\n",
        "\n",
        "def define_list_column_transformers(analysis_type):\n",
        "    \"\"\" Set suffix columns according to analysis_type\"\"\"\n",
        "    if analysis_type == 'numerical':\n",
        "        list_column_transformers = [\n",
        "            \"log_e\", \"log_10\", \"reciprocal\", \"power\", \"box_cox\", \"yeo_johnson\"]\n",
        "\n",
        "    elif analysis_type == 'ordinal_encoder':\n",
        "        list_column_transformers = [\"ordinal_encoder\"]\n",
        "\n",
        "    elif analysis_type == 'outlier_winsorizer':\n",
        "        list_column_transformers = ['iqr']\n",
        "\n",
        "    return list_column_transformers\n",
        "\n",
        "\n",
        "def apply_transformers(analysis_type, df_feat_eng, column):\n",
        "    for col in df_feat_eng.select_dtypes(include='category').columns:\n",
        "        df_feat_eng[col] = df_feat_eng[col].astype('object')\n",
        "\n",
        "    if analysis_type == 'numerical':\n",
        "        df_feat_eng, list_applied_transformers = FeatEngineering_Numerical(\n",
        "            df_feat_eng, column)\n",
        "\n",
        "    elif analysis_type == 'outlier_winsorizer':\n",
        "        df_feat_eng, list_applied_transformers = FeatEngineering_OutlierWinsorizer(\n",
        "            df_feat_eng, column)\n",
        "\n",
        "    elif analysis_type == 'ordinal_encoder':\n",
        "        df_feat_eng, list_applied_transformers = FeatEngineering_CategoricalEncoder(\n",
        "            df_feat_eng, column)\n",
        "\n",
        "    return df_feat_eng, list_applied_transformers\n",
        "\n",
        "\n",
        "def transformer_evaluation(column, list_applied_transformers, analysis_type, df_feat_eng):\n",
        "    # For each variable, assess how the transformations perform\n",
        "    print(f\"* Variable Analyzed: {column}\")\n",
        "    print(f\"* Applied transformation: {list_applied_transformers} \\n\")\n",
        "    for col in [column] + list_applied_transformers:\n",
        "\n",
        "        if analysis_type != 'ordinal_encoder':\n",
        "            DiagnosticPlots_Numerical(df_feat_eng, col)\n",
        "\n",
        "        else:\n",
        "            if col == column:\n",
        "                DiagnosticPlots_Categories(df_feat_eng, col)\n",
        "            else:\n",
        "                DiagnosticPlots_Numerical(df_feat_eng, col)\n",
        "\n",
        "        print(\"\\n\")\n",
        "\n",
        "\n",
        "def DiagnosticPlots_Categories(df_feat_eng, col):\n",
        "    plt.figure(figsize=(4, 3))\n",
        "    sns.countplot(data=df_feat_eng, x=col, palette=[\n",
        "                  '#432371'], order=df_feat_eng[col].value_counts().index)\n",
        "    plt.xticks(rotation=90)\n",
        "    plt.suptitle(f\"{col}\", fontsize=30, y=1.05)\n",
        "    plt.show()\n",
        "    print(\"\\n\")\n",
        "\n",
        "\n",
        "def DiagnosticPlots_Numerical(df, variable):\n",
        "    fig, axes = plt.subplots(1, 3, figsize=(12, 4))\n",
        "    sns.histplot(data=df, x=variable, kde=True, element=\"step\", ax=axes[0])\n",
        "    stats.probplot(df[variable], dist=\"norm\", plot=axes[1])\n",
        "    sns.boxplot(x=df[variable], ax=axes[2])\n",
        "\n",
        "    axes[0].set_title('Histogram')\n",
        "    axes[1].set_title('QQ Plot')\n",
        "    axes[2].set_title('Boxplot')\n",
        "    fig.suptitle(f\"{variable}\", fontsize=30, y=1.05)\n",
        "    plt.tight_layout()\n",
        "    plt.show()\n",
        "\n",
        "\n",
        "def FeatEngineering_CategoricalEncoder(df_feat_eng, column):\n",
        "    list_methods_worked = []\n",
        "    try:\n",
        "        encoder = OrdinalEncoder(encoding_method='arbitrary', variables=[\n",
        "                                 f\"{column}_ordinal_encoder\"])\n",
        "        df_feat_eng = encoder.fit_transform(df_feat_eng)\n",
        "        list_methods_worked.append(f\"{column}_ordinal_encoder\")\n",
        "\n",
        "    except Exception:\n",
        "        df_feat_eng.drop([f\"{column}_ordinal_encoder\"], axis=1, inplace=True)\n",
        "\n",
        "    return df_feat_eng, list_methods_worked\n",
        "\n",
        "\n",
        "def FeatEngineering_OutlierWinsorizer(df_feat_eng, column):\n",
        "    list_methods_worked = []\n",
        "\n",
        "    # Winsorizer iqr\n",
        "    try:\n",
        "        disc = Winsorizer(\n",
        "            capping_method='iqr', tail='both', fold=1.5, variables=[f\"{column}_iqr\"])\n",
        "        df_feat_eng = disc.fit_transform(df_feat_eng)\n",
        "        list_methods_worked.append(f\"{column}_iqr\")\n",
        "    except Exception:\n",
        "        df_feat_eng.drop([f\"{column}_iqr\"], axis=1, inplace=True)\n",
        "\n",
        "    return df_feat_eng, list_methods_worked\n",
        "\n",
        "\n",
        "def FeatEngineering_Numerical(df_feat_eng, column):\n",
        "    list_methods_worked = []\n",
        "\n",
        "    # LogTransformer base e\n",
        "    try:\n",
        "        lt = vt.LogTransformer(variables=[f\"{column}_log_e\"])\n",
        "        df_feat_eng = lt.fit_transform(df_feat_eng)\n",
        "        list_methods_worked.append(f\"{column}_log_e\")\n",
        "    except Exception:\n",
        "        df_feat_eng.drop([f\"{column}_log_e\"], axis=1, inplace=True)\n",
        "\n",
        "    # LogTransformer base 10\n",
        "    try:\n",
        "        lt = vt.LogTransformer(variables=[f\"{column}_log_10\"], base='10')\n",
        "        df_feat_eng = lt.fit_transform(df_feat_eng)\n",
        "        list_methods_worked.append(f\"{column}_log_10\")\n",
        "    except Exception:\n",
        "        df_feat_eng.drop([f\"{column}_log_10\"], axis=1, inplace=True)\n",
        "\n",
        "    # ReciprocalTransformer\n",
        "    try:\n",
        "        rt = vt.ReciprocalTransformer(variables=[f\"{column}_reciprocal\"])\n",
        "        df_feat_eng = rt.fit_transform(df_feat_eng)\n",
        "        list_methods_worked.append(f\"{column}_reciprocal\")\n",
        "    except Exception:\n",
        "        df_feat_eng.drop([f\"{column}_reciprocal\"], axis=1, inplace=True)\n",
        "\n",
        "    # PowerTransformer\n",
        "    try:\n",
        "        pt = vt.PowerTransformer(variables=[f\"{column}_power\"])\n",
        "        df_feat_eng = pt.fit_transform(df_feat_eng)\n",
        "        list_methods_worked.append(f\"{column}_power\")\n",
        "    except Exception:\n",
        "        df_feat_eng.drop([f\"{column}_power\"], axis=1, inplace=True)\n",
        "\n",
        "    # BoxCoxTransformer\n",
        "    try:\n",
        "        bct = vt.BoxCoxTransformer(variables=[f\"{column}_box_cox\"])\n",
        "        df_feat_eng = bct.fit_transform(df_feat_eng)\n",
        "        list_methods_worked.append(f\"{column}_box_cox\")\n",
        "    except Exception:\n",
        "        df_feat_eng.drop([f\"{column}_box_cox\"], axis=1, inplace=True)\n",
        "\n",
        "    # YeoJohnsonTransformer\n",
        "    try:\n",
        "        yjt = vt.YeoJohnsonTransformer(variables=[f\"{column}_yeo_johnson\"])\n",
        "        df_feat_eng = yjt.fit_transform(df_feat_eng)\n",
        "        list_methods_worked.append(f\"{column}_yeo_johnson\")\n",
        "    except Exception:\n",
        "        df_feat_eng.drop([f\"{column}_yeo_johnson\"], axis=1, inplace=True)\n",
        "\n",
        "    return df_feat_eng, list_methods_worked\n"
      ]
    },
    {
      "cell_type": "markdown",
      "metadata": {
        "id": "TkyO7KsuyG5A"
      },
      "source": [
        "### Numerical Transformation"
      ]
    },
    {
      "cell_type": "markdown",
      "metadata": {
        "id": "9l4eVnHNyG5E"
      },
      "source": [
        "* Step 1: Select variable(s)"
      ]
    },
    {
      "cell_type": "code",
      "execution_count": null,
      "metadata": {
        "id": "v-dEF_P4yG5E"
      },
      "outputs": [],
      "source": [
        "variables_engineering = ['Wing_Span', 'Length', 'Height', 'AUW', 'MEW',\n",
        "                         'FW', 'Vmax', 'Vcruise', 'Vstall', 'Range', \n",
        "                         'Hmax', 'Hmax_(One)', 'ROC', 'ROC_(One)',\n",
        "                         'Vlo', 'Slo', 'Vl', 'Sl']\n",
        "variables_engineering"
      ]
    },
    {
      "cell_type": "markdown",
      "metadata": {
        "id": "kUA_uA1_yG5I"
      },
      "source": [
        "* Step 2: Create a separate DataFrame, with your variable(s)"
      ]
    },
    {
      "cell_type": "code",
      "execution_count": null,
      "metadata": {
        "id": "xrplTb39yG5I"
      },
      "outputs": [],
      "source": [
        "df_engineering = TrainSet[variables_engineering].copy()\n",
        "df_engineering.head(3)"
      ]
    },
    {
      "cell_type": "markdown",
      "metadata": {
        "id": "QQqqdvd3yG5J"
      },
      "source": [
        "* Step 3: Create engineered variables(s) by applying the transformation(s), assess engineered variables distribution and select the most suitable method"
      ]
    },
    {
      "cell_type": "code",
      "execution_count": null,
      "metadata": {
        "id": "YZXMUZgEyG5J"
      },
      "outputs": [],
      "source": [
        "df_engineering = FeatureEngineeringAnalysis(df=df_engineering, analysis_type='numerical')"
      ]
    },
    {
      "cell_type": "markdown",
      "metadata": {},
      "source": [
        "| Variable/Attribute | 'Sl_log_e' | 'Sl_log_10' | 'Sl_reciprocal' | 'Sl_power' | 'Sl_box_cox' | 'Sl_yeo_johnson' | 'Selected transformation' | 'Outliers' |\n",
        "|--------------------|------------|-------------|-----------------|------------|--------------|------------------|---------------------------|------------|\n",
        "|      Wing Span     |     ✗     |       ✗     |        ✓        |     ✗      |      ✓      |   ✓            |       'Sl_box_cox'        | 'Many' |\n",
        "|       Length       |     ✗     |       ✗     |        ✓        |     ✗      |      ✓✓     |   ✓✓          |       'Sl_box_cox'        | 'Many' |\n",
        "|       Height       |     ✗     |       ✗     |        ✓        |     ✗      |      ✓      |   ✓            |       'Sl_box_cox'        | 'Many' |\n",
        "|        AUW         |     ✗     |       ✗     |        ✗        |     ✗      |      ✓      |   ✓            |       'Sl_box_cox'        | 'Many' |\n",
        "|        MEW         |     ✗     |       ✗     |        ✗        |     ✗      |      ✓✓     |   ✓✓          |       'Sl_box_cox'        | 'Many' |\n",
        "|        FW          |     ✗     |       ✗     |        ✗        |     ✗✗     |      ✓      |   ✓            |       'Sl_box_cox'        | 'Many' |\n",
        "|       Vmax         |     ✗     |       ✗     |        ✗        |     ✗      |      ✓      |   ✓            |       'Sl_box_cox'        | 'Many' |\n",
        "|      Vcruise       |     ✗     |       ✗     |        ✗        |     ✗      |      ✓      |   ✓            |       'Sl_box_cox'        | 'Many' |\n",
        "|      Vstall        |     ✓     |       ✓     |        ✓        |     ✗       |      ✓✓    |   ✓✓           |       'Sl_box_cox'        | 'Many' |\n",
        "|       Range        |     ✓     |       ✓     |        ✗        |     ✗       |      ✓     |   ✓            |       'Sl_log_10'          | 'Many' |\n",
        "|       Hmax         |     ✗     |       ✗     |        ✓✓       |     ✗      |      ✓✓     |   ✓✓          |       'Sl_box_cox'        | 'Few' |\n",
        "|     Hmax (One)     |     ✗     |       ✗     |        ✗        |     ✓      |      ✓      |   ✓            |       'Sl_box_cox'        | 'Many' |\n",
        "|       ROC          |     ✗     |       ✗     |        ✗        |     ✗      |      ✓      |   ✓            |       'Sl_box_cox'        | 'Many' |\n",
        "|     ROC (One)      |     ✗     |       ✗     |        ✗        |     ✗      |      ✓      |   ✓            |       'Sl_box_cox'        | 'Many' |\n",
        "|       Vlo          |     ✗     |       ✗     |        ✗        |     ✗      |      ✓      |   ✓            |       'Sl_box_cox'        | 'Many' |\n",
        "|       Slo          |     ✗     |       ✗     |        ✗        |     ✗      |      ✗      |   ✗            |       'Sl_box_cox'        | 'Many' |\n",
        "|       Vl           |     ✗     |       ✗     |        ✗        |     ✓✓      |      ✓✓    |   ✓✓           |       'Sl_box_cox'        | 'Many' |\n",
        "|       Sl           |     ✓     |       ✓     |        ✗        |     ✗       |      ✗      |   ✗            |       'Sl_log_10'        | 'Many' |"
      ]
    },
    {
      "cell_type": "markdown",
      "metadata": {},
      "source": [
        "Albeit the log transformation was marginally better for Range and Sl than box cox/yeo johnson we do these for all anyway for simplicities sake. "
      ]
    },
    {
      "cell_type": "markdown",
      "metadata": {},
      "source": [
        "Due to large size of so many plots the **below code cells May sometimes not execute properly!**\n",
        "Check below that we really have df_engineering."
      ]
    },
    {
      "cell_type": "code",
      "execution_count": null,
      "metadata": {},
      "outputs": [],
      "source": [
        "print(df_engineering.head())\n"
      ]
    },
    {
      "cell_type": "code",
      "execution_count": null,
      "metadata": {},
      "outputs": [],
      "source": [
        "# List of columns to apply transformations\n",
        "columns_to_transform = ['Wing_Span', 'Length', 'Height', 'AUW', 'MEW',\n",
        "                        'FW', 'Vmax', 'Vcruise', 'Vstall', 'Range', \n",
        "                        'Hmax', 'Hmax_(One)', 'ROC', 'ROC_(One)',\n",
        "                        'Vlo', 'Slo', 'Vl', 'Sl']\n",
        "\n",
        "# Create a DataFrame to store transformed values\n",
        "df_engineering_transformed = pd.DataFrame()\n",
        "\n",
        "# Store the original DataFrame for difference calculation\n",
        "original_df = df_engineering.copy()\n",
        "\n",
        "# Apply transformations\n",
        "for column in columns_to_transform:\n",
        "    if column in df_engineering.columns:\n",
        "        # Check for positive values for Box-Cox\n",
        "        if (df_engineering[column] <= 0).any():\n",
        "            # Use Yeo-Johnson for zero or negative values\n",
        "            pt = PowerTransformer(method='yeo-johnson')\n",
        "            transformed_values = pt.fit_transform(df_engineering[[column]])\n",
        "            df_engineering_transformed[column] = transformed_values.flatten()  # Store transformed values\n",
        "        else:\n",
        "            # Use Box-Cox for positive values\n",
        "            transformed_values, _ = stats.boxcox(df_engineering[column])\n",
        "            df_engineering_transformed[column] = transformed_values  # Store transformed values\n",
        "\n",
        "# Calculate differences\n",
        "differences_df = df_engineering_transformed - original_df[columns_to_transform]\n",
        "\n",
        "# Summary statistics of the differences\n",
        "differences_stats = differences_df.describe()\n",
        "print(\"Differences Statistics:\\n\", differences_stats)\n",
        "\n",
        "# Plotting differences\n",
        "for column in columns_to_transform:\n",
        "    plt.figure(figsize=(8, 4))\n",
        "    sns.histplot(differences_df[column], bins=30, kde=True)\n",
        "    plt.title(f'Differences for {column}')\n",
        "    plt.axvline(0, color='red', linestyle='--')  # Line at 0 for reference\n",
        "    plt.show()\n"
      ]
    },
    {
      "cell_type": "markdown",
      "metadata": {
        "id": "g_kMYDKU2yuT"
      },
      "source": [
        "### SmartCorrelatedSelection Variables"
      ]
    },
    {
      "cell_type": "markdown",
      "metadata": {
        "id": "9-pse1Ge2yub"
      },
      "source": [
        "* Step 1: Create a separate DataFrame, with your variable(s)"
      ]
    },
    {
      "cell_type": "code",
      "execution_count": null,
      "metadata": {
        "id": "2hnHWkNf2yub"
      },
      "outputs": [],
      "source": [
        "df_engineering = TrainSet.copy()\n",
        "df_engineering.head(3)"
      ]
    },
    {
      "cell_type": "markdown",
      "metadata": {
        "id": "CJsN5KNe2yuc"
      },
      "source": [
        "* Step 2: Create engineered variables(s) applying the transformation(s)"
      ]
    },
    {
      "cell_type": "code",
      "execution_count": null,
      "metadata": {
        "id": "Vq-jWVT2e2v3"
      },
      "outputs": [],
      "source": [
        "corr_sel = SmartCorrelatedSelection(variables=None, method=\"spearman\", threshold=0.9, selection_method=\"variance\")\n",
        "\n",
        "corr_sel.fit_transform(df_engineering)\n",
        "corr_sel.correlated_feature_sets_"
      ]
    },
    {
      "cell_type": "code",
      "execution_count": null,
      "metadata": {
        "id": "kVQW3s0QfasQ"
      },
      "outputs": [],
      "source": [
        "corr_sel.features_to_drop_"
      ]
    },
    {
      "cell_type": "markdown",
      "metadata": {},
      "source": [
        "corr_sel.features_to_drop_ gives ['Length', 'MEW', 'Vcruise'] to drop however we manually intervene here and apply our \"Domain Specific Knowledge\" to slightly alter this selection since we want to retain Vcruise."
      ]
    },
    {
      "cell_type": "code",
      "execution_count": 15,
      "metadata": {},
      "outputs": [],
      "source": [
        "# List of features to drop\n",
        "features_to_drop = ['Length', 'MEW']\n",
        "\n",
        "# Dropping the specified features\n",
        "df_engineering_dropped = df_engineering.drop(columns=features_to_drop)"
      ]
    },
    {
      "cell_type": "markdown",
      "metadata": {
        "id": "yZiCdjylhGP-"
      },
      "source": [
        "---"
      ]
    },
    {
      "cell_type": "markdown",
      "metadata": {
        "id": "LQSUo5fxnozU"
      },
      "source": [
        "# Conclusion\n"
      ]
    },
    {
      "cell_type": "markdown",
      "metadata": {
        "id": "yOP2pVnJnwxS"
      },
      "source": [
        "The list below shows the transformations needed for feature engineering."
      ]
    },
    {
      "cell_type": "markdown",
      "metadata": {
        "id": "O9EtvPIPnpYb"
      },
      "source": [
        "\n",
        "Feature Engineering Transformers\n",
        "  * Ordinal categorical encoding: `['Multi Engine',\t'TP mods',\t'Engine Type']`\n",
        "  * Smart Correlation Selection: `['Length', 'MEW']`\n",
        "  "
      ]
    }
  ],
  "metadata": {
    "accelerator": "GPU",
    "colab": {
      "name": "Data Practitioner Jupyter Notebook.ipynb",
      "provenance": [],
      "toc_visible": true
    },
    "interpreter": {
      "hash": "8b8334dab9339717f727a1deaf837b322d7a41c20d15cc86be99a8e69ceec8ce"
    },
    "kernelspec": {
      "display_name": "Python 3.8.12 64-bit ('3.8.12': pyenv)",
      "name": "python3"
    },
    "language_info": {
      "codemirror_mode": {
        "name": "ipython",
        "version": 3
      },
      "file_extension": ".py",
      "mimetype": "text/x-python",
      "name": "python",
      "nbconvert_exporter": "python",
      "pygments_lexer": "ipython3",
      "version": "3.8.18"
    },
    "orig_nbformat": 2
  },
  "nbformat": 4,
  "nbformat_minor": 2
}
