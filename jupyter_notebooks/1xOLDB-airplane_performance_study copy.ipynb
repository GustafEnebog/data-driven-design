{
  "cells": [
    {
      "cell_type": "markdown",
      "metadata": {
        "id": "0aStgWSO0E0E"
      },
      "source": [
        "# **Churned Customer Study Notebook**"
      ]
    },
    {
      "cell_type": "markdown",
      "metadata": {
        "id": "1eLEkw5O0ECa"
      },
      "source": [
        "## Objectives\n",
        "\n",
        "* Write here your notebook objective, for example, \"Fetch data from Kaggle and save as raw data\", or \"engineer features for modelling\"\n",
        "\n",
        "## Inputs\n",
        "\n",
        "* Write here which data or information you need to run the notebook \n",
        "\n",
        "## Outputs\n",
        "\n",
        "* Write here which files, code or artefacts you generate by the end of the notebook \n",
        "\n",
        "## Additional Comments\n",
        "\n",
        "* In case you have any additional comments that don't fit in the previous bullets, please state them here.\n",
        "\n",
        "\n",
        "\n",
        "\n",
        "\n",
        "\n",
        "\n",
        "## Objectives\n",
        "\n",
        "*   Answer business requirement 1: \n",
        "    * The client is interested to understand the patterns from the customer base, so the client can learn the most relevant variables that are correlated to a churned customer.\n",
        "\n",
        "## Inputs\n",
        "\n",
        "* outputs/datasets/collection/TelcoCustomerChurn.csv\n",
        "\n",
        "## Outputs\n",
        "\n",
        "* generate code that answers business requirement 1 and can be used to build the Streamlit App\n"
      ]
    },
    {
      "cell_type": "markdown",
      "metadata": {
        "id": "9uWZXH9LwoQg"
      },
      "source": [
        "---"
      ]
    },
    {
      "cell_type": "markdown",
      "metadata": {},
      "source": [
        "# Install python packages in the notebooks"
      ]
    },
    {
      "cell_type": "code",
      "execution_count": 2,
      "metadata": {},
      "outputs": [
        {
          "name": "stdout",
          "output_type": "stream",
          "text": [
            "Requirement already satisfied: altair==4.2.2 in /workspace/.pip-modules/lib/python3.8/site-packages (from -r /workspace/data-driven-design//requirements.txt (line 1)) (4.2.2)\n",
            "Requirement already satisfied: astor==0.8.1 in /workspace/.pip-modules/lib/python3.8/site-packages (from -r /workspace/data-driven-design//requirements.txt (line 2)) (0.8.1)\n",
            "Requirement already satisfied: backports.zoneinfo==0.2.1 in /workspace/.pip-modules/lib/python3.8/site-packages (from -r /workspace/data-driven-design//requirements.txt (line 3)) (0.2.1)\n",
            "Requirement already satisfied: base58==2.1.1 in /workspace/.pip-modules/lib/python3.8/site-packages (from -r /workspace/data-driven-design//requirements.txt (line 4)) (2.1.1)\n",
            "Requirement already satisfied: blinker==1.8.2 in /workspace/.pip-modules/lib/python3.8/site-packages (from -r /workspace/data-driven-design//requirements.txt (line 5)) (1.8.2)\n",
            "Requirement already satisfied: cachetools==5.5.0 in /workspace/.pip-modules/lib/python3.8/site-packages (from -r /workspace/data-driven-design//requirements.txt (line 6)) (5.5.0)\n",
            "Requirement already satisfied: click==7.1.2 in /workspace/.pip-modules/lib/python3.8/site-packages (from -r /workspace/data-driven-design//requirements.txt (line 7)) (7.1.2)\n",
            "Requirement already satisfied: entrypoints==0.4 in /workspace/.pip-modules/lib/python3.8/site-packages (from -r /workspace/data-driven-design//requirements.txt (line 8)) (0.4)\n",
            "Requirement already satisfied: gitdb==4.0.11 in /workspace/.pip-modules/lib/python3.8/site-packages (from -r /workspace/data-driven-design//requirements.txt (line 9)) (4.0.11)\n",
            "Requirement already satisfied: GitPython==3.1.43 in /workspace/.pip-modules/lib/python3.8/site-packages (from -r /workspace/data-driven-design//requirements.txt (line 10)) (3.1.43)\n",
            "Requirement already satisfied: kaggle==1.5.12 in /workspace/.pip-modules/lib/python3.8/site-packages (from -r /workspace/data-driven-design//requirements.txt (line 11)) (1.5.12)\n",
            "Requirement already satisfied: numpy==1.24.4 in /workspace/.pip-modules/lib/python3.8/site-packages (from -r /workspace/data-driven-design//requirements.txt (line 12)) (1.24.4)\n",
            "Requirement already satisfied: pandas==2.0.3 in /workspace/.pip-modules/lib/python3.8/site-packages (from -r /workspace/data-driven-design//requirements.txt (line 13)) (2.0.3)\n",
            "Requirement already satisfied: pillow==10.4.0 in /workspace/.pip-modules/lib/python3.8/site-packages (from -r /workspace/data-driven-design//requirements.txt (line 14)) (10.4.0)\n",
            "Requirement already satisfied: protobuf==5.28.2 in /workspace/.pip-modules/lib/python3.8/site-packages (from -r /workspace/data-driven-design//requirements.txt (line 15)) (5.28.2)\n",
            "Requirement already satisfied: pyarrow==17.0.0 in /workspace/.pip-modules/lib/python3.8/site-packages (from -r /workspace/data-driven-design//requirements.txt (line 16)) (17.0.0)\n",
            "Requirement already satisfied: pydeck==0.9.1 in /workspace/.pip-modules/lib/python3.8/site-packages (from -r /workspace/data-driven-design//requirements.txt (line 17)) (0.9.1)\n",
            "Requirement already satisfied: python-slugify==8.0.4 in /workspace/.pip-modules/lib/python3.8/site-packages (from -r /workspace/data-driven-design//requirements.txt (line 18)) (8.0.4)\n",
            "Requirement already satisfied: smmap==5.0.1 in /workspace/.pip-modules/lib/python3.8/site-packages (from -r /workspace/data-driven-design//requirements.txt (line 19)) (5.0.1)\n",
            "Requirement already satisfied: streamlit==0.85.0 in /workspace/.pip-modules/lib/python3.8/site-packages (from -r /workspace/data-driven-design//requirements.txt (line 20)) (0.85.0)\n",
            "Requirement already satisfied: text-unidecode==1.3 in /workspace/.pip-modules/lib/python3.8/site-packages (from -r /workspace/data-driven-design//requirements.txt (line 21)) (1.3)\n",
            "Requirement already satisfied: toml==0.10.2 in /workspace/.pip-modules/lib/python3.8/site-packages (from -r /workspace/data-driven-design//requirements.txt (line 22)) (0.10.2)\n",
            "Requirement already satisfied: toolz==0.12.1 in /workspace/.pip-modules/lib/python3.8/site-packages (from -r /workspace/data-driven-design//requirements.txt (line 23)) (0.12.1)\n",
            "Requirement already satisfied: tqdm==4.66.5 in /workspace/.pip-modules/lib/python3.8/site-packages (from -r /workspace/data-driven-design//requirements.txt (line 24)) (4.66.5)\n",
            "Requirement already satisfied: tzdata==2024.2 in /workspace/.pip-modules/lib/python3.8/site-packages (from -r /workspace/data-driven-design//requirements.txt (line 25)) (2024.2)\n",
            "Requirement already satisfied: tzlocal==5.2 in /workspace/.pip-modules/lib/python3.8/site-packages (from -r /workspace/data-driven-design//requirements.txt (line 26)) (5.2)\n",
            "Requirement already satisfied: validators==0.34.0 in /workspace/.pip-modules/lib/python3.8/site-packages (from -r /workspace/data-driven-design//requirements.txt (line 27)) (0.34.0)\n",
            "Requirement already satisfied: watchdog==4.0.2 in /workspace/.pip-modules/lib/python3.8/site-packages (from -r /workspace/data-driven-design//requirements.txt (line 28)) (4.0.2)\n",
            "Requirement already satisfied: jinja2 in /home/gitpod/.pyenv/versions/3.8.18/lib/python3.8/site-packages (from altair==4.2.2->-r /workspace/data-driven-design//requirements.txt (line 1)) (3.1.4)\n",
            "Requirement already satisfied: jsonschema>=3.0 in /home/gitpod/.pyenv/versions/3.8.18/lib/python3.8/site-packages (from altair==4.2.2->-r /workspace/data-driven-design//requirements.txt (line 1)) (4.23.0)\n",
            "Requirement already satisfied: six>=1.10 in /home/gitpod/.pyenv/versions/3.8.18/lib/python3.8/site-packages (from kaggle==1.5.12->-r /workspace/data-driven-design//requirements.txt (line 11)) (1.16.0)\n",
            "Requirement already satisfied: certifi in /home/gitpod/.pyenv/versions/3.8.18/lib/python3.8/site-packages (from kaggle==1.5.12->-r /workspace/data-driven-design//requirements.txt (line 11)) (2024.8.30)\n",
            "Requirement already satisfied: python-dateutil in /home/gitpod/.pyenv/versions/3.8.18/lib/python3.8/site-packages (from kaggle==1.5.12->-r /workspace/data-driven-design//requirements.txt (line 11)) (2.9.0.post0)\n",
            "Requirement already satisfied: requests in /home/gitpod/.pyenv/versions/3.8.18/lib/python3.8/site-packages (from kaggle==1.5.12->-r /workspace/data-driven-design//requirements.txt (line 11)) (2.32.3)\n",
            "Requirement already satisfied: urllib3 in /home/gitpod/.pyenv/versions/3.8.18/lib/python3.8/site-packages (from kaggle==1.5.12->-r /workspace/data-driven-design//requirements.txt (line 11)) (2.2.3)\n",
            "Requirement already satisfied: pytz>=2020.1 in /home/gitpod/.pyenv/versions/3.8.18/lib/python3.8/site-packages (from pandas==2.0.3->-r /workspace/data-driven-design//requirements.txt (line 13)) (2024.2)\n",
            "Requirement already satisfied: attrs in /home/gitpod/.pyenv/versions/3.8.18/lib/python3.8/site-packages (from streamlit==0.85.0->-r /workspace/data-driven-design//requirements.txt (line 20)) (24.2.0)\n",
            "Requirement already satisfied: packaging in /home/gitpod/.pyenv/versions/3.8.18/lib/python3.8/site-packages (from streamlit==0.85.0->-r /workspace/data-driven-design//requirements.txt (line 20)) (24.1)\n",
            "Requirement already satisfied: tornado>=5.0 in /home/gitpod/.pyenv/versions/3.8.18/lib/python3.8/site-packages (from streamlit==0.85.0->-r /workspace/data-driven-design//requirements.txt (line 20)) (6.4.1)\n",
            "Requirement already satisfied: MarkupSafe>=2.0 in /home/gitpod/.pyenv/versions/3.8.18/lib/python3.8/site-packages (from jinja2->altair==4.2.2->-r /workspace/data-driven-design//requirements.txt (line 1)) (2.1.5)\n",
            "Requirement already satisfied: importlib-resources>=1.4.0 in /home/gitpod/.pyenv/versions/3.8.18/lib/python3.8/site-packages (from jsonschema>=3.0->altair==4.2.2->-r /workspace/data-driven-design//requirements.txt (line 1)) (6.4.5)\n",
            "Requirement already satisfied: jsonschema-specifications>=2023.03.6 in /home/gitpod/.pyenv/versions/3.8.18/lib/python3.8/site-packages (from jsonschema>=3.0->altair==4.2.2->-r /workspace/data-driven-design//requirements.txt (line 1)) (2023.12.1)\n",
            "Requirement already satisfied: pkgutil-resolve-name>=1.3.10 in /home/gitpod/.pyenv/versions/3.8.18/lib/python3.8/site-packages (from jsonschema>=3.0->altair==4.2.2->-r /workspace/data-driven-design//requirements.txt (line 1)) (1.3.10)\n",
            "Requirement already satisfied: referencing>=0.28.4 in /home/gitpod/.pyenv/versions/3.8.18/lib/python3.8/site-packages (from jsonschema>=3.0->altair==4.2.2->-r /workspace/data-driven-design//requirements.txt (line 1)) (0.35.1)\n",
            "Requirement already satisfied: rpds-py>=0.7.1 in /home/gitpod/.pyenv/versions/3.8.18/lib/python3.8/site-packages (from jsonschema>=3.0->altair==4.2.2->-r /workspace/data-driven-design//requirements.txt (line 1)) (0.20.0)\n",
            "Requirement already satisfied: charset-normalizer<4,>=2 in /home/gitpod/.pyenv/versions/3.8.18/lib/python3.8/site-packages (from requests->kaggle==1.5.12->-r /workspace/data-driven-design//requirements.txt (line 11)) (3.3.2)\n",
            "Requirement already satisfied: idna<4,>=2.5 in /home/gitpod/.pyenv/versions/3.8.18/lib/python3.8/site-packages (from requests->kaggle==1.5.12->-r /workspace/data-driven-design//requirements.txt (line 11)) (3.10)\n",
            "Requirement already satisfied: zipp>=3.1.0 in /home/gitpod/.pyenv/versions/3.8.18/lib/python3.8/site-packages (from importlib-resources>=1.4.0->jsonschema>=3.0->altair==4.2.2->-r /workspace/data-driven-design//requirements.txt (line 1)) (3.20.2)\n",
            "Note: you may need to restart the kernel to use updated packages.\n"
          ]
        }
      ],
      "source": [
        "%pip install -r /workspace/data-driven-design//requirements.txt"
      ]
    },
    {
      "cell_type": "markdown",
      "metadata": {},
      "source": [
        "---"
      ]
    },
    {
      "cell_type": "markdown",
      "metadata": {
        "id": "cqP-UeN-z3i2"
      },
      "source": [
        "# Change working directory"
      ]
    },
    {
      "cell_type": "markdown",
      "metadata": {},
      "source": [
        "* We are assuming you will store the notebooks in a subfolder, therefore when running the notebook in the editor, you will need to change the working directory"
      ]
    },
    {
      "cell_type": "markdown",
      "metadata": {
        "id": "aOGIGS-uz3i2"
      },
      "source": [
        "We need to change the working directory from its current folder to its parent folder\n",
        "* We access the current directory with os.getcwd()"
      ]
    },
    {
      "cell_type": "code",
      "execution_count": 3,
      "metadata": {
        "id": "wZfF_j-Bz3i4",
        "outputId": "66943449-1436-4c3d-85c7-b85f9f78349b"
      },
      "outputs": [
        {
          "data": {
            "text/plain": [
              "'/workspace/data-driven-design/jupyter_notebooks'"
            ]
          },
          "execution_count": 3,
          "metadata": {},
          "output_type": "execute_result"
        }
      ],
      "source": [
        "import os\n",
        "current_dir = os.getcwd()\n",
        "current_dir"
      ]
    },
    {
      "cell_type": "markdown",
      "metadata": {
        "id": "9MWW8E7lz3i7"
      },
      "source": [
        "We want to make the parent of the current directory the new current directory\n",
        "* os.path.dirname() gets the parent directory\n",
        "* os.chir() defines the new current directory"
      ]
    },
    {
      "cell_type": "code",
      "execution_count": 4,
      "metadata": {
        "id": "TwHsQRWjz3i9",
        "outputId": "86849db3-cd2f-4cc5-ebb8-2d0caafa1a2c"
      },
      "outputs": [
        {
          "name": "stdout",
          "output_type": "stream",
          "text": [
            "You set a new current directory\n"
          ]
        }
      ],
      "source": [
        "os.chdir(os.path.dirname(current_dir))\n",
        "print(\"You set a new current directory\")"
      ]
    },
    {
      "cell_type": "markdown",
      "metadata": {
        "id": "M_xPk_Ijz3i-"
      },
      "source": [
        "Confirm the new current directory"
      ]
    },
    {
      "cell_type": "code",
      "execution_count": 5,
      "metadata": {
        "id": "vz3S-_kjz3jA",
        "outputId": "00b79ae4-75d0-4a96-d193-ac9ef9847ea2"
      },
      "outputs": [
        {
          "data": {
            "text/plain": [
              "'/workspace/data-driven-design'"
            ]
          },
          "execution_count": 5,
          "metadata": {},
          "output_type": "execute_result"
        }
      ],
      "source": [
        "current_dir = os.getcwd()\n",
        "current_dir"
      ]
    },
    {
      "cell_type": "markdown",
      "metadata": {
        "id": "-mavJ8DibrcQ"
      },
      "source": [
        "# Fetch data from Kaggle"
      ]
    },
    {
      "cell_type": "markdown",
      "metadata": {},
      "source": [
        "THIS SECTION IS REPLACED BY THE ONE BELOW SINCE I RECIEVED A \"403 - forbidden\" WHEN TRYING TO DOWNLOAD IT FROM KAGGLE AND THEREFORE HAD TO SIMPLY DOWNLOAD IT TO MY LOCAL COMPUTER FROM KAGGLE THE NORMAL WAY AND FROM THERE MOVE THE FILE TO THIS WORKSPACE/REPO"
      ]
    },
    {
      "cell_type": "markdown",
      "metadata": {},
      "source": [
        "Section 1 content"
      ]
    },
    {
      "cell_type": "code",
      "execution_count": 47,
      "metadata": {},
      "outputs": [
        {
          "name": "stdout",
          "output_type": "stream",
          "text": [
            "Requirement already satisfied: kaggle==1.5.12 in /workspace/.pip-modules/lib/python3.8/site-packages (1.5.12)\n",
            "Requirement already satisfied: six>=1.10 in /home/gitpod/.pyenv/versions/3.8.18/lib/python3.8/site-packages (from kaggle==1.5.12) (1.16.0)\n",
            "Requirement already satisfied: certifi in /home/gitpod/.pyenv/versions/3.8.18/lib/python3.8/site-packages (from kaggle==1.5.12) (2024.8.30)\n",
            "Requirement already satisfied: python-dateutil in /home/gitpod/.pyenv/versions/3.8.18/lib/python3.8/site-packages (from kaggle==1.5.12) (2.9.0.post0)\n",
            "Requirement already satisfied: requests in /home/gitpod/.pyenv/versions/3.8.18/lib/python3.8/site-packages (from kaggle==1.5.12) (2.32.3)\n",
            "Requirement already satisfied: tqdm in /workspace/.pip-modules/lib/python3.8/site-packages (from kaggle==1.5.12) (4.66.5)\n",
            "Requirement already satisfied: python-slugify in /workspace/.pip-modules/lib/python3.8/site-packages (from kaggle==1.5.12) (8.0.4)\n",
            "Requirement already satisfied: urllib3 in /home/gitpod/.pyenv/versions/3.8.18/lib/python3.8/site-packages (from kaggle==1.5.12) (2.2.3)\n",
            "Requirement already satisfied: text-unidecode>=1.3 in /workspace/.pip-modules/lib/python3.8/site-packages (from python-slugify->kaggle==1.5.12) (1.3)\n",
            "Requirement already satisfied: charset-normalizer<4,>=2 in /home/gitpod/.pyenv/versions/3.8.18/lib/python3.8/site-packages (from requests->kaggle==1.5.12) (3.3.2)\n",
            "Requirement already satisfied: idna<4,>=2.5 in /home/gitpod/.pyenv/versions/3.8.18/lib/python3.8/site-packages (from requests->kaggle==1.5.12) (3.10)\n",
            "Note: you may need to restart the kernel to use updated packages.\n"
          ]
        }
      ],
      "source": [
        "%pip install kaggle==1.5.12"
      ]
    },
    {
      "cell_type": "code",
      "execution_count": 48,
      "metadata": {},
      "outputs": [
        {
          "name": "stdout",
          "output_type": "stream",
          "text": [
            "chmod: cannot access 'kaggle.json': No such file or directory\n"
          ]
        }
      ],
      "source": [
        "import os\n",
        "os.environ['KAGGLE_CONFIG_DIR'] = os.getcwd()\n",
        "! chmod 600 kaggle.json"
      ]
    },
    {
      "cell_type": "code",
      "execution_count": 49,
      "metadata": {},
      "outputs": [
        {
          "name": "stdout",
          "output_type": "stream",
          "text": [
            "Traceback (most recent call last):\n",
            "  File \"/workspace/.pip-modules/bin/kaggle\", line 5, in <module>\n",
            "    from kaggle.cli import main\n",
            "  File \"/workspace/.pip-modules/lib/python3.8/site-packages/kaggle/__init__.py\", line 23, in <module>\n",
            "    api.authenticate()\n",
            "  File \"/workspace/.pip-modules/lib/python3.8/site-packages/kaggle/api/kaggle_api_extended.py\", line 164, in authenticate\n",
            "    raise IOError('Could not find {}. Make sure it\\'s located in'\n",
            "OSError: Could not find kaggle.json. Make sure it's located in /. Or use the environment method.\n"
          ]
        }
      ],
      "source": [
        "KaggleDatasetPath = \"codeinstitute/telecom-churn-dataset\"\n",
        "DestinationFolder = \"inputs/datasets/raw\"   \n",
        "! kaggle datasets download -d {KaggleDatasetPath} -p {DestinationFolder}"
      ]
    },
    {
      "cell_type": "code",
      "execution_count": 50,
      "metadata": {},
      "outputs": [
        {
          "name": "stdout",
          "output_type": "stream",
          "text": [
            "Traceback (most recent call last):\n",
            "  File \"/workspace/.pip-modules/bin/kaggle\", line 5, in <module>\n",
            "    from kaggle.cli import main\n",
            "  File \"/workspace/.pip-modules/lib/python3.8/site-packages/kaggle/__init__.py\", line 23, in <module>\n",
            "    api.authenticate()\n",
            "  File \"/workspace/.pip-modules/lib/python3.8/site-packages/kaggle/api/kaggle_api_extended.py\", line 164, in authenticate\n",
            "    raise IOError('Could not find {}. Make sure it\\'s located in'\n",
            "OSError: Could not find kaggle.json. Make sure it's located in /. Or use the environment method.\n"
          ]
        }
      ],
      "source": [
        "# KaggleDatasetPath = \"datasets/heitornunes/aircraft-performance-dataset-aircraft-bluebook\"\n",
        "# KaggleDatasetPath = \"datasets/heitornunes/aircraft-performance-dataset-aircraft-bluebook?select=Airplane_Complete_Imputation.csv\"\n",
        "KaggleDatasetPath = \"datasets/heitornunes/aircraft-performance-dataset-aircraft-bluebook?select=Aiplane_BlueBook.csv\"\n",
        "DestinationFolder = \"inputs/datasets/raw\"   \n",
        "! kaggle datasets download -d {KaggleDatasetPath} -p {DestinationFolder}"
      ]
    },
    {
      "cell_type": "code",
      "execution_count": 51,
      "metadata": {},
      "outputs": [
        {
          "name": "stdout",
          "output_type": "stream",
          "text": [
            "unzip:  cannot find or open inputs/datasets/raw/*.zip, inputs/datasets/raw/*.zip.zip or inputs/datasets/raw/*.zip.ZIP.\n",
            "\n",
            "No zipfiles found.\n"
          ]
        }
      ],
      "source": [
        "! unzip {DestinationFolder}/*.zip -d {DestinationFolder} \\\n",
        "  && rm {DestinationFolder}/*.zip \\\n",
        "  && rm kaggle.json"
      ]
    },
    {
      "cell_type": "markdown",
      "metadata": {
        "id": "ZY3l0-AxO93d"
      },
      "source": [
        "---"
      ]
    },
    {
      "cell_type": "markdown",
      "metadata": {
        "id": "uFQo3ycuO-v6"
      },
      "source": [
        "# Load and Inspect Kaggle data"
      ]
    },
    {
      "cell_type": "markdown",
      "metadata": {},
      "source": [
        "Section 2 content"
      ]
    },
    {
      "cell_type": "markdown",
      "metadata": {},
      "source": [
        "Note that I got the correct directory for the pd.read (\"/workspace/data-driven-design/Airplane_Complete_Imputation.csv\") from \"Confirm the new current directory\" above under \"Change working directory\""
      ]
    },
    {
      "cell_type": "markdown",
      "metadata": {},
      "source": [
        "Why do I need a ./ when I do a relative path?"
      ]
    },
    {
      "cell_type": "code",
      "execution_count": 6,
      "metadata": {},
      "outputs": [
        {
          "data": {
            "text/html": [
              "<div>\n",
              "<style scoped>\n",
              "    .dataframe tbody tr th:only-of-type {\n",
              "        vertical-align: middle;\n",
              "    }\n",
              "\n",
              "    .dataframe tbody tr th {\n",
              "        vertical-align: top;\n",
              "    }\n",
              "\n",
              "    .dataframe thead th {\n",
              "        text-align: right;\n",
              "    }\n",
              "</style>\n",
              "<table border=\"1\" class=\"dataframe\">\n",
              "  <thead>\n",
              "    <tr style=\"text-align: right;\">\n",
              "      <th></th>\n",
              "      <th>Model</th>\n",
              "      <th>Company</th>\n",
              "      <th>Engine Type</th>\n",
              "      <th>Multi Engine</th>\n",
              "      <th>TP mods</th>\n",
              "      <th>THR</th>\n",
              "      <th>SHP</th>\n",
              "      <th>Length</th>\n",
              "      <th>Height</th>\n",
              "      <th>Wing Span</th>\n",
              "      <th>...</th>\n",
              "      <th>Vstall</th>\n",
              "      <th>Hmax</th>\n",
              "      <th>Hmax (One)</th>\n",
              "      <th>ROC</th>\n",
              "      <th>ROC (One)</th>\n",
              "      <th>Vlo</th>\n",
              "      <th>Slo</th>\n",
              "      <th>Vl</th>\n",
              "      <th>Sl</th>\n",
              "      <th>Range</th>\n",
              "    </tr>\n",
              "  </thead>\n",
              "  <tbody>\n",
              "    <tr>\n",
              "      <th>0</th>\n",
              "      <td>15 AC Sedan</td>\n",
              "      <td>Aeronca</td>\n",
              "      <td>Piston</td>\n",
              "      <td>False</td>\n",
              "      <td>False</td>\n",
              "      <td>NaN</td>\n",
              "      <td>145.0</td>\n",
              "      <td>25.250000</td>\n",
              "      <td>10.250000</td>\n",
              "      <td>37.416667</td>\n",
              "      <td>...</td>\n",
              "      <td>46.0</td>\n",
              "      <td>13000.0</td>\n",
              "      <td>13000.0</td>\n",
              "      <td>450.0</td>\n",
              "      <td>450.0</td>\n",
              "      <td>900.0</td>\n",
              "      <td>391.970247</td>\n",
              "      <td>1300.0</td>\n",
              "      <td>257.745075</td>\n",
              "      <td>370.0</td>\n",
              "    </tr>\n",
              "    <tr>\n",
              "      <th>1</th>\n",
              "      <td>11 CC Super Chief</td>\n",
              "      <td>Aeronca</td>\n",
              "      <td>Piston</td>\n",
              "      <td>False</td>\n",
              "      <td>False</td>\n",
              "      <td>NaN</td>\n",
              "      <td>85.0</td>\n",
              "      <td>20.583333</td>\n",
              "      <td>8.750000</td>\n",
              "      <td>36.083333</td>\n",
              "      <td>...</td>\n",
              "      <td>44.0</td>\n",
              "      <td>12300.0</td>\n",
              "      <td>12300.0</td>\n",
              "      <td>600.0</td>\n",
              "      <td>600.0</td>\n",
              "      <td>720.0</td>\n",
              "      <td>26.247647</td>\n",
              "      <td>800.0</td>\n",
              "      <td>225.324824</td>\n",
              "      <td>190.0</td>\n",
              "    </tr>\n",
              "    <tr>\n",
              "      <th>2</th>\n",
              "      <td>7 CCM Champ</td>\n",
              "      <td>Aeronca</td>\n",
              "      <td>Piston</td>\n",
              "      <td>False</td>\n",
              "      <td>False</td>\n",
              "      <td>NaN</td>\n",
              "      <td>90.0</td>\n",
              "      <td>21.416667</td>\n",
              "      <td>8.583333</td>\n",
              "      <td>35.000000</td>\n",
              "      <td>...</td>\n",
              "      <td>37.0</td>\n",
              "      <td>16000.0</td>\n",
              "      <td>16000.0</td>\n",
              "      <td>650.0</td>\n",
              "      <td>650.0</td>\n",
              "      <td>475.0</td>\n",
              "      <td>363.139711</td>\n",
              "      <td>850.0</td>\n",
              "      <td>585.751317</td>\n",
              "      <td>210.0</td>\n",
              "    </tr>\n",
              "    <tr>\n",
              "      <th>3</th>\n",
              "      <td>7 DC Champ</td>\n",
              "      <td>Aeronca</td>\n",
              "      <td>Piston</td>\n",
              "      <td>False</td>\n",
              "      <td>False</td>\n",
              "      <td>NaN</td>\n",
              "      <td>85.0</td>\n",
              "      <td>21.416667</td>\n",
              "      <td>8.583333</td>\n",
              "      <td>35.000000</td>\n",
              "      <td>...</td>\n",
              "      <td>37.0</td>\n",
              "      <td>13000.0</td>\n",
              "      <td>13000.0</td>\n",
              "      <td>620.0</td>\n",
              "      <td>620.0</td>\n",
              "      <td>500.0</td>\n",
              "      <td>407.797297</td>\n",
              "      <td>850.0</td>\n",
              "      <td>642.046166</td>\n",
              "      <td>210.0</td>\n",
              "    </tr>\n",
              "    <tr>\n",
              "      <th>4</th>\n",
              "      <td>7 AC Champ</td>\n",
              "      <td>Aeronca</td>\n",
              "      <td>Piston</td>\n",
              "      <td>False</td>\n",
              "      <td>False</td>\n",
              "      <td>NaN</td>\n",
              "      <td>65.0</td>\n",
              "      <td>21.416667</td>\n",
              "      <td>8.750000</td>\n",
              "      <td>35.000000</td>\n",
              "      <td>...</td>\n",
              "      <td>33.0</td>\n",
              "      <td>12500.0</td>\n",
              "      <td>12500.0</td>\n",
              "      <td>370.0</td>\n",
              "      <td>370.0</td>\n",
              "      <td>632.0</td>\n",
              "      <td>297.056192</td>\n",
              "      <td>885.0</td>\n",
              "      <td>329.571813</td>\n",
              "      <td>175.0</td>\n",
              "    </tr>\n",
              "  </tbody>\n",
              "</table>\n",
              "<p>5 rows × 25 columns</p>\n",
              "</div>"
            ],
            "text/plain": [
              "               Model  Company Engine Type  Multi Engine  TP mods  THR    SHP  \\\n",
              "0        15 AC Sedan  Aeronca      Piston         False    False  NaN  145.0   \n",
              "1  11 CC Super Chief  Aeronca      Piston         False    False  NaN   85.0   \n",
              "2        7 CCM Champ  Aeronca      Piston         False    False  NaN   90.0   \n",
              "3         7 DC Champ  Aeronca      Piston         False    False  NaN   85.0   \n",
              "4         7 AC Champ  Aeronca      Piston         False    False  NaN   65.0   \n",
              "\n",
              "      Length     Height  Wing Span  ...  Vstall     Hmax  Hmax (One)    ROC  \\\n",
              "0  25.250000  10.250000  37.416667  ...    46.0  13000.0     13000.0  450.0   \n",
              "1  20.583333   8.750000  36.083333  ...    44.0  12300.0     12300.0  600.0   \n",
              "2  21.416667   8.583333  35.000000  ...    37.0  16000.0     16000.0  650.0   \n",
              "3  21.416667   8.583333  35.000000  ...    37.0  13000.0     13000.0  620.0   \n",
              "4  21.416667   8.750000  35.000000  ...    33.0  12500.0     12500.0  370.0   \n",
              "\n",
              "   ROC (One)    Vlo         Slo      Vl          Sl  Range  \n",
              "0      450.0  900.0  391.970247  1300.0  257.745075  370.0  \n",
              "1      600.0  720.0   26.247647   800.0  225.324824  190.0  \n",
              "2      650.0  475.0  363.139711   850.0  585.751317  210.0  \n",
              "3      620.0  500.0  407.797297   850.0  642.046166  210.0  \n",
              "4      370.0  632.0  297.056192   885.0  329.571813  175.0  \n",
              "\n",
              "[5 rows x 25 columns]"
            ]
          },
          "execution_count": 6,
          "metadata": {},
          "output_type": "execute_result"
        }
      ],
      "source": [
        "import pandas as pd\n",
        "\n",
        "# THIS IS FROM THE WALKTHROUGH df = pd.read_csv(f\"inputs/datasets/raw/WA_Fn-UseC_-Telco-Customer-Churn.csv\")\n",
        "# df = pd.read_csv(f\"./inputs/datasets/raw/Airplane_Complete_Imputation.csv\")\n",
        "df = pd.read_csv(f\"/workspace/data-driven-design/inputs/datasets/raw/Airplane_Complete_Imputation.csv\")\n",
        "\n",
        "# Why is it sometimes having ... and sometimes not!\n",
        "\n",
        "df.head()"
      ]
    },
    {
      "cell_type": "code",
      "execution_count": 7,
      "metadata": {},
      "outputs": [
        {
          "name": "stdout",
          "output_type": "stream",
          "text": [
            "               Model  Company Engine Type  Multi Engine  TP mods  THR    SHP  \\\n",
            "0        15 AC Sedan  Aeronca      Piston         False    False  NaN  145.0   \n",
            "1  11 CC Super Chief  Aeronca      Piston         False    False  NaN   85.0   \n",
            "2        7 CCM Champ  Aeronca      Piston         False    False  NaN   90.0   \n",
            "3         7 DC Champ  Aeronca      Piston         False    False  NaN   85.0   \n",
            "4         7 AC Champ  Aeronca      Piston         False    False  NaN   65.0   \n",
            "\n",
            "      Length     Height  Wing Span     FW     MEW     AUW   Vmax  Vcruise  \\\n",
            "0  25.250000  10.250000  37.416667  241.2  1180.0  2050.0  104.0     91.0   \n",
            "1  20.583333   8.750000  36.083333  100.5   820.0  1350.0   89.0     83.0   \n",
            "2  21.416667   8.583333  35.000000  127.3   810.0  1300.0   90.0     78.0   \n",
            "3  21.416667   8.583333  35.000000  127.3   800.0  1300.0   88.0     78.0   \n",
            "4  21.416667   8.750000  35.000000   93.8   740.0  1220.0   83.0     74.0   \n",
            "\n",
            "   Vstall     Hmax  Hmax (One)    ROC  ROC (One)    Vlo         Slo      Vl  \\\n",
            "0    46.0  13000.0     13000.0  450.0      450.0  900.0  391.970247  1300.0   \n",
            "1    44.0  12300.0     12300.0  600.0      600.0  720.0   26.247647   800.0   \n",
            "2    37.0  16000.0     16000.0  650.0      650.0  475.0  363.139711   850.0   \n",
            "3    37.0  13000.0     13000.0  620.0      620.0  500.0  407.797297   850.0   \n",
            "4    33.0  12500.0     12500.0  370.0      370.0  632.0  297.056192   885.0   \n",
            "\n",
            "           Sl  Range  \n",
            "0  257.745075  370.0  \n",
            "1  225.324824  190.0  \n",
            "2  585.751317  210.0  \n",
            "3  642.046166  210.0  \n",
            "4  329.571813  175.0  \n"
          ]
        }
      ],
      "source": [
        "import pandas as pd\n",
        "\n",
        "# Load the CSV file\n",
        "# THIS IS FROM THE WALKTHROUGH df = pd.read_csv(f\"inputs/datasets/raw/WA_Fn-UseC_-Telco-Customer-Churn.csv\")\n",
        "# df = pd.read_csv(f\"./inputs/datasets/raw/Airplane_Complete_Imputation.csv\")\n",
        "df = pd.read_csv(f\"/workspace/data-driven-design/inputs/datasets/raw/Airplane_Complete_Imputation.csv\")\n",
        "\n",
        "# Set options to display all columns\n",
        "pd.set_option('display.max_columns', None)\n",
        "\n",
        "# Print the first few rows (head) of the DataFrame\n",
        "print(df.head())\n"
      ]
    },
    {
      "cell_type": "markdown",
      "metadata": {},
      "source": [
        "DataFrame Summary, No missing values, all correct \"Dtype\""
      ]
    },
    {
      "cell_type": "code",
      "execution_count": 8,
      "metadata": {},
      "outputs": [
        {
          "name": "stdout",
          "output_type": "stream",
          "text": [
            "<class 'pandas.core.frame.DataFrame'>\n",
            "RangeIndex: 860 entries, 0 to 859\n",
            "Data columns (total 25 columns):\n",
            " #   Column        Non-Null Count  Dtype  \n",
            "---  ------        --------------  -----  \n",
            " 0   Model         860 non-null    object \n",
            " 1   Company       860 non-null    object \n",
            " 2   Engine Type   860 non-null    object \n",
            " 3   Multi Engine  860 non-null    bool   \n",
            " 4   TP mods       860 non-null    bool   \n",
            " 5   THR           156 non-null    float64\n",
            " 6   SHP           704 non-null    float64\n",
            " 7   Length        860 non-null    float64\n",
            " 8   Height        860 non-null    float64\n",
            " 9   Wing Span     860 non-null    float64\n",
            " 10  FW            860 non-null    float64\n",
            " 11  MEW           860 non-null    float64\n",
            " 12  AUW           860 non-null    float64\n",
            " 13  Vmax          860 non-null    float64\n",
            " 14  Vcruise       860 non-null    float64\n",
            " 15  Vstall        860 non-null    float64\n",
            " 16  Hmax          860 non-null    float64\n",
            " 17  Hmax (One)    860 non-null    float64\n",
            " 18  ROC           860 non-null    float64\n",
            " 19  ROC (One)     860 non-null    float64\n",
            " 20  Vlo           860 non-null    float64\n",
            " 21  Slo           860 non-null    float64\n",
            " 22  Vl            860 non-null    float64\n",
            " 23  Sl            860 non-null    float64\n",
            " 24  Range         860 non-null    float64\n",
            "dtypes: bool(2), float64(20), object(3)\n",
            "memory usage: 156.3+ KB\n"
          ]
        }
      ],
      "source": [
        "df.info()"
      ]
    },
    {
      "cell_type": "markdown",
      "metadata": {},
      "source": [
        "We want to check if there are duplicated `Model`: There seems to be three duplicate values (becaseu three rows are showing up however there \"Model\" are different so I do not understand). Also it days not say how many dubplicate rows there are as it did in the Churnometer walkthrough!"
      ]
    },
    {
      "cell_type": "code",
      "execution_count": 9,
      "metadata": {},
      "outputs": [
        {
          "data": {
            "text/html": [
              "<div>\n",
              "<style scoped>\n",
              "    .dataframe tbody tr th:only-of-type {\n",
              "        vertical-align: middle;\n",
              "    }\n",
              "\n",
              "    .dataframe tbody tr th {\n",
              "        vertical-align: top;\n",
              "    }\n",
              "\n",
              "    .dataframe thead th {\n",
              "        text-align: right;\n",
              "    }\n",
              "</style>\n",
              "<table border=\"1\" class=\"dataframe\">\n",
              "  <thead>\n",
              "    <tr style=\"text-align: right;\">\n",
              "      <th></th>\n",
              "      <th>Model</th>\n",
              "      <th>Company</th>\n",
              "      <th>Engine Type</th>\n",
              "      <th>Multi Engine</th>\n",
              "      <th>TP mods</th>\n",
              "      <th>THR</th>\n",
              "      <th>SHP</th>\n",
              "      <th>Length</th>\n",
              "      <th>Height</th>\n",
              "      <th>Wing Span</th>\n",
              "      <th>FW</th>\n",
              "      <th>MEW</th>\n",
              "      <th>AUW</th>\n",
              "      <th>Vmax</th>\n",
              "      <th>Vcruise</th>\n",
              "      <th>Vstall</th>\n",
              "      <th>Hmax</th>\n",
              "      <th>Hmax (One)</th>\n",
              "      <th>ROC</th>\n",
              "      <th>ROC (One)</th>\n",
              "      <th>Vlo</th>\n",
              "      <th>Slo</th>\n",
              "      <th>Vl</th>\n",
              "      <th>Sl</th>\n",
              "      <th>Range</th>\n",
              "    </tr>\n",
              "  </thead>\n",
              "  <tbody>\n",
              "    <tr>\n",
              "      <th>65</th>\n",
              "      <td>AT-602</td>\n",
              "      <td>Beechcraft (Hawker Beechcraft)</td>\n",
              "      <td>Propjet</td>\n",
              "      <td>False</td>\n",
              "      <td>False</td>\n",
              "      <td>NaN</td>\n",
              "      <td>1050.0</td>\n",
              "      <td>33.500000</td>\n",
              "      <td>11.000000</td>\n",
              "      <td>56.00</td>\n",
              "      <td>1447.2</td>\n",
              "      <td>5829.0</td>\n",
              "      <td>12500.0</td>\n",
              "      <td>158.000</td>\n",
              "      <td>126.00</td>\n",
              "      <td>52.000000</td>\n",
              "      <td>8000.0</td>\n",
              "      <td>8000.000000</td>\n",
              "      <td>650.000000</td>\n",
              "      <td>650.0</td>\n",
              "      <td>2803.267722</td>\n",
              "      <td>1830.0</td>\n",
              "      <td>2862.650930</td>\n",
              "      <td>1820.805987</td>\n",
              "      <td>600.0</td>\n",
              "    </tr>\n",
              "    <tr>\n",
              "      <th>481</th>\n",
              "      <td>Lineage 1000</td>\n",
              "      <td>Embraer Aircraft - Empresa Brasileira</td>\n",
              "      <td>Jet</td>\n",
              "      <td>True</td>\n",
              "      <td>False</td>\n",
              "      <td>18500.0</td>\n",
              "      <td>NaN</td>\n",
              "      <td>118.916667</td>\n",
              "      <td>33.750000</td>\n",
              "      <td>94.25</td>\n",
              "      <td>48217.0</td>\n",
              "      <td>70841.0</td>\n",
              "      <td>120152.0</td>\n",
              "      <td>546.940</td>\n",
              "      <td>452.00</td>\n",
              "      <td>107.896643</td>\n",
              "      <td>41000.0</td>\n",
              "      <td>16648.502977</td>\n",
              "      <td>2464.000000</td>\n",
              "      <td>720.0</td>\n",
              "      <td>6661.152244</td>\n",
              "      <td>6076.0</td>\n",
              "      <td>2647.677210</td>\n",
              "      <td>3402.000000</td>\n",
              "      <td>4592.0</td>\n",
              "    </tr>\n",
              "    <tr>\n",
              "      <th>514</th>\n",
              "      <td>G500</td>\n",
              "      <td>Gulfstream Aerospace</td>\n",
              "      <td>Jet</td>\n",
              "      <td>True</td>\n",
              "      <td>False</td>\n",
              "      <td>15385.0</td>\n",
              "      <td>NaN</td>\n",
              "      <td>96.416667</td>\n",
              "      <td>25.833333</td>\n",
              "      <td>93.50</td>\n",
              "      <td>34939.0</td>\n",
              "      <td>47600.0</td>\n",
              "      <td>85100.0</td>\n",
              "      <td>590.295</td>\n",
              "      <td>566.95</td>\n",
              "      <td>107.629085</td>\n",
              "      <td>51000.0</td>\n",
              "      <td>27700.000000</td>\n",
              "      <td>5515.951635</td>\n",
              "      <td>707.0</td>\n",
              "      <td>6700.448422</td>\n",
              "      <td>5150.0</td>\n",
              "      <td>4383.458188</td>\n",
              "      <td>2770.000000</td>\n",
              "      <td>5200.0</td>\n",
              "    </tr>\n",
              "  </tbody>\n",
              "</table>\n",
              "</div>"
            ],
            "text/plain": [
              "            Model                                Company Engine Type  \\\n",
              "65         AT-602         Beechcraft (Hawker Beechcraft)     Propjet   \n",
              "481  Lineage 1000  Embraer Aircraft - Empresa Brasileira         Jet   \n",
              "514          G500                   Gulfstream Aerospace         Jet   \n",
              "\n",
              "     Multi Engine  TP mods      THR     SHP      Length     Height  Wing Span  \\\n",
              "65          False    False      NaN  1050.0   33.500000  11.000000      56.00   \n",
              "481          True    False  18500.0     NaN  118.916667  33.750000      94.25   \n",
              "514          True    False  15385.0     NaN   96.416667  25.833333      93.50   \n",
              "\n",
              "          FW      MEW       AUW     Vmax  Vcruise      Vstall     Hmax  \\\n",
              "65    1447.2   5829.0   12500.0  158.000   126.00   52.000000   8000.0   \n",
              "481  48217.0  70841.0  120152.0  546.940   452.00  107.896643  41000.0   \n",
              "514  34939.0  47600.0   85100.0  590.295   566.95  107.629085  51000.0   \n",
              "\n",
              "       Hmax (One)          ROC  ROC (One)          Vlo     Slo           Vl  \\\n",
              "65    8000.000000   650.000000      650.0  2803.267722  1830.0  2862.650930   \n",
              "481  16648.502977  2464.000000      720.0  6661.152244  6076.0  2647.677210   \n",
              "514  27700.000000  5515.951635      707.0  6700.448422  5150.0  4383.458188   \n",
              "\n",
              "              Sl   Range  \n",
              "65   1820.805987   600.0  \n",
              "481  3402.000000  4592.0  \n",
              "514  2770.000000  5200.0  "
            ]
          },
          "execution_count": 9,
          "metadata": {},
          "output_type": "execute_result"
        }
      ],
      "source": [
        "df[df.duplicated(subset=['Model'])]"
      ]
    },
    {
      "cell_type": "markdown",
      "metadata": {},
      "source": [
        "Dont need to converting any feature to any type since they where already all the correct type!"
      ]
    },
    {
      "cell_type": "code",
      "execution_count": 84,
      "metadata": {},
      "outputs": [],
      "source": [
        "# No need for this Chrunometer line\n",
        "# df['TotalCharges'] = pd.to_numeric(df['TotalCharges'] ,errors='coerce')"
      ]
    },
    {
      "cell_type": "markdown",
      "metadata": {},
      "source": [
        "NOT NECESSARY: Check `TotalCharges` data type"
      ]
    },
    {
      "cell_type": "code",
      "execution_count": 85,
      "metadata": {},
      "outputs": [
        {
          "ename": "SyntaxError",
          "evalue": "invalid syntax (1917926573.py, line 2)",
          "output_type": "error",
          "traceback": [
            "\u001b[0;36m  Cell \u001b[0;32mIn[85], line 2\u001b[0;36m\u001b[0m\n\u001b[0;31m    Do nothing\u001b[0m\n\u001b[0m       ^\u001b[0m\n\u001b[0;31mSyntaxError\u001b[0m\u001b[0;31m:\u001b[0m invalid syntax\n"
          ]
        }
      ],
      "source": [
        "# NOT NECESSAY df['TotalCharges'].dtype\n",
        "Do nothing"
      ]
    },
    {
      "cell_type": "markdown",
      "metadata": {},
      "source": [
        "We noticed that `Multi Engine` is a categorical variable: True or False. We will replace/convert it to an integer as the ML model requires numeric variables. "
      ]
    },
    {
      "cell_type": "code",
      "execution_count": 10,
      "metadata": {},
      "outputs": [
        {
          "data": {
            "text/plain": [
              "array([False,  True])"
            ]
          },
          "execution_count": 10,
          "metadata": {},
          "output_type": "execute_result"
        }
      ],
      "source": [
        "df['Multi Engine'].unique()"
      ]
    },
    {
      "cell_type": "code",
      "execution_count": 15,
      "metadata": {},
      "outputs": [],
      "source": [
        "df['Multi Engine'] = df['Multi Engine'].astype(int)"
      ]
    },
    {
      "cell_type": "code",
      "execution_count": 20,
      "metadata": {},
      "outputs": [
        {
          "name": "stdout",
          "output_type": "stream",
          "text": [
            "                 Model             Company Engine Type  Multi Engine  TP mods  \\\n",
            "0          15 AC Sedan             Aeronca      Piston             0    False   \n",
            "1    11 CC Super Chief             Aeronca      Piston             0    False   \n",
            "2          7 CCM Champ             Aeronca      Piston             0    False   \n",
            "3           7 DC Champ             Aeronca      Piston             0    False   \n",
            "4           7 AC Champ             Aeronca      Piston             0    False   \n",
            "..                 ...                 ...         ...           ...      ...   \n",
            "855              500 A  Twin Commander A/C      Piston             1    False   \n",
            "856                500  Twin Commander A/C      Piston             1    False   \n",
            "857                520  Twin Commander A/C      Piston             1    False   \n",
            "858               2180               Varga      Piston             0    False   \n",
            "859      2150A Kachina               Varga      Piston             0    False   \n",
            "\n",
            "     THR    SHP     Length     Height  Wing Span      FW     MEW     AUW  \\\n",
            "0    NaN  145.0  25.250000  10.250000  37.416667   241.2  1180.0  2050.0   \n",
            "1    NaN   85.0  20.583333   8.750000  36.083333   100.5   820.0  1350.0   \n",
            "2    NaN   90.0  21.416667   8.583333  35.000000   127.3   810.0  1300.0   \n",
            "3    NaN   85.0  21.416667   8.583333  35.000000   127.3   800.0  1300.0   \n",
            "4    NaN   65.0  21.416667   8.750000  35.000000    93.8   740.0  1220.0   \n",
            "..   ...    ...        ...        ...        ...     ...     ...     ...   \n",
            "855  NaN  260.0  35.083333  14.416667  49.416667  1045.2  4255.0  6250.0   \n",
            "856  NaN  250.0  35.083333  14.416667  49.000000  1045.2  3850.0  6000.0   \n",
            "857  NaN  260.0  35.416667  14.416667  44.083333  1005.0  3800.0  5500.0   \n",
            "858  NaN  180.0  21.166667   7.000000  30.000000   221.1  1175.0  1817.0   \n",
            "859  NaN  150.0  21.166667   7.000000  30.000000   221.1  1125.0  1817.0   \n",
            "\n",
            "      Vmax  Vcruise  Vstall     Hmax  Hmax (One)     ROC  ROC (One)     Vlo  \\\n",
            "0    104.0     91.0    46.0  13000.0     13000.0   450.0      450.0   900.0   \n",
            "1     89.0     83.0    44.0  12300.0     12300.0   600.0      600.0   720.0   \n",
            "2     90.0     78.0    37.0  16000.0     16000.0   650.0      650.0   475.0   \n",
            "3     88.0     78.0    37.0  13000.0     13000.0   620.0      620.0   500.0   \n",
            "4     83.0     74.0    33.0  12500.0     12500.0   370.0      370.0   632.0   \n",
            "..     ...      ...     ...      ...         ...     ...        ...     ...   \n",
            "855  198.0    190.0    54.0  22500.0      7850.0  1400.0      320.0  1210.0   \n",
            "856  190.0    178.0    55.0  22500.0      7150.0  1400.0      290.0  1250.0   \n",
            "857  183.0    171.0    52.0  24000.0      8500.0  1700.0      400.0  1100.0   \n",
            "858  130.0    116.0    45.0  22000.0     22000.0  1310.0     1310.0  1730.0   \n",
            "859  117.0    104.0    45.0  22000.0     22000.0   910.0      910.0  1730.0   \n",
            "\n",
            "             Slo      Vl          Sl   Range  \n",
            "0     391.970247  1300.0  257.745075   370.0  \n",
            "1      26.247647   800.0  225.324824   190.0  \n",
            "2     363.139711   850.0  585.751317   210.0  \n",
            "3     407.797297   850.0  642.046166   210.0  \n",
            "4     297.056192   885.0  329.571813   175.0  \n",
            "..           ...     ...         ...     ...  \n",
            "855   970.000000  1150.0  865.000000   957.0  \n",
            "856  1000.000000  1350.0  950.000000   957.0  \n",
            "857   950.000000  1050.0  900.000000  1000.0  \n",
            "858  1120.000000  1585.0  785.000000   365.0  \n",
            "859  1120.000000  1585.0  785.000000   380.0  \n",
            "\n",
            "[860 rows x 25 columns]\n"
          ]
        }
      ],
      "source": [
        "df['Multi Engine'] = df['Multi Engine'].replace({True:1, False:0})\n",
        "print(df)"
      ]
    },
    {
      "cell_type": "markdown",
      "metadata": {},
      "source": [
        "Check the `Multi Engine` data type."
      ]
    },
    {
      "cell_type": "code",
      "execution_count": 21,
      "metadata": {},
      "outputs": [
        {
          "data": {
            "text/plain": [
              "dtype('int64')"
            ]
          },
          "execution_count": 21,
          "metadata": {},
          "output_type": "execute_result"
        }
      ],
      "source": [
        "df['Multi Engine'].dtype"
      ]
    },
    {
      "cell_type": "markdown",
      "metadata": {},
      "source": [
        "Want to se if it is now 1 and 0 or True and False. and we see that it was not succesfull!"
      ]
    },
    {
      "cell_type": "code",
      "execution_count": 22,
      "metadata": {},
      "outputs": [],
      "source": [
        "df['Multi Engine'] = df['Multi Engine'].astype(int)"
      ]
    },
    {
      "cell_type": "code",
      "execution_count": 18,
      "metadata": {},
      "outputs": [
        {
          "name": "stdout",
          "output_type": "stream",
          "text": [
            "0      0\n",
            "1      0\n",
            "2      0\n",
            "3      0\n",
            "4      0\n",
            "      ..\n",
            "855    1\n",
            "856    1\n",
            "857    1\n",
            "858    0\n",
            "859    0\n",
            "Name: Multi Engine, Length: 860, dtype: int64\n"
          ]
        }
      ],
      "source": [
        "print(df['Multi Engine'])\n"
      ]
    },
    {
      "cell_type": "markdown",
      "metadata": {},
      "source": [
        "---"
      ]
    },
    {
      "cell_type": "markdown",
      "metadata": {},
      "source": [
        "NOTE"
      ]
    },
    {
      "cell_type": "markdown",
      "metadata": {},
      "source": [
        "* You may add as many sections as you want, as long as it supports your project workflow.\n",
        "* All notebook's cells should be run top-down (you can't create a dynamic wherein a given point you need to go back to a previous cell to execute some task, like go back to a previous cell and refresh a variable content)"
      ]
    },
    {
      "cell_type": "markdown",
      "metadata": {},
      "source": [
        "---"
      ]
    },
    {
      "cell_type": "markdown",
      "metadata": {
        "id": "ltNetd085qHf"
      },
      "source": [
        "# Push files to Repo"
      ]
    },
    {
      "cell_type": "markdown",
      "metadata": {},
      "source": [
        "* In case you don't need to push files to Repo, you may replace this section with \"Conclusions and Next Steps\" and state your conclusions and next steps."
      ]
    },
    {
      "cell_type": "code",
      "execution_count": null,
      "metadata": {
        "id": "aKlnIozA4eQO",
        "outputId": "fd09bc1f-adb1-4511-f6ce-492a6af570c0"
      },
      "outputs": [],
      "source": [
        "import os\n",
        "try:\n",
        "  # create here your folder\n",
        "  # os.makedirs(name='')\n",
        "except Exception as e:\n",
        "  print(e)\n"
      ]
    },
    {
      "cell_type": "markdown",
      "metadata": {},
      "source": [
        "# Push files to Repo"
      ]
    }
  ],
  "metadata": {
    "accelerator": "GPU",
    "colab": {
      "name": "Data Practitioner Jupyter Notebook.ipynb",
      "provenance": [],
      "toc_visible": true
    },
    "interpreter": {
      "hash": "8b8334dab9339717f727a1deaf837b322d7a41c20d15cc86be99a8e69ceec8ce"
    },
    "kernelspec": {
      "display_name": "Python 3.8.12 64-bit ('3.8.12': pyenv)",
      "name": "python3"
    },
    "language_info": {
      "codemirror_mode": {
        "name": "ipython",
        "version": 3
      },
      "file_extension": ".py",
      "mimetype": "text/x-python",
      "name": "python",
      "nbconvert_exporter": "python",
      "pygments_lexer": "ipython3",
      "version": "3.8.18"
    },
    "orig_nbformat": 2
  },
  "nbformat": 4,
  "nbformat_minor": 2
}
