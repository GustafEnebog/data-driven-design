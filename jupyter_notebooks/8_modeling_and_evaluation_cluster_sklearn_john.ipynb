{
  "cells": [
    {
      "cell_type": "markdown",
      "metadata": {
        "id": "0aStgWSO0E0E"
      },
      "source": [
        "# **Cluster**"
      ]
    },
    {
      "cell_type": "markdown",
      "metadata": {
        "id": "1eLEkw5O0ECa"
      },
      "source": [
        "## Objectives\n",
        "\n",
        "* Fit and evaluate a cluster model to group similar data\n",
        "* Understand the profile for each cluster\n",
        "\n",
        "\n",
        "## Inputs\n",
        "\n",
        "* outputs/datasets/collection/airplane_performance_study.csv\n",
        "* Instructions on which variables to use for data cleaning and feature engineering. They are found in their respective notebooks.\n",
        "\n",
        "## Outputs\n",
        "\n",
        "* Cluster Pipeline\n",
        "* Train Set\n",
        "* Most important features to define a cluster plot\n",
        "* Clusters Profile Description\n",
        "* Cluster Silhouette\n"
      ]
    },
    {
      "cell_type": "markdown",
      "metadata": {
        "id": "9uWZXH9LwoQg"
      },
      "source": [
        "---"
      ]
    },
    {
      "cell_type": "markdown",
      "metadata": {},
      "source": [
        "# Change working directory"
      ]
    },
    {
      "cell_type": "markdown",
      "metadata": {},
      "source": [
        "We need to change the working directory from its current folder to its parent folder\n",
        "* We access the current directory with os.getcwd()"
      ]
    },
    {
      "cell_type": "code",
      "execution_count": 1,
      "metadata": {},
      "outputs": [
        {
          "data": {
            "text/plain": [
              "'/workspace/data-driven-design/jupyter_notebooks'"
            ]
          },
          "execution_count": 1,
          "metadata": {},
          "output_type": "execute_result"
        }
      ],
      "source": [
        "import os\n",
        "current_dir = os.getcwd()\n",
        "current_dir"
      ]
    },
    {
      "cell_type": "markdown",
      "metadata": {},
      "source": [
        "We want to make the parent of the parent of current directory the new current directory\n",
        "* os.path.dirname() gets the parent directory\n",
        "* os.chir() defines the new current directory"
      ]
    },
    {
      "cell_type": "code",
      "execution_count": 2,
      "metadata": {},
      "outputs": [
        {
          "name": "stdout",
          "output_type": "stream",
          "text": [
            "You set a new current directory\n"
          ]
        }
      ],
      "source": [
        "os.chdir(os.path.dirname(current_dir))\n",
        "print(\"You set a new current directory\")"
      ]
    },
    {
      "cell_type": "markdown",
      "metadata": {},
      "source": [
        "Confirm the new current directory"
      ]
    },
    {
      "cell_type": "code",
      "execution_count": 3,
      "metadata": {},
      "outputs": [
        {
          "data": {
            "text/plain": [
              "'/workspace/data-driven-design'"
            ]
          },
          "execution_count": 3,
          "metadata": {},
          "output_type": "execute_result"
        }
      ],
      "source": [
        "current_dir = os.getcwd()\n",
        "current_dir"
      ]
    },
    {
      "cell_type": "markdown",
      "metadata": {
        "id": "pXKlJFX0iuM5"
      },
      "source": [
        "---"
      ]
    },
    {
      "cell_type": "markdown",
      "metadata": {
        "id": "-mavJ8DibrcQ"
      },
      "source": [
        "# Load Data"
      ]
    },
    {
      "cell_type": "markdown",
      "metadata": {},
      "source": [
        "We will drop the categorical variables Engine_Type, Multi_Engine and TPmods in order to have a pure numerical continuous data set. OR NOT! CHECK THIS LATER!!!!!\n",
        "\n",
        "We are here dropping:\n",
        "Model, Company because these are only meta data, identifiers\n",
        "THR and SHP both because they are difficult to intepret\n",
        "Hmax_(One) and ROC_(One) becasue since they ONLY apply to the Airplanes with a \"True\" under the \"Multi Engine\"-feature and it would therefore skew the result. Fact is I first ran this including these two variabels and indeed Hmax_(One) did come out on top as the most important feature (The second most important feature was AUW and ROC_(One) was not even there!).\n",
        "Give also reason why I drop Multi_Engine and Engine Type (becasue I plan to test these without reduction)"
      ]
    },
    {
      "cell_type": "code",
      "execution_count": 4,
      "metadata": {
        "id": "Xk7DU_ekbtX8"
      },
      "outputs": [
        {
          "name": "stdout",
          "output_type": "stream",
          "text": [
            "(857, 18)\n"
          ]
        },
        {
          "data": {
            "text/html": [
              "<div>\n",
              "<style scoped>\n",
              "    .dataframe tbody tr th:only-of-type {\n",
              "        vertical-align: middle;\n",
              "    }\n",
              "\n",
              "    .dataframe tbody tr th {\n",
              "        vertical-align: top;\n",
              "    }\n",
              "\n",
              "    .dataframe thead th {\n",
              "        text-align: right;\n",
              "    }\n",
              "</style>\n",
              "<table border=\"1\" class=\"dataframe\">\n",
              "  <thead>\n",
              "    <tr style=\"text-align: right;\">\n",
              "      <th></th>\n",
              "      <th>Wing_Span</th>\n",
              "      <th>Length</th>\n",
              "      <th>Height</th>\n",
              "      <th>TP_mods</th>\n",
              "      <th>Engine_Type</th>\n",
              "      <th>AUW</th>\n",
              "      <th>MEW</th>\n",
              "      <th>FW</th>\n",
              "      <th>Vmax</th>\n",
              "      <th>Vcruise</th>\n",
              "      <th>Vstall</th>\n",
              "      <th>Range</th>\n",
              "      <th>Hmax</th>\n",
              "      <th>ROC</th>\n",
              "      <th>Vlo</th>\n",
              "      <th>Slo</th>\n",
              "      <th>Vl</th>\n",
              "      <th>Sl</th>\n",
              "    </tr>\n",
              "  </thead>\n",
              "  <tbody>\n",
              "    <tr>\n",
              "      <th>0</th>\n",
              "      <td>37.416667</td>\n",
              "      <td>25.250000</td>\n",
              "      <td>10.250000</td>\n",
              "      <td>False</td>\n",
              "      <td>0</td>\n",
              "      <td>2050.0</td>\n",
              "      <td>1180.0</td>\n",
              "      <td>241.2</td>\n",
              "      <td>104.0</td>\n",
              "      <td>91.0</td>\n",
              "      <td>46.0</td>\n",
              "      <td>370.0</td>\n",
              "      <td>13000.0</td>\n",
              "      <td>450.0</td>\n",
              "      <td>900.0</td>\n",
              "      <td>391.970247</td>\n",
              "      <td>1300.0</td>\n",
              "      <td>257.745075</td>\n",
              "    </tr>\n",
              "    <tr>\n",
              "      <th>1</th>\n",
              "      <td>36.083333</td>\n",
              "      <td>20.583333</td>\n",
              "      <td>8.750000</td>\n",
              "      <td>False</td>\n",
              "      <td>0</td>\n",
              "      <td>1350.0</td>\n",
              "      <td>820.0</td>\n",
              "      <td>100.5</td>\n",
              "      <td>89.0</td>\n",
              "      <td>83.0</td>\n",
              "      <td>44.0</td>\n",
              "      <td>190.0</td>\n",
              "      <td>12300.0</td>\n",
              "      <td>600.0</td>\n",
              "      <td>720.0</td>\n",
              "      <td>26.247647</td>\n",
              "      <td>800.0</td>\n",
              "      <td>225.324824</td>\n",
              "    </tr>\n",
              "    <tr>\n",
              "      <th>2</th>\n",
              "      <td>35.000000</td>\n",
              "      <td>21.416667</td>\n",
              "      <td>8.583333</td>\n",
              "      <td>False</td>\n",
              "      <td>0</td>\n",
              "      <td>1300.0</td>\n",
              "      <td>810.0</td>\n",
              "      <td>127.3</td>\n",
              "      <td>90.0</td>\n",
              "      <td>78.0</td>\n",
              "      <td>37.0</td>\n",
              "      <td>210.0</td>\n",
              "      <td>16000.0</td>\n",
              "      <td>650.0</td>\n",
              "      <td>475.0</td>\n",
              "      <td>363.139711</td>\n",
              "      <td>850.0</td>\n",
              "      <td>585.751317</td>\n",
              "    </tr>\n",
              "  </tbody>\n",
              "</table>\n",
              "</div>"
            ],
            "text/plain": [
              "   Wing_Span     Length     Height  TP_mods  Engine_Type     AUW     MEW  \\\n",
              "0  37.416667  25.250000  10.250000    False            0  2050.0  1180.0   \n",
              "1  36.083333  20.583333   8.750000    False            0  1350.0   820.0   \n",
              "2  35.000000  21.416667   8.583333    False            0  1300.0   810.0   \n",
              "\n",
              "      FW   Vmax  Vcruise  Vstall  Range     Hmax    ROC    Vlo         Slo  \\\n",
              "0  241.2  104.0     91.0    46.0  370.0  13000.0  450.0  900.0  391.970247   \n",
              "1  100.5   89.0     83.0    44.0  190.0  12300.0  600.0  720.0   26.247647   \n",
              "2  127.3   90.0     78.0    37.0  210.0  16000.0  650.0  475.0  363.139711   \n",
              "\n",
              "       Vl          Sl  \n",
              "0  1300.0  257.745075  \n",
              "1   800.0  225.324824  \n",
              "2   850.0  585.751317  "
            ]
          },
          "execution_count": 4,
          "metadata": {},
          "output_type": "execute_result"
        }
      ],
      "source": [
        "import pandas as pd\n",
        "df = (pd.read_csv(\"outputs/datasets/collection/airplane_performance_study.csv\")\n",
        "      .drop(['Model', 'Company', 'Multi_Engine', 'THR', 'SHP', 'Hmax_(One)', 'ROC_(One)'], axis=1)\n",
        "      )\n",
        "print(df.shape)\n",
        "df.head(3)\n"
      ]
    },
    {
      "cell_type": "markdown",
      "metadata": {
        "id": "krjAk78Tbyhv"
      },
      "source": [
        "# Cluster Pipeline with all data"
      ]
    },
    {
      "cell_type": "markdown",
      "metadata": {
        "id": "NZWZHhpYaDjf"
      },
      "source": [
        "##  ML Cluster Pipeline"
      ]
    },
    {
      "cell_type": "code",
      "execution_count": 5,
      "metadata": {},
      "outputs": [
        {
          "name": "stdout",
          "output_type": "stream",
          "text": [
            "Wing_Span      float64\n",
            "Length         float64\n",
            "Height         float64\n",
            "TP_mods           bool\n",
            "Engine_Type      int64\n",
            "AUW            float64\n",
            "MEW            float64\n",
            "FW             float64\n",
            "Vmax           float64\n",
            "Vcruise        float64\n",
            "Vstall         float64\n",
            "Range          float64\n",
            "Hmax           float64\n",
            "ROC            float64\n",
            "Vlo            float64\n",
            "Slo            float64\n",
            "Vl             float64\n",
            "Sl             float64\n",
            "dtype: object\n"
          ]
        }
      ],
      "source": [
        "print(df.dtypes)"
      ]
    },
    {
      "cell_type": "markdown",
      "metadata": {},
      "source": [
        "Explain why I have not the Multi_Engine and Engine_Type (cause I dropped them earlier)"
      ]
    },
    {
      "cell_type": "code",
      "execution_count": 6,
      "metadata": {},
      "outputs": [
        {
          "name": "stdout",
          "output_type": "stream",
          "text": [
            "Wing_Span      float64\n",
            "Length         float64\n",
            "Height         float64\n",
            "TP_mods         object\n",
            "Engine_Type     object\n",
            "AUW            float64\n",
            "MEW            float64\n",
            "FW             float64\n",
            "Vmax           float64\n",
            "Vcruise        float64\n",
            "Vstall         float64\n",
            "Range          float64\n",
            "Hmax           float64\n",
            "ROC            float64\n",
            "Vlo            float64\n",
            "Slo            float64\n",
            "Vl             float64\n",
            "Sl             float64\n",
            "dtype: object\n"
          ]
        }
      ],
      "source": [
        "# Convert boolean columns to strings\n",
        "#df['Multi_Engine'] = df['Multi_Engine'].replace({True: 'Yes', False: 'No'})\n",
        "df['TP_mods'] = df['TP_mods'].replace({True: 'Yes', False: 'No'})\n",
        "\n",
        "# Convert integer columns to strings (if they represent categories)\n",
        "df['Engine_Type'] = df['Engine_Type'].astype(str)\n",
        "\n",
        "# Check the updated data types\n",
        "print(df.dtypes)\n"
      ]
    },
    {
      "cell_type": "markdown",
      "metadata": {},
      "source": [
        "We will use K-means since this model is ideal for numerical continuous data. For this sake we drop the three categorical features in order to not have to have a mixed data set requiring another model such as K-modes or K-prototypes."
      ]
    },
    {
      "cell_type": "markdown",
      "metadata": {},
      "source": [
        "The Threshold is set to 0.6 which is a very low value (values are typically 0.85 - 0.9) which is first of all since our values are relatively normally distributed and we shall see that even this low threshold retains only two features!\n",
        "\n",
        "n_components=6 must be between 0 and min(n_samples, n_features)=2"
      ]
    },
    {
      "cell_type": "code",
      "execution_count": 7,
      "metadata": {
        "id": "C6keis6ao8LA"
      },
      "outputs": [],
      "source": [
        "from sklearn.pipeline import Pipeline\n",
        "\n",
        "# Feature Engineering\n",
        "from feature_engine.encoding import OrdinalEncoder\n",
        "from feature_engine.selection import SmartCorrelatedSelection\n",
        "\n",
        "# Feat Scaling\n",
        "from sklearn.preprocessing import StandardScaler\n",
        "\n",
        "# PCA\n",
        "from sklearn.decomposition import PCA\n",
        "\n",
        "# ML algorithm\n",
        "from sklearn.cluster import KMeans\n",
        "\n",
        "\n",
        "def PipelineCluster():\n",
        "    pipeline_base = Pipeline([\n",
        "        (\"OrdinalCategoricalEncoder\", OrdinalEncoder(encoding_method='arbitrary',\n",
        "                                                     variables=['TP_mods', 'Engine_Type'])),\n",
        "\n",
        "        (\"SmartCorrelatedSelection\", SmartCorrelatedSelection(variables=None, method=\"spearman\",\n",
        "                                                              threshold=0.8, selection_method=\"variance\")),\n",
        "\n",
        "        (\"scaler\", StandardScaler()),\n",
        "\n",
        "        (\"PCA\", PCA(n_components=50, random_state=0)),\n",
        "\n",
        "        (\"model\", KMeans(n_clusters=50, random_state=0)),\n",
        "\n",
        "\n",
        "    ])\n",
        "    return pipeline_base\n"
      ]
    },
    {
      "cell_type": "markdown",
      "metadata": {
        "id": "Mrr31sD9DyvY"
      },
      "source": [
        "## Principal Component Analysis (PCA)"
      ]
    },
    {
      "cell_type": "code",
      "execution_count": 8,
      "metadata": {},
      "outputs": [
        {
          "data": {
            "text/html": [
              "<div>\n",
              "<style scoped>\n",
              "    .dataframe tbody tr th:only-of-type {\n",
              "        vertical-align: middle;\n",
              "    }\n",
              "\n",
              "    .dataframe tbody tr th {\n",
              "        vertical-align: top;\n",
              "    }\n",
              "\n",
              "    .dataframe thead th {\n",
              "        text-align: right;\n",
              "    }\n",
              "</style>\n",
              "<table border=\"1\" class=\"dataframe\">\n",
              "  <thead>\n",
              "    <tr style=\"text-align: right;\">\n",
              "      <th></th>\n",
              "      <th>Wing_Span</th>\n",
              "      <th>Length</th>\n",
              "      <th>Height</th>\n",
              "      <th>TP_mods</th>\n",
              "      <th>Engine_Type</th>\n",
              "      <th>AUW</th>\n",
              "      <th>MEW</th>\n",
              "      <th>FW</th>\n",
              "      <th>Vmax</th>\n",
              "      <th>Vcruise</th>\n",
              "      <th>Vstall</th>\n",
              "      <th>Range</th>\n",
              "      <th>Hmax</th>\n",
              "      <th>ROC</th>\n",
              "      <th>Vlo</th>\n",
              "      <th>Slo</th>\n",
              "      <th>Vl</th>\n",
              "      <th>Sl</th>\n",
              "    </tr>\n",
              "  </thead>\n",
              "  <tbody>\n",
              "    <tr>\n",
              "      <th>0</th>\n",
              "      <td>37.416667</td>\n",
              "      <td>25.250000</td>\n",
              "      <td>10.250000</td>\n",
              "      <td>No</td>\n",
              "      <td>0</td>\n",
              "      <td>2050.0</td>\n",
              "      <td>1180.0</td>\n",
              "      <td>241.2</td>\n",
              "      <td>104.0</td>\n",
              "      <td>91.0</td>\n",
              "      <td>46.0</td>\n",
              "      <td>370.0</td>\n",
              "      <td>13000.0</td>\n",
              "      <td>450.0</td>\n",
              "      <td>900.0</td>\n",
              "      <td>391.970247</td>\n",
              "      <td>1300.0</td>\n",
              "      <td>257.745075</td>\n",
              "    </tr>\n",
              "    <tr>\n",
              "      <th>1</th>\n",
              "      <td>36.083333</td>\n",
              "      <td>20.583333</td>\n",
              "      <td>8.750000</td>\n",
              "      <td>No</td>\n",
              "      <td>0</td>\n",
              "      <td>1350.0</td>\n",
              "      <td>820.0</td>\n",
              "      <td>100.5</td>\n",
              "      <td>89.0</td>\n",
              "      <td>83.0</td>\n",
              "      <td>44.0</td>\n",
              "      <td>190.0</td>\n",
              "      <td>12300.0</td>\n",
              "      <td>600.0</td>\n",
              "      <td>720.0</td>\n",
              "      <td>26.247647</td>\n",
              "      <td>800.0</td>\n",
              "      <td>225.324824</td>\n",
              "    </tr>\n",
              "    <tr>\n",
              "      <th>2</th>\n",
              "      <td>35.000000</td>\n",
              "      <td>21.416667</td>\n",
              "      <td>8.583333</td>\n",
              "      <td>No</td>\n",
              "      <td>0</td>\n",
              "      <td>1300.0</td>\n",
              "      <td>810.0</td>\n",
              "      <td>127.3</td>\n",
              "      <td>90.0</td>\n",
              "      <td>78.0</td>\n",
              "      <td>37.0</td>\n",
              "      <td>210.0</td>\n",
              "      <td>16000.0</td>\n",
              "      <td>650.0</td>\n",
              "      <td>475.0</td>\n",
              "      <td>363.139711</td>\n",
              "      <td>850.0</td>\n",
              "      <td>585.751317</td>\n",
              "    </tr>\n",
              "    <tr>\n",
              "      <th>3</th>\n",
              "      <td>35.000000</td>\n",
              "      <td>21.416667</td>\n",
              "      <td>8.583333</td>\n",
              "      <td>No</td>\n",
              "      <td>0</td>\n",
              "      <td>1300.0</td>\n",
              "      <td>800.0</td>\n",
              "      <td>127.3</td>\n",
              "      <td>88.0</td>\n",
              "      <td>78.0</td>\n",
              "      <td>37.0</td>\n",
              "      <td>210.0</td>\n",
              "      <td>13000.0</td>\n",
              "      <td>620.0</td>\n",
              "      <td>500.0</td>\n",
              "      <td>407.797297</td>\n",
              "      <td>850.0</td>\n",
              "      <td>642.046166</td>\n",
              "    </tr>\n",
              "    <tr>\n",
              "      <th>4</th>\n",
              "      <td>35.000000</td>\n",
              "      <td>21.416667</td>\n",
              "      <td>8.750000</td>\n",
              "      <td>No</td>\n",
              "      <td>0</td>\n",
              "      <td>1220.0</td>\n",
              "      <td>740.0</td>\n",
              "      <td>93.8</td>\n",
              "      <td>83.0</td>\n",
              "      <td>74.0</td>\n",
              "      <td>33.0</td>\n",
              "      <td>175.0</td>\n",
              "      <td>12500.0</td>\n",
              "      <td>370.0</td>\n",
              "      <td>632.0</td>\n",
              "      <td>297.056192</td>\n",
              "      <td>885.0</td>\n",
              "      <td>329.571813</td>\n",
              "    </tr>\n",
              "    <tr>\n",
              "      <th>5</th>\n",
              "      <td>36.083333</td>\n",
              "      <td>20.333333</td>\n",
              "      <td>8.750000</td>\n",
              "      <td>No</td>\n",
              "      <td>0</td>\n",
              "      <td>1250.0</td>\n",
              "      <td>786.0</td>\n",
              "      <td>100.5</td>\n",
              "      <td>78.0</td>\n",
              "      <td>72.0</td>\n",
              "      <td>33.0</td>\n",
              "      <td>180.0</td>\n",
              "      <td>11000.0</td>\n",
              "      <td>360.0</td>\n",
              "      <td>583.0</td>\n",
              "      <td>393.226454</td>\n",
              "      <td>880.0</td>\n",
              "      <td>542.445142</td>\n",
              "    </tr>\n",
              "    <tr>\n",
              "      <th>6</th>\n",
              "      <td>36.666667</td>\n",
              "      <td>34.833333</td>\n",
              "      <td>12.083333</td>\n",
              "      <td>No</td>\n",
              "      <td>0</td>\n",
              "      <td>6315.0</td>\n",
              "      <td>4275.0</td>\n",
              "      <td>1105.5</td>\n",
              "      <td>264.0</td>\n",
              "      <td>230.0</td>\n",
              "      <td>80.0</td>\n",
              "      <td>868.0</td>\n",
              "      <td>25000.0</td>\n",
              "      <td>1820.0</td>\n",
              "      <td>3080.0</td>\n",
              "      <td>1950.000000</td>\n",
              "      <td>2100.0</td>\n",
              "      <td>1425.000000</td>\n",
              "    </tr>\n",
              "    <tr>\n",
              "      <th>7</th>\n",
              "      <td>36.583333</td>\n",
              "      <td>34.750000</td>\n",
              "      <td>12.083333</td>\n",
              "      <td>No</td>\n",
              "      <td>0</td>\n",
              "      <td>6000.0</td>\n",
              "      <td>4125.0</td>\n",
              "      <td>1105.5</td>\n",
              "      <td>262.0</td>\n",
              "      <td>247.0</td>\n",
              "      <td>77.0</td>\n",
              "      <td>1020.0</td>\n",
              "      <td>28000.0</td>\n",
              "      <td>1755.0</td>\n",
              "      <td>2250.0</td>\n",
              "      <td>1800.000000</td>\n",
              "      <td>2076.0</td>\n",
              "      <td>1217.000000</td>\n",
              "    </tr>\n",
              "    <tr>\n",
              "      <th>8</th>\n",
              "      <td>36.666667</td>\n",
              "      <td>34.833333</td>\n",
              "      <td>12.083333</td>\n",
              "      <td>No</td>\n",
              "      <td>0</td>\n",
              "      <td>6000.0</td>\n",
              "      <td>4056.0</td>\n",
              "      <td>1105.5</td>\n",
              "      <td>257.0</td>\n",
              "      <td>235.0</td>\n",
              "      <td>77.0</td>\n",
              "      <td>1101.0</td>\n",
              "      <td>25000.0</td>\n",
              "      <td>1460.0</td>\n",
              "      <td>2490.0</td>\n",
              "      <td>1900.000000</td>\n",
              "      <td>2030.0</td>\n",
              "      <td>1230.000000</td>\n",
              "    </tr>\n",
              "    <tr>\n",
              "      <th>9</th>\n",
              "      <td>36.666667</td>\n",
              "      <td>34.833333</td>\n",
              "      <td>12.083333</td>\n",
              "      <td>No</td>\n",
              "      <td>0</td>\n",
              "      <td>6000.0</td>\n",
              "      <td>3958.0</td>\n",
              "      <td>1105.5</td>\n",
              "      <td>257.0</td>\n",
              "      <td>237.0</td>\n",
              "      <td>77.0</td>\n",
              "      <td>1174.0</td>\n",
              "      <td>30000.0</td>\n",
              "      <td>1460.0</td>\n",
              "      <td>2490.0</td>\n",
              "      <td>1900.000000</td>\n",
              "      <td>2030.0</td>\n",
              "      <td>1230.000000</td>\n",
              "    </tr>\n",
              "  </tbody>\n",
              "</table>\n",
              "</div>"
            ],
            "text/plain": [
              "   Wing_Span     Length     Height TP_mods Engine_Type     AUW     MEW  \\\n",
              "0  37.416667  25.250000  10.250000      No           0  2050.0  1180.0   \n",
              "1  36.083333  20.583333   8.750000      No           0  1350.0   820.0   \n",
              "2  35.000000  21.416667   8.583333      No           0  1300.0   810.0   \n",
              "3  35.000000  21.416667   8.583333      No           0  1300.0   800.0   \n",
              "4  35.000000  21.416667   8.750000      No           0  1220.0   740.0   \n",
              "5  36.083333  20.333333   8.750000      No           0  1250.0   786.0   \n",
              "6  36.666667  34.833333  12.083333      No           0  6315.0  4275.0   \n",
              "7  36.583333  34.750000  12.083333      No           0  6000.0  4125.0   \n",
              "8  36.666667  34.833333  12.083333      No           0  6000.0  4056.0   \n",
              "9  36.666667  34.833333  12.083333      No           0  6000.0  3958.0   \n",
              "\n",
              "       FW   Vmax  Vcruise  Vstall   Range     Hmax     ROC     Vlo  \\\n",
              "0   241.2  104.0     91.0    46.0   370.0  13000.0   450.0   900.0   \n",
              "1   100.5   89.0     83.0    44.0   190.0  12300.0   600.0   720.0   \n",
              "2   127.3   90.0     78.0    37.0   210.0  16000.0   650.0   475.0   \n",
              "3   127.3   88.0     78.0    37.0   210.0  13000.0   620.0   500.0   \n",
              "4    93.8   83.0     74.0    33.0   175.0  12500.0   370.0   632.0   \n",
              "5   100.5   78.0     72.0    33.0   180.0  11000.0   360.0   583.0   \n",
              "6  1105.5  264.0    230.0    80.0   868.0  25000.0  1820.0  3080.0   \n",
              "7  1105.5  262.0    247.0    77.0  1020.0  28000.0  1755.0  2250.0   \n",
              "8  1105.5  257.0    235.0    77.0  1101.0  25000.0  1460.0  2490.0   \n",
              "9  1105.5  257.0    237.0    77.0  1174.0  30000.0  1460.0  2490.0   \n",
              "\n",
              "           Slo      Vl           Sl  \n",
              "0   391.970247  1300.0   257.745075  \n",
              "1    26.247647   800.0   225.324824  \n",
              "2   363.139711   850.0   585.751317  \n",
              "3   407.797297   850.0   642.046166  \n",
              "4   297.056192   885.0   329.571813  \n",
              "5   393.226454   880.0   542.445142  \n",
              "6  1950.000000  2100.0  1425.000000  \n",
              "7  1800.000000  2076.0  1217.000000  \n",
              "8  1900.000000  2030.0  1230.000000  \n",
              "9  1900.000000  2030.0  1230.000000  "
            ]
          },
          "execution_count": 8,
          "metadata": {},
          "output_type": "execute_result"
        }
      ],
      "source": [
        "df.head(10)"
      ]
    },
    {
      "cell_type": "markdown",
      "metadata": {},
      "source": [
        "The following also does reduce dimensions since the xxxxx also uses \"SmartCorrelatedSelection\" and reduces the number of rows (dimensionality reduction) depending on what threshold value we set! https://feature-engine.trainindata.com/en/latest/user_guide/selection/SmartCorrelatedSelection.html Check if we can change the threshold value!"
      ]
    },
    {
      "cell_type": "markdown",
      "metadata": {},
      "source": [
        "We are not concerned with the warnings below."
      ]
    },
    {
      "cell_type": "markdown",
      "metadata": {},
      "source": [
        "Since we shall find we recieve only 2 components I have only one meaningful direction of variance in my data. Selecting only one component here makes the clustering task meaningless since it would cluster the data into only one singe cluster! i.e. there are NO clusters in the dataset! By the way: Since the components is 0% and 100% we can not use the elbow method which states that we should select a number of components that has its elbow around a variance of 80%.\n",
        "Choosing Components: If you have only two components (you do not have any gradual drop-off) and they are 0% and 100% of the variance, you essentially have only one meaningful direction of variance in your data. In this case, you would select 1 component since it captures all the variance available.\n",
        "\n",
        "Elbow Method: The \"elbow method\" is typically used to visualize explained variance to determine the number of components. In your scenario, since you only have two components, this method is less applicable because there is no gradual drop-off in explained variance.\n",
        "\n",
        "Perhaps considering other dimensionality reduction techniques (like t-SNE or UMAP)"
      ]
    },
    {
      "cell_type": "code",
      "execution_count": 9,
      "metadata": {
        "id": "es49S65qqvRw"
      },
      "outputs": [
        {
          "name": "stdout",
          "output_type": "stream",
          "text": [
            "(857, 5) \n",
            " <class 'numpy.ndarray'>\n"
          ]
        },
        {
          "name": "stderr",
          "output_type": "stream",
          "text": [
            "/workspace/.pip-modules/lib/python3.8/site-packages/feature_engine/selection/smart_correlation_selection.py:271: FutureWarning: Passing a set as an indexer is deprecated and will raise in a future version. Use a list instead.\n",
            "  f = X[feature_group].std().sort_values(ascending=False).index[0]\n",
            "/workspace/.pip-modules/lib/python3.8/site-packages/feature_engine/selection/smart_correlation_selection.py:271: FutureWarning: Passing a set as an indexer is deprecated and will raise in a future version. Use a list instead.\n",
            "  f = X[feature_group].std().sort_values(ascending=False).index[0]\n",
            "/workspace/.pip-modules/lib/python3.8/site-packages/feature_engine/selection/smart_correlation_selection.py:271: FutureWarning: Passing a set as an indexer is deprecated and will raise in a future version. Use a list instead.\n",
            "  f = X[feature_group].std().sort_values(ascending=False).index[0]\n"
          ]
        }
      ],
      "source": [
        "pipeline_cluster = PipelineCluster()\n",
        "pipeline_pca = Pipeline(pipeline_cluster.steps[:-2])\n",
        "df_pca = pipeline_pca.fit_transform(df)\n",
        "\n",
        "print(df_pca.shape,'\\n', type(df_pca))"
      ]
    },
    {
      "cell_type": "markdown",
      "metadata": {
        "id": "WlABEj9Iw6Jr"
      },
      "source": [
        "Apply PCA separately to the scaled data"
      ]
    },
    {
      "cell_type": "code",
      "execution_count": 10,
      "metadata": {},
      "outputs": [
        {
          "name": "stdout",
          "output_type": "stream",
          "text": [
            "[[-2.71909612e-01 -6.01363960e-01 -5.01963503e-01 -1.08487143e+00\n",
            "  -9.14822365e-01]\n",
            " [-2.71909612e-01 -6.01363960e-01 -5.47569685e-01 -1.14808984e+00\n",
            "  -1.03633927e+00]\n",
            " [-2.71909612e-01 -6.01363960e-01 -5.50827269e-01 -8.13935380e-01\n",
            "  -1.20173727e+00]\n",
            " [-2.71909612e-01 -6.01363960e-01 -5.50827269e-01 -1.08487143e+00\n",
            "  -1.18485992e+00]\n",
            " [-2.71909612e-01 -6.01363960e-01 -5.56039404e-01 -1.13002744e+00\n",
            "  -1.09574753e+00]\n",
            " [-2.71909612e-01 -6.01363960e-01 -5.54084853e-01 -1.26549546e+00\n",
            "  -1.12882713e+00]\n",
            " [-2.71909612e-01 -6.01363960e-01 -2.24091551e-01 -1.12723560e-03\n",
            "   5.56882327e-01]\n",
            " [-2.71909612e-01 -6.01363960e-01 -2.44614333e-01  2.69808813e-01\n",
            "  -3.44560654e-03]\n",
            " [-2.71909612e-01 -6.01363960e-01 -2.44614333e-01 -1.12723560e-03\n",
            "   1.58576928e-01]\n",
            " [-2.71909612e-01 -6.01363960e-01 -2.44614333e-01  4.50432845e-01\n",
            "   1.58576928e-01]]\n"
          ]
        }
      ],
      "source": [
        "print(df_pca[:10])"
      ]
    },
    {
      "cell_type": "code",
      "execution_count": 11,
      "metadata": {
        "id": "cM_Xsqxsrt5M"
      },
      "outputs": [
        {
          "name": "stdout",
          "output_type": "stream",
          "text": [
            "* The 2 components explain 88.05% of the data \n",
            "\n"
          ]
        },
        {
          "data": {
            "image/png": "[encoded data removed]",
            "text/plain": [
              "<Figure size 900x600 with 1 Axes>"
            ]
          },
          "metadata": {},
          "output_type": "display_data"
        }
      ],
      "source": [
        "import numpy as np\n",
        "import matplotlib.pyplot as plt\n",
        "import seaborn as sns\n",
        "sns.set_style(\"whitegrid\")\n",
        "\n",
        "n_components = 2 # Adapted this to two since this value cannot be higher than \n",
        "# the number of retained columns in the df_pca which was only three with a \n",
        "# threshold value as low as 0,6\n",
        "\n",
        "\n",
        "def pca_components_analysis(df_pca, n_components):\n",
        "    pca = PCA(n_components=n_components).fit(df_pca)\n",
        "    x_PCA = pca.transform(df_pca)  # array with transformed PCA\n",
        "\n",
        "    ComponentsList = [\"Component \" + str(number)\n",
        "                      for number in range(n_components)]\n",
        "    dfExplVarRatio = pd.DataFrame(\n",
        "        data=np.round(100 * pca.explained_variance_ratio_, 3),\n",
        "        index=ComponentsList,\n",
        "        columns=['Explained Variance Ratio (%)'])\n",
        "\n",
        "    dfExplVarRatio['Accumulated Variance'] = dfExplVarRatio['Explained Variance Ratio (%)'].cumsum(\n",
        "    )\n",
        "\n",
        "    PercentageOfDataExplained = dfExplVarRatio['Explained Variance Ratio (%)'].sum(\n",
        "    )\n",
        "\n",
        "    print(\n",
        "        f\"* The {n_components} components explain {round(PercentageOfDataExplained,2)}% of the data \\n\")\n",
        "    plt.figure(figsize=(9, 6))\n",
        "    sns.lineplot(data=dfExplVarRatio,  marker=\"o\")\n",
        "    plt.xticks(rotation=90)\n",
        "    plt.yticks(np.arange(0, 110, 10))\n",
        "    plt.show()\n",
        "\n",
        "\n",
        "pca_components_analysis(df_pca=df_pca, n_components=n_components)\n"
      ]
    },
    {
      "cell_type": "code",
      "execution_count": 12,
      "metadata": {},
      "outputs": [
        {
          "name": "stdout",
          "output_type": "stream",
          "text": [
            "* The 2 components explain 88.05% of the data \n",
            "\n"
          ]
        },
        {
          "data": {
            "image/png": "[encoded data removed]",
            "text/plain": [
              "<Figure size 900x600 with 1 Axes>"
            ]
          },
          "metadata": {},
          "output_type": "display_data"
        }
      ],
      "source": [
        "pca_components_analysis(df_pca=df_pca,n_components=2)"
      ]
    },
    {
      "cell_type": "markdown",
      "metadata": {},
      "source": [
        "The Plot with Accumulated CVariance Ratio incldue only 2 components (n_components=2) and we select to retain both thesse since our main purpos e with this \n",
        "analysis is interpretability and we want to retain asx much information as possible for this."
      ]
    },
    {
      "cell_type": "code",
      "execution_count": 13,
      "metadata": {},
      "outputs": [
        {
          "data": {
            "text/plain": [
              "Pipeline(steps=[('OrdinalCategoricalEncoder',\n",
              "                 OrdinalEncoder(encoding_method='arbitrary',\n",
              "                                variables=['TP_mods', 'Engine_Type'])),\n",
              "                ('SmartCorrelatedSelection',\n",
              "                 SmartCorrelatedSelection(method='spearman',\n",
              "                                          selection_method='variance',\n",
              "                                          threshold=0.5)),\n",
              "                ('scaler', StandardScaler()),\n",
              "                ('PCA', PCA(n_components=4, random_state=0)),\n",
              "                ('model', KMeans(n_clusters=50, random_state=0))])"
            ]
          },
          "execution_count": 13,
          "metadata": {},
          "output_type": "execute_result"
        }
      ],
      "source": [
        "def PipelineCluster():\n",
        "    pipeline_base = Pipeline([\n",
        "        (\"OrdinalCategoricalEncoder\", OrdinalEncoder(encoding_method='arbitrary',\n",
        "                                                     variables=['TP_mods', 'Engine_Type'])),\n",
        "\n",
        "        (\"SmartCorrelatedSelection\", SmartCorrelatedSelection(variables=None, method=\"spearman\",\n",
        "                                                              threshold=0.5, selection_method=\"variance\")),\n",
        "\n",
        "        (\"scaler\", StandardScaler()),\n",
        "\n",
        "        # we update n_components to 4\n",
        "        (\"PCA\", PCA(n_components=4, random_state=0)),\n",
        "\n",
        "        (\"model\", KMeans(n_clusters=50, random_state=0)),\n",
        "\n",
        "\n",
        "    ])\n",
        "    return pipeline_base\n",
        "\n",
        "\n",
        "PipelineCluster()\n"
      ]
    },
    {
      "cell_type": "markdown",
      "metadata": {
        "id": "Uw9NtDj4EtEJ"
      },
      "source": [
        "## Elbow Method and Silhouette Score"
      ]
    },
    {
      "cell_type": "code",
      "execution_count": 14,
      "metadata": {
        "id": "JVaMnb9vGyBw"
      },
      "outputs": [
        {
          "name": "stderr",
          "output_type": "stream",
          "text": [
            "/workspace/.pip-modules/lib/python3.8/site-packages/feature_engine/selection/smart_correlation_selection.py:271: FutureWarning: Passing a set as an indexer is deprecated and will raise in a future version. Use a list instead.\n",
            "  f = X[feature_group].std().sort_values(ascending=False).index[0]\n"
          ]
        },
        {
          "ename": "ValueError",
          "evalue": "n_components=4 must be between 0 and min(n_samples, n_features)=2 with svd_solver='full'",
          "output_type": "error",
          "traceback": [
            "\u001b[0;31m---------------------------------------------------------------------------\u001b[0m",
            "\u001b[0;31mValueError\u001b[0m                                Traceback (most recent call last)",
            "Cell \u001b[0;32mIn[14], line 3\u001b[0m\n\u001b[1;32m      1\u001b[0m pipeline_cluster \u001b[38;5;241m=\u001b[39m PipelineCluster()\n\u001b[1;32m      2\u001b[0m pipeline_analysis \u001b[38;5;241m=\u001b[39m Pipeline(pipeline_cluster\u001b[38;5;241m.\u001b[39msteps[:\u001b[38;5;241m-\u001b[39m\u001b[38;5;241m1\u001b[39m])\n\u001b[0;32m----> 3\u001b[0m df_analysis \u001b[38;5;241m=\u001b[39m \u001b[43mpipeline_analysis\u001b[49m\u001b[38;5;241;43m.\u001b[39;49m\u001b[43mfit_transform\u001b[49m\u001b[43m(\u001b[49m\u001b[43mdf\u001b[49m\u001b[43m)\u001b[49m\n\u001b[1;32m      5\u001b[0m \u001b[38;5;28mprint\u001b[39m(df_analysis\u001b[38;5;241m.\u001b[39mshape,\u001b[38;5;124m'\u001b[39m\u001b[38;5;130;01m\\n\u001b[39;00m\u001b[38;5;124m'\u001b[39m, \u001b[38;5;28mtype\u001b[39m(df_analysis))\n",
            "File \u001b[0;32m/workspace/.pip-modules/lib/python3.8/site-packages/sklearn/pipeline.py:387\u001b[0m, in \u001b[0;36mPipeline.fit_transform\u001b[0;34m(self, X, y, **fit_params)\u001b[0m\n\u001b[1;32m    385\u001b[0m fit_params_last_step \u001b[38;5;241m=\u001b[39m fit_params_steps[\u001b[38;5;28mself\u001b[39m\u001b[38;5;241m.\u001b[39msteps[\u001b[38;5;241m-\u001b[39m\u001b[38;5;241m1\u001b[39m][\u001b[38;5;241m0\u001b[39m]]\n\u001b[1;32m    386\u001b[0m \u001b[38;5;28;01mif\u001b[39;00m \u001b[38;5;28mhasattr\u001b[39m(last_step, \u001b[38;5;124m'\u001b[39m\u001b[38;5;124mfit_transform\u001b[39m\u001b[38;5;124m'\u001b[39m):\n\u001b[0;32m--> 387\u001b[0m     \u001b[38;5;28;01mreturn\u001b[39;00m \u001b[43mlast_step\u001b[49m\u001b[38;5;241;43m.\u001b[39;49m\u001b[43mfit_transform\u001b[49m\u001b[43m(\u001b[49m\u001b[43mXt\u001b[49m\u001b[43m,\u001b[49m\u001b[43m \u001b[49m\u001b[43my\u001b[49m\u001b[43m,\u001b[49m\u001b[43m \u001b[49m\u001b[38;5;241;43m*\u001b[39;49m\u001b[38;5;241;43m*\u001b[39;49m\u001b[43mfit_params_last_step\u001b[49m\u001b[43m)\u001b[49m\n\u001b[1;32m    388\u001b[0m \u001b[38;5;28;01melse\u001b[39;00m:\n\u001b[1;32m    389\u001b[0m     \u001b[38;5;28;01mreturn\u001b[39;00m last_step\u001b[38;5;241m.\u001b[39mfit(Xt, y,\n\u001b[1;32m    390\u001b[0m                          \u001b[38;5;241m*\u001b[39m\u001b[38;5;241m*\u001b[39mfit_params_last_step)\u001b[38;5;241m.\u001b[39mtransform(Xt)\n",
            "File \u001b[0;32m/workspace/.pip-modules/lib/python3.8/site-packages/sklearn/decomposition/_pca.py:383\u001b[0m, in \u001b[0;36mPCA.fit_transform\u001b[0;34m(self, X, y)\u001b[0m\n\u001b[1;32m    362\u001b[0m \u001b[38;5;28;01mdef\u001b[39;00m \u001b[38;5;21mfit_transform\u001b[39m(\u001b[38;5;28mself\u001b[39m, X, y\u001b[38;5;241m=\u001b[39m\u001b[38;5;28;01mNone\u001b[39;00m):\n\u001b[1;32m    363\u001b[0m \u001b[38;5;250m    \u001b[39m\u001b[38;5;124;03m\"\"\"Fit the model with X and apply the dimensionality reduction on X.\u001b[39;00m\n\u001b[1;32m    364\u001b[0m \n\u001b[1;32m    365\u001b[0m \u001b[38;5;124;03m    Parameters\u001b[39;00m\n\u001b[0;32m   (...)\u001b[0m\n\u001b[1;32m    381\u001b[0m \u001b[38;5;124;03m    C-ordered array, use 'np.ascontiguousarray'.\u001b[39;00m\n\u001b[1;32m    382\u001b[0m \u001b[38;5;124;03m    \"\"\"\u001b[39;00m\n\u001b[0;32m--> 383\u001b[0m     U, S, Vt \u001b[38;5;241m=\u001b[39m \u001b[38;5;28;43mself\u001b[39;49m\u001b[38;5;241;43m.\u001b[39;49m\u001b[43m_fit\u001b[49m\u001b[43m(\u001b[49m\u001b[43mX\u001b[49m\u001b[43m)\u001b[49m\n\u001b[1;32m    384\u001b[0m     U \u001b[38;5;241m=\u001b[39m U[:, :\u001b[38;5;28mself\u001b[39m\u001b[38;5;241m.\u001b[39mn_components_]\n\u001b[1;32m    386\u001b[0m     \u001b[38;5;28;01mif\u001b[39;00m \u001b[38;5;28mself\u001b[39m\u001b[38;5;241m.\u001b[39mwhiten:\n\u001b[1;32m    387\u001b[0m         \u001b[38;5;66;03m# X_new = X * V / S * sqrt(n_samples) = U * sqrt(n_samples)\u001b[39;00m\n",
            "File \u001b[0;32m/workspace/.pip-modules/lib/python3.8/site-packages/sklearn/decomposition/_pca.py:430\u001b[0m, in \u001b[0;36mPCA._fit\u001b[0;34m(self, X)\u001b[0m\n\u001b[1;32m    428\u001b[0m \u001b[38;5;66;03m# Call different fits for either full or truncated SVD\u001b[39;00m\n\u001b[1;32m    429\u001b[0m \u001b[38;5;28;01mif\u001b[39;00m \u001b[38;5;28mself\u001b[39m\u001b[38;5;241m.\u001b[39m_fit_svd_solver \u001b[38;5;241m==\u001b[39m \u001b[38;5;124m'\u001b[39m\u001b[38;5;124mfull\u001b[39m\u001b[38;5;124m'\u001b[39m:\n\u001b[0;32m--> 430\u001b[0m     \u001b[38;5;28;01mreturn\u001b[39;00m \u001b[38;5;28;43mself\u001b[39;49m\u001b[38;5;241;43m.\u001b[39;49m\u001b[43m_fit_full\u001b[49m\u001b[43m(\u001b[49m\u001b[43mX\u001b[49m\u001b[43m,\u001b[49m\u001b[43m \u001b[49m\u001b[43mn_components\u001b[49m\u001b[43m)\u001b[49m\n\u001b[1;32m    431\u001b[0m \u001b[38;5;28;01melif\u001b[39;00m \u001b[38;5;28mself\u001b[39m\u001b[38;5;241m.\u001b[39m_fit_svd_solver \u001b[38;5;129;01min\u001b[39;00m [\u001b[38;5;124m'\u001b[39m\u001b[38;5;124marpack\u001b[39m\u001b[38;5;124m'\u001b[39m, \u001b[38;5;124m'\u001b[39m\u001b[38;5;124mrandomized\u001b[39m\u001b[38;5;124m'\u001b[39m]:\n\u001b[1;32m    432\u001b[0m     \u001b[38;5;28;01mreturn\u001b[39;00m \u001b[38;5;28mself\u001b[39m\u001b[38;5;241m.\u001b[39m_fit_truncated(X, n_components, \u001b[38;5;28mself\u001b[39m\u001b[38;5;241m.\u001b[39m_fit_svd_solver)\n",
            "File \u001b[0;32m/workspace/.pip-modules/lib/python3.8/site-packages/sklearn/decomposition/_pca.py:446\u001b[0m, in \u001b[0;36mPCA._fit_full\u001b[0;34m(self, X, n_components)\u001b[0m\n\u001b[1;32m    443\u001b[0m         \u001b[38;5;28;01mraise\u001b[39;00m \u001b[38;5;167;01mValueError\u001b[39;00m(\u001b[38;5;124m\"\u001b[39m\u001b[38;5;124mn_components=\u001b[39m\u001b[38;5;124m'\u001b[39m\u001b[38;5;124mmle\u001b[39m\u001b[38;5;124m'\u001b[39m\u001b[38;5;124m is only supported \u001b[39m\u001b[38;5;124m\"\u001b[39m\n\u001b[1;32m    444\u001b[0m                          \u001b[38;5;124m\"\u001b[39m\u001b[38;5;124mif n_samples >= n_features\u001b[39m\u001b[38;5;124m\"\u001b[39m)\n\u001b[1;32m    445\u001b[0m \u001b[38;5;28;01melif\u001b[39;00m \u001b[38;5;129;01mnot\u001b[39;00m \u001b[38;5;241m0\u001b[39m \u001b[38;5;241m<\u001b[39m\u001b[38;5;241m=\u001b[39m n_components \u001b[38;5;241m<\u001b[39m\u001b[38;5;241m=\u001b[39m \u001b[38;5;28mmin\u001b[39m(n_samples, n_features):\n\u001b[0;32m--> 446\u001b[0m     \u001b[38;5;28;01mraise\u001b[39;00m \u001b[38;5;167;01mValueError\u001b[39;00m(\u001b[38;5;124m\"\u001b[39m\u001b[38;5;124mn_components=\u001b[39m\u001b[38;5;132;01m%r\u001b[39;00m\u001b[38;5;124m must be between 0 and \u001b[39m\u001b[38;5;124m\"\u001b[39m\n\u001b[1;32m    447\u001b[0m                      \u001b[38;5;124m\"\u001b[39m\u001b[38;5;124mmin(n_samples, n_features)=\u001b[39m\u001b[38;5;132;01m%r\u001b[39;00m\u001b[38;5;124m with \u001b[39m\u001b[38;5;124m\"\u001b[39m\n\u001b[1;32m    448\u001b[0m                      \u001b[38;5;124m\"\u001b[39m\u001b[38;5;124msvd_solver=\u001b[39m\u001b[38;5;124m'\u001b[39m\u001b[38;5;124mfull\u001b[39m\u001b[38;5;124m'\u001b[39m\u001b[38;5;124m\"\u001b[39m\n\u001b[1;32m    449\u001b[0m                      \u001b[38;5;241m%\u001b[39m (n_components, \u001b[38;5;28mmin\u001b[39m(n_samples, n_features)))\n\u001b[1;32m    450\u001b[0m \u001b[38;5;28;01melif\u001b[39;00m n_components \u001b[38;5;241m>\u001b[39m\u001b[38;5;241m=\u001b[39m \u001b[38;5;241m1\u001b[39m:\n\u001b[1;32m    451\u001b[0m     \u001b[38;5;28;01mif\u001b[39;00m \u001b[38;5;129;01mnot\u001b[39;00m \u001b[38;5;28misinstance\u001b[39m(n_components, numbers\u001b[38;5;241m.\u001b[39mIntegral):\n",
            "\u001b[0;31mValueError\u001b[0m: n_components=4 must be between 0 and min(n_samples, n_features)=2 with svd_solver='full'"
          ]
        }
      ],
      "source": [
        "pipeline_cluster = PipelineCluster()\n",
        "pipeline_analysis = Pipeline(pipeline_cluster.steps[:-1])\n",
        "df_analysis = pipeline_analysis.fit_transform(df)\n",
        "\n",
        "print(df_analysis.shape,'\\n', type(df_analysis))"
      ]
    },
    {
      "cell_type": "code",
      "execution_count": null,
      "metadata": {
        "id": "TZBcHjt7EwFT"
      },
      "outputs": [],
      "source": [
        "from yellowbrick.cluster import KElbowVisualizer\n",
        "\n",
        "visualizer = KElbowVisualizer(KMeans(random_state=0), k=(1,11)) # 11 is not inclusive, it will plot until 10\n",
        "visualizer.fit(df_analysis) \n",
        "visualizer.show() \n",
        "plt.show()"
      ]
    },
    {
      "cell_type": "code",
      "execution_count": null,
      "metadata": {},
      "outputs": [],
      "source": [
        "from yellowbrick.cluster import SilhouetteVisualizer\n",
        "\n",
        "# 6 is not inclusive, it will stop at 5\n",
        "n_cluster_start, n_cluster_stop = 2, 6\n",
        "\n",
        "print(\"=== Average Silhouette Score for different number of clusters ===\")\n",
        "visualizer = KElbowVisualizer(KMeans(random_state=0), k=(\n",
        "    n_cluster_start, n_cluster_stop), metric='silhouette')\n",
        "visualizer.fit(df_analysis)\n",
        "visualizer.show()\n",
        "plt.show()\n",
        "print(\"\\n\")\n",
        "\n",
        "\n",
        "for n_clusters in np.arange(start=n_cluster_start, stop=n_cluster_stop):\n",
        "\n",
        "    print(f\"=== Silhouette plot for {n_clusters} Clusters ===\")\n",
        "    visualizer = SilhouetteVisualizer(estimator=KMeans(n_clusters=n_clusters, random_state=0),\n",
        "                                      colors='yellowbrick')\n",
        "    visualizer.fit(df_analysis)\n",
        "    visualizer.show()\n",
        "    plt.show()\n",
        "    print(\"\\n\")\n"
      ]
    },
    {
      "cell_type": "markdown",
      "metadata": {},
      "source": [
        "The silhouette scoore clearly shows 2 clusters to be the ideal\n",
        "The number of components should be 2 to begin with!"
      ]
    },
    {
      "cell_type": "markdown",
      "metadata": {},
      "source": [
        "The Elbow Method gives a cluster size of three. The Silhouette plot suggest 2 or 3 clusters. With two clusters both reaches past/above (to the right) the mean line however the smaller of the two clusters makes it only barely. With three clusters the smallest cluster does not make it however the mid-sized cluster is well above. Silhouette for 4 and 5 clusters show bad values. Since the Elbow says 3 and the Silhouette was undecided between 2 or 3 we choose 3 clusters (n_clusters = 3)"
      ]
    },
    {
      "cell_type": "code",
      "execution_count": null,
      "metadata": {},
      "outputs": [],
      "source": [
        "def PipelineCluster():\n",
        "    pipeline_base = Pipeline([\n",
        "        (\"OrdinalCategoricalEncoder\", OrdinalEncoder(encoding_method='arbitrary',\n",
        "                                                     variables=['TP_mods', 'Engine_Type'])),\n",
        "\n",
        "        (\"SmartCorrelatedSelection\", SmartCorrelatedSelection(variables=None, method=\"spearman\",\n",
        "                                                              threshold=0.5, selection_method=\"variance\")),\n",
        "\n",
        "        (\"scaler\", StandardScaler()),\n",
        "\n",
        "        (\"PCA\", PCA(n_components=2, random_state=0)),\n",
        "\n",
        "        # we update n_clusters to 2\n",
        "        (\"model\", KMeans(n_clusters=2, random_state=0)),\n",
        "\n",
        "\n",
        "    ])\n",
        "    return pipeline_base\n",
        "\n",
        "\n",
        "PipelineCluster()\n"
      ]
    },
    {
      "cell_type": "markdown",
      "metadata": {
        "id": "YQBjAlRsHhU4"
      },
      "source": [
        "## Fit Cluster Pipeline"
      ]
    },
    {
      "cell_type": "markdown",
      "metadata": {
        "id": "kpxaylKk-6CQ"
      },
      "source": [
        "Quick recap of our data for training cluster pipeline"
      ]
    },
    {
      "cell_type": "code",
      "execution_count": null,
      "metadata": {
        "id": "zfKHc63v-6Zm"
      },
      "outputs": [],
      "source": [
        "X = df.copy()\n",
        "print(X.shape)\n",
        "X.head(3)"
      ]
    },
    {
      "cell_type": "markdown",
      "metadata": {
        "id": "NfRpKC4Ykreg"
      },
      "source": [
        "Fit Cluster pipeline"
      ]
    },
    {
      "cell_type": "code",
      "execution_count": null,
      "metadata": {
        "id": "MAiyUpTWHjQh"
      },
      "outputs": [],
      "source": [
        "pipeline_cluster = PipelineCluster()\n",
        "pipeline_cluster.fit(X)"
      ]
    },
    {
      "cell_type": "markdown",
      "metadata": {
        "id": "0L0iMkjJHXSI"
      },
      "source": [
        "## Add cluster predictions to dataset"
      ]
    },
    {
      "cell_type": "markdown",
      "metadata": {
        "id": "ZKT5IjmTmei8"
      },
      "source": [
        "We add a column \"`Clusters`\" (with the cluster pipeline predictions) to the dataset"
      ]
    },
    {
      "cell_type": "code",
      "execution_count": null,
      "metadata": {
        "id": "ow8B0xVdmlgK"
      },
      "outputs": [],
      "source": [
        "X['Clusters'] = pipeline_cluster['model'].labels_\n",
        "print(X.shape)\n",
        "X.head(3)"
      ]
    },
    {
      "cell_type": "code",
      "execution_count": null,
      "metadata": {
        "id": "eAVrYJEqxYyG"
      },
      "outputs": [],
      "source": [
        "print(f\"* Clusters frequencies \\n{ X['Clusters'].value_counts(normalize=True).to_frame().round(2)} \\n\\n\")\n",
        "X['Clusters'].value_counts().sort_values().plot(kind='bar')\n",
        "plt.show()"
      ]
    },
    {
      "cell_type": "code",
      "execution_count": null,
      "metadata": {},
      "outputs": [],
      "source": [
        "print(df_analysis.shape)\n"
      ]
    },
    {
      "cell_type": "markdown",
      "metadata": {},
      "source": [
        "Why is the y=df_analysis[:, 1] set to the second column???????????????????"
      ]
    },
    {
      "cell_type": "code",
      "execution_count": null,
      "metadata": {},
      "outputs": [],
      "source": [
        "import seaborn as sns\n",
        "import matplotlib.pyplot as plt\n",
        "sns.set_style(\"whitegrid\")\n",
        "plt.figure(figsize=(10, 6))\n",
        "sns.scatterplot(x=df_analysis[:, 0], y=df_analysis[:, 1],  # Original code is: y=df_analysis[:, 1] but that gives an error since it tries to acces the second column of a one column df\n",
        "                hue=X['Clusters'], palette='Set1', alpha=0.6)\n",
        "plt.scatter(x=pipeline_cluster['model'].cluster_centers_[:, 1], y=pipeline_cluster['model'].cluster_centers_[:, 1],  # Same here! Original code: cluster_centers_[:, 0]\n",
        "            marker=\"x\", s=169, linewidths=3, color=\"black\")\n",
        "plt.xlabel(\"PCA Component 0\")\n",
        "plt.ylabel(\"PCA Component 1\")\n",
        "plt.title(\"PCA Components colored by Clusters\")\n",
        "plt.show()\n"
      ]
    },
    {
      "cell_type": "markdown",
      "metadata": {},
      "source": [
        "The fact that the centroid for the smaller cluster (blue) is far away from the actual datapoints suggest:\n",
        "* Poor Cluster Quality, Outliers, High Variability and Feature Scaling Issues\n",
        "* Nr of cluster should be set lower however we have only set two clusters so doing that would be the same as too say that there is no clusters in the data set and we would have to conclude the study at this point."
      ]
    },
    {
      "cell_type": "markdown",
      "metadata": {},
      "source": [
        "The alignment of clusters along lines indicates that there are strong linear relationships in the data and therefore perhaps the cluster patterns could be captured with fewer components. The linear relationships probably has the background that the performance features follow similar patterns (what is good for one feature is also good for another feature).\n",
        "The fact that the clusters are clearly spaced from each other, like the smallest (green) cluster suggest that this is a categorical feature that \"lifts\" all the other features an equal part. Such a candidate would me the TP mods that we have seen stick out before. This is also one of only two categorical values since we have dropped Multi Engine.\n",
        "\n",
        "Comment on the centroids!"
      ]
    },
    {
      "cell_type": "markdown",
      "metadata": {
        "id": "MnjHhYjXng2r"
      },
      "source": [
        "REWRITE!!!!!\n",
        "In the \"PCA Components colored by Clusters\"-plot all data points line up along one singe line suggesting low intrinsic dimensionality which in turn suggest that most of the variance in the data can be captured by a single component. For this reason we re-access our choise for number of components and change this value from 2 to 1 of value for (n_components = 1).\n",
        "\n",
        "The PCA components colored by Clusters also suggest that the mid sized (red) cluster have a gap in it, i.e. is really represent two clusters. For this reason we will re-acess the number of clusters and test to change the clusters from 3 to 4 (n_cluster = 4). This does make sense, looking back, since in the sillhoutte plot the mid-sized cluster did not quite reatch up above the line for the \"average silhouette score\" and when 4 clusters was formed out of the four it divided themself up two equall sized clusters no further away fromt the mean value.\n",
        "\n",
        "We save the cluster predictions from this pipeline to use in the future. We will get back to that in a later stage."
      ]
    },
    {
      "cell_type": "code",
      "execution_count": null,
      "metadata": {
        "id": "FWgb0kPOWtMa"
      },
      "outputs": [],
      "source": [
        "cluster_predictions_with_all_variables = X['Clusters']\n",
        "cluster_predictions_with_all_variables"
      ]
    },
    {
      "cell_type": "markdown",
      "metadata": {
        "id": "sTWTf1rgkQ7b"
      },
      "source": [
        "## Fit a classifier, where the target is cluster predictions and features remaining variables"
      ]
    },
    {
      "cell_type": "markdown",
      "metadata": {
        "id": "hP6sGUn0XyDm"
      },
      "source": [
        "We copy `X` to a DataFrame `df_clf`"
      ]
    },
    {
      "cell_type": "code",
      "execution_count": null,
      "metadata": {
        "id": "OeLq81sm2yAg"
      },
      "outputs": [],
      "source": [
        "df_clf = X.copy()\n",
        "print(df_clf.shape)\n",
        "df_clf.head(3)"
      ]
    },
    {
      "cell_type": "markdown",
      "metadata": {
        "id": "4b3Ei6Os5X3s"
      },
      "source": [
        "Split Train and Test sets"
      ]
    },
    {
      "cell_type": "code",
      "execution_count": null,
      "metadata": {
        "id": "cgHXehCVyzUl"
      },
      "outputs": [],
      "source": [
        "from sklearn.model_selection import train_test_split\n",
        "X_train, X_test, y_train, y_test = train_test_split(\n",
        "    df_clf.drop(['Clusters'], axis=1),\n",
        "    df_clf['Clusters'],\n",
        "    test_size=0.2,\n",
        "    random_state=0\n",
        ")\n",
        "\n",
        "print(X_train.shape, X_test.shape)\n"
      ]
    },
    {
      "cell_type": "markdown",
      "metadata": {
        "id": "6EZUk-uV5aN8"
      },
      "source": [
        "Create classifier pipeline steps"
      ]
    },
    {
      "cell_type": "code",
      "execution_count": null,
      "metadata": {},
      "outputs": [],
      "source": [
        "# Feat Selection\n",
        "from sklearn.feature_selection import SelectFromModel\n",
        "\n",
        "# ML algorithm\n",
        "from sklearn.ensemble import GradientBoostingClassifier\n",
        "\n",
        "\n",
        "def PipelineClf2ExplainClusters():\n",
        "    pipeline_base = Pipeline([\n",
        "        (\"OrdinalCategoricalEncoder\", OrdinalEncoder(encoding_method='arbitrary',\n",
        "                                                     variables=['TP_mods'])),  # 'Engine Type' is dropped\n",
        "\n",
        "        (\"SmartCorrelatedSelection\", SmartCorrelatedSelection(variables=None, method=\"spearman\",\n",
        "                                                              threshold=0.5, selection_method=\"variance\")),\n",
        "\n",
        "        (\"scaler\", StandardScaler()),\n",
        "\n",
        "        (\"feat_selection\", SelectFromModel(\n",
        "            GradientBoostingClassifier(random_state=0))),\n",
        "\n",
        "        (\"model\", GradientBoostingClassifier(random_state=0)),\n",
        "\n",
        "    ])\n",
        "    return pipeline_base\n",
        "\n",
        "\n",
        "PipelineClf2ExplainClusters()\n"
      ]
    },
    {
      "cell_type": "markdown",
      "metadata": {},
      "source": [
        "Fit the classifier to the training data"
      ]
    },
    {
      "cell_type": "code",
      "execution_count": null,
      "metadata": {
        "id": "3R7xdg1Av0Ce"
      },
      "outputs": [],
      "source": [
        "pipeline_clf_cluster = PipelineClf2ExplainClusters()\n",
        "pipeline_clf_cluster.fit(X_train, y_train)"
      ]
    },
    {
      "cell_type": "markdown",
      "metadata": {
        "id": "z05LMFoZ4T2K"
      },
      "source": [
        "## Evaluate classifier performance on Train and Test Sets"
      ]
    },
    {
      "cell_type": "code",
      "execution_count": null,
      "metadata": {
        "id": "M1iqL2Kc544K"
      },
      "outputs": [],
      "source": [
        "from sklearn.metrics import classification_report\n",
        "print(classification_report(y_train, pipeline_clf_cluster.predict(X_train)))"
      ]
    },
    {
      "cell_type": "code",
      "execution_count": null,
      "metadata": {
        "id": "0Oo4xJMZ615p"
      },
      "outputs": [],
      "source": [
        "print(classification_report(y_test, pipeline_clf_cluster.predict(X_test)))"
      ]
    },
    {
      "cell_type": "markdown",
      "metadata": {
        "id": "MEwjHBSh5ejG"
      },
      "source": [
        "## Assess the most important Features that define a cluster"
      ]
    },
    {
      "cell_type": "code",
      "execution_count": null,
      "metadata": {},
      "outputs": [],
      "source": [
        "# after data cleaning and feature engineering, the feature space changes\n",
        "\n",
        "# how many data cleaning and feature engineering steps does your pipeline have?\n",
        "data_cleaning_feat_eng_steps = 2\n",
        "columns_after_data_cleaning_feat_eng = (Pipeline(pipeline_clf_cluster.steps[:data_cleaning_feat_eng_steps])\n",
        "                                        .transform(X_train)\n",
        "                                        .columns)\n",
        "\n",
        "best_features = columns_after_data_cleaning_feat_eng[pipeline_clf_cluster['feat_selection'].get_support(\n",
        ")].to_list()\n",
        "\n",
        "# create DataFrame to display feature importance\n",
        "df_feature_importance = (pd.DataFrame(data={\n",
        "    'Feature': columns_after_data_cleaning_feat_eng[pipeline_clf_cluster['feat_selection'].get_support()],\n",
        "    'Importance': pipeline_clf_cluster['model'].feature_importances_})\n",
        "    .sort_values(by='Importance', ascending=False)\n",
        ")\n",
        "\n",
        "# reassign best features in importance order\n",
        "best_features = df_feature_importance['Feature'].to_list()\n",
        "\n",
        "# Most important features statement and plot\n",
        "print(f\"* These are the {len(best_features)} most important features in descending order. \"\n",
        "      f\"The model was trained on them: \\n{best_features} \\n\")\n",
        "df_feature_importance.plot(kind='bar', x='Feature', y='Importance')\n",
        "plt.show()\n"
      ]
    },
    {
      "cell_type": "markdown",
      "metadata": {
        "id": "qgul0EF9nx_E"
      },
      "source": [
        "We will store the best_features to use at a later stage."
      ]
    },
    {
      "cell_type": "code",
      "execution_count": null,
      "metadata": {
        "id": "YzyMkwHznyG8"
      },
      "outputs": [],
      "source": [
        "best_features_pipeline_all_variables = best_features\n",
        "best_features_pipeline_all_variables"
      ]
    },
    {
      "cell_type": "markdown",
      "metadata": {
        "id": "J2ywCxJmkRQn"
      },
      "source": [
        "## Cluster Analysis"
      ]
    },
    {
      "cell_type": "markdown",
      "metadata": {
        "id": "hZMr-wiudEkb"
      },
      "source": [
        "Load function that plots a table with description for all Clusters"
      ]
    },
    {
      "cell_type": "code",
      "execution_count": 33,
      "metadata": {
        "id": "_lpRVDqTdEul"
      },
      "outputs": [],
      "source": [
        "\n",
        "def DescriptionAllClusters(df, decimal_points=3):\n",
        "\n",
        "    DescriptionAllClusters = pd.DataFrame(\n",
        "        columns=df.drop(['Clusters'], axis=1).columns)\n",
        "    # iterate on each cluster , calls Clusters_IndividualDescription()\n",
        "    for cluster in df.sort_values(by='Clusters')['Clusters'].unique():\n",
        "\n",
        "        EDA_ClusterSubset = df.query(\n",
        "            f\"Clusters == {cluster}\").drop(['Clusters'], axis=1)\n",
        "        ClusterDescription = Clusters_IndividualDescription(\n",
        "            EDA_ClusterSubset, cluster, decimal_points)\n",
        "        DescriptionAllClusters = DescriptionAllClusters.append(\n",
        "            ClusterDescription)\n",
        "\n",
        "    DescriptionAllClusters.set_index(['Cluster'], inplace=True)\n",
        "    return DescriptionAllClusters\n",
        "\n",
        "\n",
        "def Clusters_IndividualDescription(EDA_Cluster, cluster, decimal_points):\n",
        "\n",
        "    ClustersDescription = pd.DataFrame(columns=EDA_Cluster.columns)\n",
        "    # for a given cluster, iterate over all columns\n",
        "    # if the variable is numerical, calculate the IQR: display as Q1 -- Q3.\n",
        "    # That will show the range for the most common values for the numerical variable\n",
        "    # if the variable is categorical, count the frequencies and displays the top 3 most frequent\n",
        "    # That will show the most common levels for the category\n",
        "\n",
        "    for col in EDA_Cluster.columns:\n",
        "\n",
        "        try:  # eventually a given cluster will have only missing data for a given variable\n",
        "\n",
        "            if EDA_Cluster[col].dtypes == 'object':\n",
        "\n",
        "                top_frequencies = EDA_Cluster.dropna(\n",
        "                    subset=[col])[[col]].value_counts(normalize=True).nlargest(n=3)\n",
        "                Description = ''\n",
        "\n",
        "                for x in range(len(top_frequencies)):\n",
        "                    freq = top_frequencies.iloc[x]\n",
        "                    category = top_frequencies.index[x][0]\n",
        "                    CategoryPercentage = int(round(freq*100, 0))\n",
        "                    statement = f\"'{category}': {CategoryPercentage}% , \"\n",
        "                    Description = Description + statement\n",
        "\n",
        "                ClustersDescription.at[0, col] = Description[:-2]\n",
        "\n",
        "            elif EDA_Cluster[col].dtypes in ['float', 'int']:\n",
        "                DescStats = EDA_Cluster.dropna(subset=[col])[[col]].describe()\n",
        "                Q1 = round(DescStats.iloc[4, 0], decimal_points)\n",
        "                Q3 = round(DescStats.iloc[6, 0], decimal_points)\n",
        "                Description = f\"{Q1} -- {Q3}\"\n",
        "                ClustersDescription.at[0, col] = Description\n",
        "\n",
        "        except Exception as e:\n",
        "            ClustersDescription.at[0, col] = 'Not available'\n",
        "            print(\n",
        "                f\"** Error Exception: {e} - cluster {cluster}, variable {col}\")\n",
        "\n",
        "    ClustersDescription['Cluster'] = str(cluster)\n",
        "\n",
        "    return ClustersDescription\n"
      ]
    },
    {
      "cell_type": "markdown",
      "metadata": {
        "id": "OHo7wmH68AYc"
      },
      "source": [
        "Load a custom function to plot cluster distribution per Variable (absolute and relative levels)"
      ]
    },
    {
      "cell_type": "code",
      "execution_count": 34,
      "metadata": {
        "id": "NN23X2dT8AeA"
      },
      "outputs": [],
      "source": [
        "import plotly.express as px\n",
        "\n",
        "\n",
        "def cluster_distribution_per_variable(df, target):\n",
        "    \"\"\"\n",
        "    The data should have 2 variables, the cluster predictions and\n",
        "    the variable you want to analyze with, in this case we call \"target\".\n",
        "    We use plotly express to create 2 plots:\n",
        "    Cluster distribution across the target.\n",
        "    Relative presence of the target level in each cluster.\n",
        "    \"\"\"\n",
        "    df_bar_plot = df.value_counts([\"Clusters\", target]).reset_index()\n",
        "    df_bar_plot.columns = ['Clusters', target, 'Count']\n",
        "    df_bar_plot[target] = df_bar_plot[target].astype('object')\n",
        "\n",
        "    print(f\"Clusters distribution across {target} levels\")\n",
        "    fig = px.bar(df_bar_plot, x='Clusters', y='Count',\n",
        "                 color=target, width=800, height=500)\n",
        "    fig.update_layout(xaxis=dict(tickmode='array',\n",
        "                      tickvals=df['Clusters'].unique()))\n",
        "    fig.show(renderer='jupyterlab')\n",
        "\n",
        "    df_relative = (df\n",
        "                   .groupby([\"Clusters\", target])\n",
        "                   .size()\n",
        "                   .groupby(level=0)\n",
        "                   .apply(lambda x:  100*x / x.sum())\n",
        "                   .reset_index()\n",
        "                   .sort_values(by=['Clusters'])\n",
        "                   )\n",
        "    df_relative.columns = ['Clusters', target, 'Relative Percentage (%)']\n",
        "\n",
        "    print(f\"Relative Percentage (%) of {target} in each cluster\")\n",
        "    fig = px.line(df_relative, x='Clusters', y='Relative Percentage (%)',\n",
        "                  color=target, width=800, height=500)\n",
        "    fig.update_layout(xaxis=dict(tickmode='array',\n",
        "                      tickvals=df['Clusters'].unique()))\n",
        "    fig.update_traces(mode='markers+lines')\n",
        "    fig.show(renderer='jupyterlab')\n"
      ]
    },
    {
      "cell_type": "markdown",
      "metadata": {
        "id": "73J7J65v4O_d"
      },
      "source": [
        "Create a DataFrame that contains best features and Clusters Predictions since we want to analyse the patterns for each cluster.\n"
      ]
    },
    {
      "cell_type": "code",
      "execution_count": null,
      "metadata": {
        "id": "PztdhjGl4Vkg"
      },
      "outputs": [],
      "source": [
        "df_cluster_profile = df_clf.copy()\n",
        "df_cluster_profile = df_cluster_profile.filter(items=best_features + ['Clusters'], axis=1)\n",
        "print(df_cluster_profile.shape)\n",
        "df_cluster_profile.head(3)"
      ]
    },
    {
      "cell_type": "markdown",
      "metadata": {
        "id": "-mfJRrFc7wzu"
      },
      "source": [
        "We want also to analyse distribution of Multi Engine and Engine Types."
      ]
    },
    {
      "cell_type": "code",
      "execution_count": null,
      "metadata": {
        "id": "fSRSNqiF4mnm"
      },
      "outputs": [],
      "source": [
        "df_multi_engine = pd.read_csv(\"outputs/datasets/collection/airplane_performance_study.csv\").filter(['Multi_Engine'])\n",
        "df_multi_engine['Multi_Engine'] = df_multi_engine['Multi_Engine'].astype('object')\n",
        "df_multi_engine.head(3)"
      ]
    },
    {
      "cell_type": "code",
      "execution_count": null,
      "metadata": {},
      "outputs": [],
      "source": [
        "df_engine_type = pd.read_csv(\"outputs/datasets/collection/airplane_performance_study.csv\").filter(['Engine_Type'])\n",
        "df_engine_type['Engine_Type'] = df_engine_type['Engine_Type'].astype('object')\n",
        "df_engine_type.head(3)"
      ]
    },
    {
      "cell_type": "markdown",
      "metadata": {
        "id": "KtD0Y3NdJOhm"
      },
      "source": [
        "### Cluster profile based on the best features"
      ]
    },
    {
      "cell_type": "markdown",
      "metadata": {},
      "source": [
        "For Engine Type"
      ]
    },
    {
      "cell_type": "code",
      "execution_count": null,
      "metadata": {
        "id": "LDhycaSEdORm"
      },
      "outputs": [],
      "source": [
        "pd.set_option('display.max_colwidth', None)\n",
        "clusters_profile = DescriptionAllClusters(df=pd.concat([df_cluster_profile,df_multi_engine], axis=1), decimal_points=0)\n",
        "clusters_profile"
      ]
    },
    {
      "cell_type": "markdown",
      "metadata": {},
      "source": [
        "...and for Engine Type"
      ]
    },
    {
      "cell_type": "code",
      "execution_count": null,
      "metadata": {},
      "outputs": [],
      "source": [
        "pd.set_option('display.max_colwidth', None)\n",
        "clusters_profile = DescriptionAllClusters(df=pd.concat([df_cluster_profile,df_multi_engine], axis=1), decimal_points=0)\n",
        "clusters_profile"
      ]
    },
    {
      "cell_type": "code",
      "execution_count": null,
      "metadata": {},
      "outputs": [],
      "source": [
        "pd.set_option('display.max_colwidth', None)\n",
        "clusters_profile = DescriptionAllClusters(df=pd.concat([df_cluster_profile,df_engine_type], axis=1), decimal_points=0)\n",
        "clusters_profile"
      ]
    },
    {
      "cell_type": "markdown",
      "metadata": {},
      "source": [
        "# Important!"
      ]
    },
    {
      "cell_type": "markdown",
      "metadata": {},
      "source": [
        "The above Cluster Profile is very important since we from this plot can draw conclusions of the patterns.\n",
        "\n",
        "The description of the clusters tells us not surprisingly that the modification to the Engine Performance (TP_mods) was perfectly clustered and that Airplanes without TP mods are pretty much fifty-fifty when it comes to Multi Engine. Furthermore it shows that the TP mods all most only appear on Piston Engines.\n",
        "\n",
        "The most important conclusion from this clustering exercise is that TP mods appear to only be done on piston powered airplanes!\n",
        "\n",
        "Since only one feature has been retained together with that the value of this clustering exercise has proved to be disappointing makes us not continue any furter with a re-fitting of the pipeline.\n",
        "\n",
        "The reason that this clustering did not yield much valuable insight is most likely becaus the the data set was to homogenous in terms of airplane types and that the airplanes in the data set was quite evenly and continiously distributed in terms of features such as size for example. If we would instead would have for example dropped the mid sized airplanes or introduced another type of airplanes such as fighter jets or drones we would most likely have experienced a more clear clustering. "
      ]
    },
    {
      "cell_type": "markdown",
      "metadata": {
        "id": "2SS6CCCb74lH"
      },
      "source": [
        "### Clusters distribution across Multi Engine and Engine Type distributions & Relative Percentage of Multi Engine and Engine Type in each cluster"
      ]
    },
    {
      "cell_type": "code",
      "execution_count": null,
      "metadata": {},
      "outputs": [],
      "source": [
        "df_cluster_vs_multi_engine=  df_multi_engine.copy()\n",
        "df_cluster_vs_multi_engine['Clusters'] = X['Clusters']\n",
        "cluster_distribution_per_variable(df=df_cluster_vs_multi_engine, target='Multi_Engine')"
      ]
    },
    {
      "cell_type": "code",
      "execution_count": null,
      "metadata": {},
      "outputs": [],
      "source": [
        "df_cluster_vs_engine_type=  df_engine_type.copy()\n",
        "df_cluster_vs_engine_type['Clusters'] = X['Clusters']\n",
        "cluster_distribution_per_variable(df=df_cluster_vs_engine_type, target='Engine_Type')"
      ]
    },
    {
      "cell_type": "markdown",
      "metadata": {
        "id": "iEfOvjx8ZhAH"
      },
      "source": [
        "# Fit New Cluster Pipeline with most important features"
      ]
    },
    {
      "cell_type": "markdown",
      "metadata": {},
      "source": [
        "---"
      ]
    },
    {
      "cell_type": "markdown",
      "metadata": {},
      "source": [
        "---"
      ]
    },
    {
      "cell_type": "markdown",
      "metadata": {},
      "source": [
        "---"
      ]
    },
    {
      "cell_type": "markdown",
      "metadata": {},
      "source": [
        "---"
      ]
    },
    {
      "cell_type": "markdown",
      "metadata": {},
      "source": [
        "---"
      ]
    },
    {
      "cell_type": "markdown",
      "metadata": {},
      "source": [
        "---"
      ]
    },
    {
      "cell_type": "markdown",
      "metadata": {},
      "source": [
        "---"
      ]
    },
    {
      "cell_type": "markdown",
      "metadata": {},
      "source": [
        "---"
      ]
    },
    {
      "cell_type": "markdown",
      "metadata": {},
      "source": [
        "---"
      ]
    },
    {
      "cell_type": "markdown",
      "metadata": {},
      "source": [
        "---"
      ]
    },
    {
      "cell_type": "markdown",
      "metadata": {},
      "source": [
        "---"
      ]
    },
    {
      "cell_type": "markdown",
      "metadata": {},
      "source": [
        "---"
      ]
    },
    {
      "cell_type": "markdown",
      "metadata": {
        "id": "PSfwpL-Fmomf"
      },
      "source": [
        "Split Train and Test sets"
      ]
    },
    {
      "cell_type": "code",
      "execution_count": null,
      "metadata": {
        "id": "sPyXs27Kmomf"
      },
      "outputs": [],
      "source": [
        "from sklearn.model_selection import train_test_split\n",
        "\n",
        "X_train, X_test, y_train, y_test = train_test_split(\n",
        "    df_clf.drop(['Clusters'], axis=1),\n",
        "    df_clf['Clusters'],\n",
        "    test_size=0.2,\n",
        "    random_state=0\n",
        ")\n",
        "\n",
        "print(X_train.shape, X_test.shape)\n"
      ]
    },
    {
      "cell_type": "markdown",
      "metadata": {
        "id": "0W-cV2ts8A_N"
      },
      "source": [
        "Rewrite pipeline to explain clusters"
      ]
    },
    {
      "cell_type": "markdown",
      "metadata": {},
      "source": [
        "# CHECK THIS!!!!!!!!!!!!!!!!!!!!!!!!!!!!!!!!!!!!!!!!!!!!!!!!!!!!!!!!!!!!!!!!!!!!!!!!!!"
      ]
    },
    {
      "cell_type": "code",
      "execution_count": null,
      "metadata": {
        "id": "Lm63GRYP8BIV"
      },
      "outputs": [],
      "source": [
        "def PipelineClf2ExplainClusters():\n",
        "    pipeline_base = Pipeline([\n",
        "        \n",
        "        (\"OrdinalCategoricalEncoder\", OrdinalEncoder(encoding_method='arbitrary',\n",
        "                                                     variables=['TP_mods'])),\n",
        "\n",
        "        # it doesn't need SmartCorrelation\n",
        "\n",
        "        (\"scaler\", StandardScaler()),\n",
        "\n",
        "        # we don't consider feature selection step, since we know which features to consider\n",
        "\n",
        "        (\"model\", GradientBoostingClassifier(random_state=0)),\n",
        "\n",
        "    ])\n",
        "    return pipeline_base\n",
        "\n",
        "\n",
        "PipelineClf2ExplainClusters()\n"
      ]
    },
    {
      "cell_type": "markdown",
      "metadata": {
        "id": "4zxpjktKd1n6"
      },
      "source": [
        "# Push files to Repo"
      ]
    },
    {
      "cell_type": "markdown",
      "metadata": {
        "id": "5i9X1oOORAQc"
      },
      "source": [
        "\n",
        "We will generate the following files\n",
        "\n",
        "* Cluster Pipeline\n",
        "* Train Set\n",
        "* Feature importance plot\n",
        "* Clusters Description\n",
        "* Cluster Silhouette\n"
      ]
    },
    {
      "cell_type": "code",
      "execution_count": null,
      "metadata": {
        "id": "5ySBIrV1Q4cY"
      },
      "outputs": [],
      "source": [
        "import joblib\n",
        "import os\n",
        "\n",
        "version = 'v1'\n",
        "file_path = f'outputs/ml_pipeline/cluster_analysis/{version}'\n",
        "\n",
        "try:\n",
        "    os.makedirs(name=file_path)\n",
        "except Exception as e:\n",
        "    print(e)\n"
      ]
    },
    {
      "cell_type": "markdown",
      "metadata": {
        "id": "6y9-0fisd5cl"
      },
      "source": [
        "## Cluster pipeline"
      ]
    },
    {
      "cell_type": "code",
      "execution_count": null,
      "metadata": {
        "id": "Xfv9k5xMd7fv"
      },
      "outputs": [],
      "source": [
        "pipeline_cluster"
      ]
    },
    {
      "cell_type": "code",
      "execution_count": null,
      "metadata": {
        "id": "IsphnIR84hJ4"
      },
      "outputs": [],
      "source": [
        "joblib.dump(value=pipeline_cluster, filename=f\"{file_path}/cluster_pipeline.pkl\")"
      ]
    },
    {
      "cell_type": "markdown",
      "metadata": {
        "id": "_ORnkwG6d74O"
      },
      "source": [
        "## Train Set"
      ]
    },
    {
      "cell_type": "code",
      "execution_count": null,
      "metadata": {
        "id": "QqcwHaVwd9Ff"
      },
      "outputs": [],
      "source": [
        "df_cluster_study=df\n",
        "print(df.shape)\n",
        "df_cluster_study.head(3)"
      ]
    },
    {
      "cell_type": "code",
      "execution_count": 49,
      "metadata": {
        "id": "M26MiJ9Y485Q"
      },
      "outputs": [],
      "source": [
        "df_cluster_study.to_csv(f\"{file_path}/TrainSet.csv\", index=False)"
      ]
    },
    {
      "cell_type": "markdown",
      "metadata": {
        "id": "eX_lcQVXaV0p"
      },
      "source": [
        "## Most important features plot"
      ]
    },
    {
      "cell_type": "markdown",
      "metadata": {
        "id": "o9datNfsLCVV"
      },
      "source": [
        "These are the features that define a cluster"
      ]
    },
    {
      "cell_type": "code",
      "execution_count": null,
      "metadata": {
        "id": "FYeoH7fjaV8J"
      },
      "outputs": [],
      "source": [
        "df_feature_importance.plot(kind='bar',x='Feature',y='Importance', figsize=(8,4))\n",
        "plt.show()"
      ]
    },
    {
      "cell_type": "code",
      "execution_count": null,
      "metadata": {
        "id": "sr0cVVQsaZqk"
      },
      "outputs": [],
      "source": [
        "df_feature_importance.plot(kind='bar',x='Feature',y='Importance', figsize=(8,4))\n",
        "plt.savefig(f\"{file_path}/features_define_cluster.png\", bbox_inches='tight', dpi=150)"
      ]
    },
    {
      "cell_type": "markdown",
      "metadata": {
        "id": "GX3Z5ivNd9mw"
      },
      "source": [
        "## Cluster Profile"
      ]
    },
    {
      "cell_type": "code",
      "execution_count": null,
      "metadata": {
        "id": "tw-mEnI8d_Bv"
      },
      "outputs": [],
      "source": [
        "clusters_profile"
      ]
    },
    {
      "cell_type": "code",
      "execution_count": 53,
      "metadata": {
        "id": "7G5CsAl738p7"
      },
      "outputs": [],
      "source": [
        "clusters_profile.to_csv(f\"{file_path}/clusters_profile.csv\")"
      ]
    },
    {
      "cell_type": "markdown",
      "metadata": {
        "id": "RObeac1HQq5a"
      },
      "source": [
        "## Cluster silhouette plot"
      ]
    },
    {
      "cell_type": "code",
      "execution_count": null,
      "metadata": {},
      "outputs": [],
      "source": [
        "visualizer = SilhouetteVisualizer(Pipeline(pipeline_cluster.steps[-1:])[0] , colors='yellowbrick')\n",
        "visualizer.fit(df_analysis)\n",
        "visualizer.show()\n",
        "plt.show()"
      ]
    },
    {
      "cell_type": "code",
      "execution_count": null,
      "metadata": {},
      "outputs": [],
      "source": [
        "fig, axes = plt.subplots(figsize=(7,5))\n",
        "fig = SilhouetteVisualizer(Pipeline(pipeline_cluster.steps[-1:])[0] , colors='yellowbrick', ax=axes)\n",
        "fig.fit(df_analysis)\n",
        "\n",
        "plt.savefig(f\"{file_path}/clusters_silhouette.png\", bbox_inches='tight',dpi=150)"
      ]
    }
  ],
  "metadata": {
    "accelerator": "GPU",
    "colab": {
      "name": "Modeling and Evaluation - Cluster Sklearn.ipynb",
      "provenance": [],
      "toc_visible": true
    },
    "interpreter": {
      "hash": "8b8334dab9339717f727a1deaf837b322d7a41c20d15cc86be99a8e69ceec8ce"
    },
    "kernelspec": {
      "display_name": "Python 3.8.12 64-bit ('3.8.12': pyenv)",
      "name": "python3"
    },
    "language_info": {
      "codemirror_mode": {
        "name": "ipython",
        "version": 3
      },
      "file_extension": ".py",
      "mimetype": "text/x-python",
      "name": "python",
      "nbconvert_exporter": "python",
      "pygments_lexer": "ipython3",
      "version": "3.8.18"
    },
    "orig_nbformat": 2
  },
  "nbformat": 4,
  "nbformat_minor": 2
}
