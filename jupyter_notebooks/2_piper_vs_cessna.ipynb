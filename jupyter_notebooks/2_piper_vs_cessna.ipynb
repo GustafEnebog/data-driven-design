{
  "cells": [
    {
      "cell_type": "markdown",
      "metadata": {
        "id": "0aStgWSO0E0E"
      },
      "source": [
        "# **Piper vs. Cessna Notebook**"
      ]
    },
    {
      "cell_type": "markdown",
      "metadata": {
        "id": "1eLEkw5O0ECa"
      },
      "source": [
        "## Objectives\n",
        "\n",
        "*   Answer business requirement 3: \n",
        "    * The client is interested in evaluating the “strength and weakness”-profile for two of their main competitors Piper and Cessna by evaluating the differences in performance for different features.\n",
        "\n",
        "## Inputs\n",
        "\n",
        "* outputs/datasets/collection/airplane_performance_study.csv\n",
        "\n",
        "## Outputs\n",
        "\n",
        "* generate code that answers business requirement 3 and can be used to build the Streamlit App \"Regression Playground\"-page\n",
        "\n",
        "\n",
        "\n",
        "\n"
      ]
    },
    {
      "cell_type": "markdown",
      "metadata": {
        "id": "9uWZXH9LwoQg"
      },
      "source": [
        "---"
      ]
    },
    {
      "cell_type": "markdown",
      "metadata": {},
      "source": [
        "# Change working directory"
      ]
    },
    {
      "cell_type": "markdown",
      "metadata": {},
      "source": [
        "We need to change the working directory from its current folder to its parent folder\n",
        "* Access the current directory with os.getcwd()"
      ]
    },
    {
      "cell_type": "code",
      "execution_count": null,
      "metadata": {},
      "outputs": [],
      "source": [
        "import os\n",
        "current_dir = os.getcwd()\n",
        "current_dir"
      ]
    },
    {
      "cell_type": "markdown",
      "metadata": {},
      "source": [
        "Make the parent of the current directory the new current directory\n",
        "* os.path.dirname() gets the parent directory\n",
        "* os.chir() defines the new current directory"
      ]
    },
    {
      "cell_type": "code",
      "execution_count": null,
      "metadata": {},
      "outputs": [],
      "source": [
        "os.chdir(os.path.dirname(current_dir))\n",
        "print(\"You set a new current directory\")"
      ]
    },
    {
      "cell_type": "markdown",
      "metadata": {},
      "source": [
        "Confirm the new current directory"
      ]
    },
    {
      "cell_type": "code",
      "execution_count": null,
      "metadata": {},
      "outputs": [],
      "source": [
        "current_dir = os.getcwd()\n",
        "current_dir"
      ]
    },
    {
      "cell_type": "markdown",
      "metadata": {
        "id": "_tdAGw4Zwssu"
      },
      "source": [
        "---"
      ]
    },
    {
      "cell_type": "markdown",
      "metadata": {},
      "source": [
        "# Imports"
      ]
    },
    {
      "cell_type": "code",
      "execution_count": 4,
      "metadata": {},
      "outputs": [],
      "source": [
        "import pandas as pd\n",
        "import numpy as np\n",
        "import seaborn as sns\n",
        "import matplotlib.pyplot as plt\n",
        "from sklearn.linear_model import LinearRegression\n",
        "import plotly.express as px"
      ]
    },
    {
      "cell_type": "markdown",
      "metadata": {
        "id": "t2oPUd1K_qCr"
      },
      "source": [
        "# Load Data"
      ]
    },
    {
      "cell_type": "markdown",
      "metadata": {},
      "source": [
        "* Dropping the columns with Meta Data 'Model' and 'Company' since these are identifier variables not needed for the study\n",
        "* Dropping the two Engine \"size\" features 'THR' (Force with unit lbf) and 'SHP' (Power with unit SHP). The \"THR\" column is occupied (otherwise showing NaN) when the \"Engine Type\" is categorized with Jet and the same goes for the \"SHP\" when the \"Engine Type\" is categorized with piston or propjet. These two features () are interesting from an Aircraft Design perspective but since these are different quantities with different units they become difficult/awkward to compare with each other."
      ]
    },
    {
      "cell_type": "code",
      "execution_count": null,
      "metadata": {
        "colab": {
          "base_uri": "https://localhost:8080/"
        },
        "id": "oqqga261_w4N",
        "outputId": "a936deda-749e-4926-c6a0-c857edfb43ae"
      },
      "outputs": [],
      "source": [
        "df = pd.read_csv(\"/workspace/data-driven-design/outputs/datasets/collection/airplane_performance_study.csv\")\n",
        "df.head(10)\n"
      ]
    },
    {
      "cell_type": "markdown",
      "metadata": {},
      "source": [
        "---"
      ]
    },
    {
      "cell_type": "markdown",
      "metadata": {
        "id": "xsBHpBFJ0ZFa"
      },
      "source": [
        "# Data Exploration from the domain specific perspective of Airplane Design and Performance"
      ]
    },
    {
      "cell_type": "markdown",
      "metadata": {},
      "source": [
        "---"
      ]
    },
    {
      "cell_type": "markdown",
      "metadata": {},
      "source": [
        "## Piper vs. Cessna"
      ]
    },
    {
      "cell_type": "markdown",
      "metadata": {},
      "source": [
        "We decided to pitch the Pier Aircraft against Cessna ..."
      ]
    },
    {
      "cell_type": "markdown",
      "metadata": {},
      "source": [
        "Already Kaggle where we retrieved the data we could glean info about the data without lifting a finger. We see that the data (that will be transformed into categorical data) currently is unbalanced.\n",
        "\n",
        "We have choosen here to pit two of the largest general aviation manufacturers Cessna with 24% of the data points and Piper standing for 13% of the datapoints against each other. These are also the two companies with the largest part of the data set. We have choosen a selection of key performance features and plotted them against Wing Span and the All Upp Weight (AUW).\n",
        "\n",
        "Piper aircrafts appear to have their airplanes more focust in both Wing span and weight than Cessna so we only compare these intervalls where both companies are represented with data points. Perhaps we should cut of the intervall even before the linear regression takes place!\n",
        "\n",
        "Interestingly enough it appears that the Pipers linear regression line have a pivot point around the middles so that they are better than Cessnas but worse than Cessna for the smaller wingspans and this pattern seems to be consistent across all the plotted performance except for perhaps Hmax. Interestingly enogh the opposite is true, higher weights makes Cessna win over Piper but lower weights makes Piper win over Cessna.\n",
        "\n",
        "I think this is however becasue of the skewed data given becasue Cessnas regression line is influensed by the data outside of Pipers data range and if the data is not completely linear then logically that would have a large effect on the gradient of the regression line!\n",
        "\n",
        "Is the data linear? Aerodynamic Scale factors (linked to RE-nr) would suggest that Performance would increase more than a linear increase as Wingspan increases.\n",
        "Structural Scale effects would rather suggest the opposite, who wins!?\n",
        "\n",
        "Observation gives that the performance parameters appear to be relativly linear for Wing Span however less so for Weight where the data is getting more flat as weight increases.\n",
        "\n",
        "Despite having domain specific knowledge about Aircraft performance I do not see any obvious reason for this data-pattern!\n",
        "\n",
        "<img src=\"/workspace/data-driven-design/images_notebook/cessna_vs_piper_kaggle.png\" alt=\"Screenshot showing distribution between Cessna and Piper\" height=\"200\" />"
      ]
    },
    {
      "cell_type": "code",
      "execution_count": null,
      "metadata": {},
      "outputs": [],
      "source": [
        "filtered_df = df[df['Company'].isin(['Cessna Aircraft Company', 'Piper Aircraft'])]\n",
        "print(filtered_df)"
      ]
    },
    {
      "cell_type": "code",
      "execution_count": null,
      "metadata": {},
      "outputs": [],
      "source": [
        "# Filter regression plots\n",
        "plt.figure(figsize=(10, 6))\n",
        "\n",
        "# Plot using Seaborn's regression plot\n",
        "sns.regplot(data=filtered_df[filtered_df['Company'] == 'Cessna Aircraft Company'],\n",
        "            x='Wing_Span', y='Range',\n",
        "            label='Cessna Aircraft Company', color='blue', ci=None)\n",
        "\n",
        "sns.regplot(data=filtered_df[filtered_df['Company'] == 'Piper Aircraft'],\n",
        "            x='Wing_Span', y='Range',\n",
        "            label='Piper Aircraft', color='orange', ci=None)\n",
        "\n",
        "plt.xlim(filtered_df['Wing_Span'].min() - 5, filtered_df['Wing_Span'].max() + 5)\n",
        "plt.ylim(filtered_df['Range'].min() - 5, filtered_df['Range'].max() + 5)\n",
        "\n",
        "# Set limits for x and y axes\n",
        "plt.title('Range vs. Wingspan for Cessna and Piper Aircraft')\n",
        "plt.xlabel('Wing Span (ft)')\n",
        "plt.ylabel('Range(N.M.)')\n",
        "plt.legend()\n",
        "plt.grid()\n",
        "plt.show()\n",
        "\n",
        "# Compare regression coefficients\n",
        "for company in ['Cessna Aircraft Company', 'Piper Aircraft']:\n",
        "    X = filtered_df[filtered_df['Company'] == company]['Wing_Span'].values.reshape(-1, 1)\n",
        "    y = filtered_df[filtered_df['Company'] == company]['Range'].values\n",
        "    model = LinearRegression().fit(X, y)\n",
        "    print(f\"{company} - Coefficient: {model.coef_[0]:.2f}, Intercept: {model.intercept_:.2f}\")\n"
      ]
    },
    {
      "cell_type": "code",
      "execution_count": null,
      "metadata": {},
      "outputs": [],
      "source": [
        "# Parameters to plot\n",
        "parameters = ['Vmax', 'Vcruise', 'Range', 'Hmax', 'ROC']\n",
        "\n",
        "# Plotting for Wingspan\n",
        "plt.figure(figsize=(15, 10))\n",
        "for i, param in enumerate(parameters, start=1):\n",
        "    plt.subplot(3, 2, i)\n",
        "\n",
        "    # Create a scatter plot with regression lines for Cessna\n",
        "    sns.regplot(data=filtered_df[filtered_df['Company'] == 'Cessna Aircraft Company'],\n",
        "                x='Wing_Span', y=param,\n",
        "                label='Cessna Aircraft Company', color='blue', ci=None)\n",
        "\n",
        "    # Create a scatter plot with regression lines for Piper\n",
        "    sns.regplot(data=filtered_df[filtered_df['Company'] == 'Piper Aircraft'],\n",
        "                x='Wing_Span', y=param,\n",
        "                label='Piper Aircraft', color='orange', ci=None)\n",
        "\n",
        "    # Set limits\n",
        "    plt.xlim(filtered_df['Wing_Span'].min() - 5, filtered_df['Wing_Span'].max() + 5)\n",
        "    plt.ylim(filtered_df[param].min() - 5, filtered_df[param].max() + 5)\n",
        "\n",
        "    # Add titles and labels\n",
        "    plt.title(f'{param} vs. Wing_Span for Cessna Aircraft Company and Piper Aircraft')\n",
        "    plt.xlabel('Wing_Span (ft)')\n",
        "    plt.ylabel(param)\n",
        "    plt.legend()\n",
        "    plt.grid()\n",
        "\n",
        "plt.tight_layout()\n",
        "plt.show()\n",
        "\n",
        "# Plotting for AUW\n",
        "plt.figure(figsize=(15, 10))\n",
        "for i, param in enumerate(parameters, start=1):\n",
        "    plt.subplot(3, 2, i)\n",
        "\n",
        "    # Create a scatter plot with regression lines for Cessna\n",
        "    sns.regplot(data=filtered_df[filtered_df['Company'] == 'Cessna Aircraft Company'],\n",
        "                x='AUW', y=param,\n",
        "                label='Cessna', color='blue', ci=None)\n",
        "\n",
        "    # Create a scatter plot with regression lines for Piper\n",
        "    sns.regplot(data=filtered_df[filtered_df['Company'] == 'Piper Aircraft'],\n",
        "                x='AUW', y=param,\n",
        "                label='Piper', color='orange', ci=None)\n",
        "\n",
        "    # Set limits\n",
        "    plt.xlim(filtered_df['AUW'].min() - 100, filtered_df['AUW'].max() + 100)\n",
        "    plt.ylim(filtered_df[param].min() - 5, filtered_df[param].max() + 5)\n",
        "\n",
        "    # Add titles and labels\n",
        "    plt.title(f'{param} vs. AUW for Cessna Aircraft Company and Piper Aircraft')\n",
        "    plt.xlabel('AUW (lbs)')\n",
        "    plt.ylabel(param)\n",
        "    plt.legend()\n",
        "    plt.grid()\n",
        "\n",
        "plt.tight_layout()\n",
        "plt.show()\n",
        "\n",
        "# Compare regression coefficients for each parameter\n",
        "for param in parameters:\n",
        "    for company in ['Cessna Aircraft Company', 'Piper Aircraft']:\n",
        "        X_wing_Span = filtered_df[filtered_df['Company'] == company]['Wing_Span'].values.reshape(-1, 1)\n",
        "        y_param = filtered_df[filtered_df['Company'] == company][param].values\n",
        "        model_wing_Span = LinearRegression().fit(X_wing_Span, y_param)\n",
        "        print(f\"{company} ({param} vs. Wing_Span) - Coefficient: {model_wing_Span.coef_[0]:.2f}, Intercept: {model_wing_Span.intercept_:.2f}\")\n",
        "\n",
        "        X_auw = filtered_df[filtered_df['Company'] == company]['AUW'].values.reshape(-1, 1)\n",
        "        model_auw = LinearRegression().fit(X_auw, y_param)\n",
        "        print(f\"{company} ({param} vs. AUW) - Coefficient: {model_auw.coef_[0]:.2f}, Intercept: {model_auw.intercept_:.2f}\")\n"
      ]
    },
    {
      "cell_type": "markdown",
      "metadata": {},
      "source": [
        "Now with also trimmed axis\n",
        "We have here trimmed the axis so that Cessnas regression line is based only on the data points that are within the Pipers data range (for the wingspan and Weight). Only than can we have a fair comparison. \n",
        "\n",
        "It appears from this analysis that Piper is the winner however we have here not consider the following factors:\n",
        "* Perhaps the Piper aircrafs in this analysed data range are newer (first flight of more recent years) than the Cessna airplanes in the data\n",
        "* The Merit of an airplane is not measured by only one aspects, a few number of perforamnce features (albeit key such) but a complete set of features including: Practicality, strenght, price, longervity etc."
      ]
    },
    {
      "cell_type": "code",
      "execution_count": null,
      "metadata": {},
      "outputs": [],
      "source": [
        "# Parameters to plot\n",
        "parameters = ['Vmax', 'Vcruise', 'Range', 'Hmax', 'ROC']\n",
        "\n",
        "\n",
        "# Function to trim Cessna data based on Piper data ranges\n",
        "def trim_cessna_data(piper_data, cessna_data, param):\n",
        "    \"\"\"\n",
        "    Trim Cessna data to include only rows where the specified parameter\n",
        "    falls within the range of that parameter in Piper data.\n",
        "\n",
        "    Parameters:\n",
        "    piper_data (DataFrame): DataFrame containing Piper data.\n",
        "    cessna_data (DataFrame): DataFrame containing Cessna data.\n",
        "    param (str): The parameter column name to compare.\n",
        "\n",
        "    Returns:\n",
        "    DataFrame: Filtered Cessna data within the Piper parameter range.\n",
        "    \"\"\"\n",
        "    piper_min = piper_data[param].min()\n",
        "    piper_max = piper_data[param].max()\n",
        "    return cessna_data[(cessna_data[param] >= piper_min) & (cessna_data[param] <= piper_max)]\n",
        "\n",
        "# Plotting for Wingspan\n",
        "plt.figure(figsize=(15, 10))\n",
        "for i, param in enumerate(parameters, start=1):\n",
        "    plt.subplot(3, 2, i)\n",
        "\n",
        "    # Get Piper data for the parameter\n",
        "    piper_data = filtered_df[filtered_df['Company'] == 'Piper Aircraft']\n",
        "\n",
        "    # Trim Cessna data for fair comparison\n",
        "    cessna_data_trimmed = trim_cessna_data(piper_data,\n",
        "                                           filtered_df[filtered_df['Company'] == 'Cessna Aircraft Company'],\n",
        "                                           param)\n",
        "\n",
        "    # Create a scatter plot with regression lines for trimmed Cessna\n",
        "    sns.regplot(data=cessna_data_trimmed,\n",
        "                x='Wing_Span', y=param,\n",
        "                label='Cessna Aircraft Company (Trimmed)', color='blue', ci=None)\n",
        "\n",
        "    # Create a scatter plot with regression lines for Piper\n",
        "    sns.regplot(data=piper_data,\n",
        "                x='Wing_Span', y=param,\n",
        "                label='Piper Aircraft', color='orange', ci=None)\n",
        "\n",
        "    # Set limits based on trimmed data\n",
        "    plt.xlim(cessna_data_trimmed['Wing_Span'].min() - 5, cessna_data_trimmed['Wing_Span'].max() + 5)\n",
        "    plt.ylim(filtered_df[param].min() - 5, filtered_df[param].max() + 5)\n",
        "\n",
        "    # Add titles and labels\n",
        "    plt.title(f'{param} vs. Wing_Span for Cessna and Piper Aircraft')\n",
        "    plt.xlabel('Wing_Span (ft)')\n",
        "    plt.ylabel(param)\n",
        "    plt.legend()\n",
        "    plt.grid()\n",
        "\n",
        "plt.tight_layout()\n",
        "plt.show()\n",
        "\n",
        "# Plotting for AUW\n",
        "plt.figure(figsize=(15, 10))\n",
        "for i, param in enumerate(parameters, start=1):\n",
        "    plt.subplot(3, 2, i)\n",
        "\n",
        "    # Trim Cessna data for fair comparison based on Piper data\n",
        "    cessna_data_trimmed_auw = trim_cessna_data(piper_data,\n",
        "                                               filtered_df[filtered_df['Company'] == 'Cessna Aircraft Company'],\n",
        "                                               param)\n",
        "\n",
        "    # Create a scatter plot with regression lines for trimmed Cessna\n",
        "    sns.regplot(data=cessna_data_trimmed_auw,\n",
        "                x='AUW', y=param,\n",
        "                label='Cessna (Trimmed)', color='blue', ci=None)\n",
        "\n",
        "    # Create a scatter plot with regression lines for Piper\n",
        "    sns.regplot(data=piper_data,\n",
        "                x='AUW', y=param,\n",
        "                label='Piper', color='orange', ci=None)\n",
        "\n",
        "    # Set limits based on trimmed data\n",
        "    plt.xlim(cessna_data_trimmed_auw['AUW'].min() - 100, cessna_data_trimmed_auw['AUW'].max() + 100)\n",
        "    plt.ylim(filtered_df[param].min() - 5, filtered_df[param].max() + 5)\n",
        "\n",
        "    # Add titles and labels\n",
        "    plt.title(f'{param} vs. AUW for Cessna and Piper Aircraft')\n",
        "    plt.xlabel('AUW (lbs)')\n",
        "    plt.ylabel(param)\n",
        "    plt.legend()\n",
        "    plt.grid()\n",
        "\n",
        "plt.tight_layout()\n",
        "plt.show()\n",
        "\n",
        "# Compare regression coefficients for each parameter\n",
        "for param in parameters:\n",
        "    for company in ['Cessna Aircraft Company', 'Piper Aircraft']:\n",
        "        if company == 'Cessna Aircraft Company':\n",
        "            X_wing_Span = cessna_data_trimmed['Wing_Span'].values.reshape(-1, 1)\n",
        "            y_param = cessna_data_trimmed[param].values\n",
        "        else:\n",
        "            X_wing_Span = piper_data['Wing_Span'].values.reshape(-1, 1)\n",
        "            y_param = piper_data[param].values\n",
        "\n",
        "        model_wing_Span = LinearRegression().fit(X_wing_Span, y_param)\n",
        "        print(f\"{company} ({param} vs. Wing_Span) - Coefficient: {model_wing_Span.coef_[0]:.2f}, Intercept: {model_wing_Span.intercept_:.2f}\")\n",
        "\n",
        "        if company == 'Cessna Aircraft Company':\n",
        "            X_auw = cessna_data_trimmed['AUW'].values.reshape(-1, 1)\n",
        "        else:\n",
        "            X_auw = piper_data['AUW'].values.reshape(-1, 1)\n",
        "\n",
        "        model_auw = LinearRegression().fit(X_auw, y_param)\n",
        "        print(f\"{company} ({param} vs. AUW) - Coefficient: {model_auw.coef_[0]:.2f}, Intercept: {model_auw.intercept_:.2f}\")\n"
      ]
    },
    {
      "cell_type": "markdown",
      "metadata": {
        "id": "vVOqV5ADZjD1"
      },
      "source": [
        "---"
      ]
    },
    {
      "cell_type": "markdown",
      "metadata": {},
      "source": [
        "## Range dependencie on proportion of fuel Weight"
      ]
    },
    {
      "cell_type": "markdown",
      "metadata": {},
      "source": [
        "Please see the Range vs Fuel weight in the A section for an explenation on how these two features are related to each other.\n"
      ]
    },
    {
      "cell_type": "markdown",
      "metadata": {},
      "source": [
        "With outlier removed!"
      ]
    },
    {
      "cell_type": "markdown",
      "metadata": {},
      "source": [
        "Surprising and interesting result that the regression line turns negative in the upper half of the range. The few number of datapoints suggest that this might not be an accurate reflection of the data but rather stem from a misstake by the regression method similar to that of \"Simpson's Paradox\". We also see the confidence interval (shadowy area around the regression line) being very large for these datapoints."
      ]
    },
    {
      "cell_type": "code",
      "execution_count": null,
      "metadata": {},
      "outputs": [],
      "source": [
        "# Calculate Wi / Wf based on the formula\n",
        "df['Wi/Wf'] = (df['AUW'] + df['FW']) / df['AUW']\n",
        "\n",
        "# Identify and remove the outlier\n",
        "removed_outlier = df[df['Wi/Wf'] > 5]\n",
        "df_filtered = df[df['Wi/Wf'] <= 5]  # DataFrame without the outlier\n",
        "\n",
        "# Print the removed outlier\n",
        "print(\"Removed Outlier:\")\n",
        "print(removed_outlier[['Model', 'Wi/Wf', 'Range']])\n",
        "\n",
        "# Create a figure for the regression plots\n",
        "plt.figure(figsize=(10, 6))\n",
        "\n",
        "# Define intervals for Wi/Wf\n",
        "interval_1 = df_filtered[df_filtered['Wi/Wf'] <= 1.35]\n",
        "interval_2 = df_filtered[df_filtered['Wi/Wf'] > 1.35]\n",
        "\n",
        "# Plot regression for Piper and Cessna in Interval 1\n",
        "if not interval_1[interval_1['Company'].str.contains('Piper', case=False)].empty:\n",
        "    sns.regplot(x='Wi/Wf', y='Range', data=interval_1[interval_1['Company'].str.contains('Piper', case=False)],\n",
        "                label='Piper (Wi/Wf ≤ 1.35)', color='blue')\n",
        "\n",
        "if not interval_1[interval_1['Company'].str.contains('Cessna', case=False)].empty:\n",
        "    sns.regplot(x='Wi/Wf', y='Range', data=interval_1[interval_1['Company'].str.contains('Cessna', case=False)],\n",
        "                label='Cessna (Wi/Wf ≤ 1.35)', color='orange')\n",
        "\n",
        "# Repeat for Interval 2\n",
        "if not interval_2[interval_2['Company'].str.contains('Piper', case=False)].empty:\n",
        "    sns.regplot(x='Wi/Wf', y='Range', data=interval_2[interval_2['Company'].str.contains('Piper', case=False)],\n",
        "                label='Piper (Wi/Wf > 1.35)', color='cyan', line_kws={'linestyle': '--'})\n",
        "\n",
        "if not interval_2[interval_2['Company'].str.contains('Cessna', case=False)].empty:\n",
        "    sns.regplot(x='Wi/Wf', y='Range', data=interval_2[interval_2['Company'].str.contains('Cessna', case=False)],\n",
        "                label='Cessna (Wi/Wf > 1.35)', color='red', line_kws={'linestyle': '--'})\n",
        "\n",
        "# Automatically set axis limits based on data\n",
        "plt.autoscale()  # This will automatically adjust the limits\n",
        "plt.gca().set_aspect('auto')  # Set the aspect ratio to be auto-adjusted\n",
        "\n",
        "# Customize the plot\n",
        "plt.title('Regression Plot of Range vs. Wi/Wf for Piper and Cessna (Outlier Removed)')\n",
        "plt.xlabel('Wi/Wf')\n",
        "plt.ylabel('Range')\n",
        "plt.grid()\n",
        "plt.legend()\n",
        "plt.show()\n"
      ]
    },
    {
      "cell_type": "code",
      "execution_count": null,
      "metadata": {},
      "outputs": [],
      "source": [
        "print(df[['Wi/Wf', 'Range']].describe())"
      ]
    },
    {
      "cell_type": "markdown",
      "metadata": {},
      "source": [
        "---"
      ]
    },
    {
      "cell_type": "code",
      "execution_count": null,
      "metadata": {},
      "outputs": [],
      "source": [
        "# Create a figure for the regression plots\n",
        "plt.figure(figsize=(10, 6))\n",
        "\n",
        "# Define intervals for Wi/Wf\n",
        "interval_1 = df[df['Wi/Wf'] <= 1.35]\n",
        "interval_2 = df[df['Wi/Wf'] > 1.35]\n",
        "\n",
        "# Plot regression for Piper and Cessna in Interval 1\n",
        "if not interval_1[interval_1['Company'].str.contains('Piper', case=False)].empty:\n",
        "    sns.regplot(x='Wi/Wf', y='Range', data=interval_1[interval_1['Company'].str.contains('Piper', case=False)],\n",
        "                label='Piper (Wi/Wf ≤ 1.35)', color='blue')\n",
        "\n",
        "if not interval_1[interval_1['Company'].str.contains('Cessna', case=False)].empty:\n",
        "    sns.regplot(x='Wi/Wf', y='Range', data=interval_1[interval_1['Company'].str.contains('Cessna', case=False)],\n",
        "                label='Cessna (Wi/Wf ≤ 1.35)', color='orange')\n",
        "\n",
        "# Repeat for Interval 2\n",
        "if not interval_2[interval_2['Company'].str.contains('Piper', case=False)].empty:\n",
        "    sns.regplot(x='Wi/Wf', y='Range', data=interval_2[interval_2['Company'].str.contains('Piper', case=False)],\n",
        "                label='Piper (Wi/Wf > 1.35)', color='cyan', line_kws={'linestyle': '--'})\n",
        "\n",
        "if not interval_2[interval_2['Company'].str.contains('Cessna', case=False)].empty:\n",
        "    sns.regplot(x='Wi/Wf', y='Range', data=interval_2[interval_2['Company'].str.contains('Cessna', case=False)],\n",
        "                label='Cessna (Wi/Wf > 1.35)', color='red', line_kws={'linestyle': '--'})\n",
        "\n",
        "# Automatically set axis limits based on data\n",
        "plt.autoscale()  # This will automatically adjust the limits\n",
        "plt.gca().set_aspect('auto')  # Set the aspect ratio to be auto-adjusted\n",
        "\n",
        "# Customize the plot\n",
        "plt.title('Regression Plot of Range vs. Wi/Wf for Piper and Cessna')\n",
        "plt.xlabel('Wi/Wf')\n",
        "plt.ylabel('Range')\n",
        "plt.grid()\n",
        "plt.legend()\n",
        "plt.show()\n"
      ]
    },
    {
      "cell_type": "markdown",
      "metadata": {},
      "source": [
        "And the same plot with interactivity (ignore the divide by zero complaint as this will be solved in the streamlit implementation)"
      ]
    },
    {
      "cell_type": "code",
      "execution_count": null,
      "metadata": {},
      "outputs": [],
      "source": [
        "# Create a new DataFrame for hover data\n",
        "df['Wi/Wf'] = (df['AUW'] + df['FW']) / df['AUW']\n",
        "\n",
        "# Define intervals for Wi/Wf\n",
        "interval_1 = df[df['Wi/Wf'] <= 1.35]\n",
        "interval_2 = df[df['Wi/Wf'] > 1.35]\n",
        "\n",
        "# Create a plotly scatter plot\n",
        "fig = px.scatter(df, x='Wi/Wf', y='Range', color='Company',\n",
        "                 hover_name='Model',  # Column to display on hover\n",
        "                 title='Scatter Plot of Range vs. Wi/Wf for Piper and Cessna',\n",
        "                 labels={'Wi/Wf': 'Wi/Wf', 'Range': 'Range'},\n",
        "                 range_x=[df['Wi/Wf'].min() - 0.1, df['Wi/Wf'].max() + 0.1],\n",
        "                 range_y=[df['Range'].min() - 100, df['Range'].max() + 100])\n",
        "\n",
        "# Add regression lines using plotly's `trendline` feature\n",
        "for company in df['Company'].unique():\n",
        "    company_data = df[df['Company'] == company]\n",
        "    if not company_data.empty:\n",
        "        fig.add_traces(px.scatter(company_data, x='Wi/Wf', y='Range', trendline='ols',\n",
        "                                  title=f\"{company} Regression Line\").data)\n",
        "\n",
        "# Show the figure\n",
        "fig.show()\n"
      ]
    }
  ],
  "metadata": {
    "accelerator": "GPU",
    "colab": {
      "name": "Data Practitioner Jupyter Notebook.ipynb",
      "provenance": []
    },
    "interpreter": {
      "hash": "8b8334dab9339717f727a1deaf837b322d7a41c20d15cc86be99a8e69ceec8ce"
    },
    "kernelspec": {
      "display_name": "Python 3.8.12 64-bit ('3.8.12': pyenv)",
      "name": "python3"
    },
    "language_info": {
      "codemirror_mode": {
        "name": "ipython",
        "version": 3
      },
      "file_extension": ".py",
      "mimetype": "text/x-python",
      "name": "python",
      "nbconvert_exporter": "python",
      "pygments_lexer": "ipython3",
      "version": "3.8.18"
    },
    "orig_nbformat": 2
  },
  "nbformat": 4,
  "nbformat_minor": 2
}
