{
  "cells": [
    {
      "cell_type": "markdown",
      "metadata": {
        "id": "0aStgWSO0E0E"
      },
      "source": [
        "# **Domain Specific Analysis**"
      ]
    },
    {
      "cell_type": "markdown",
      "metadata": {
        "id": "1eLEkw5O0ECa"
      },
      "source": [
        "## Objectives\n",
        "\n",
        "*   Answer business requirement 1: \n",
        "    * The client is interested to understand the patterns between an airplanes design features and its Performance features, so that the client can learn which are the most relevant variables to consider when choosing **Engine Type** (jet, piston or propjet) in the design process of a new airplane.\n",
        "\n",
        "## Inputs\n",
        "\n",
        "* outputs/datasets/collection/airplane_performance_study.csv\n",
        "\n",
        "## Outputs\n",
        "\n",
        "* generate code that answers business requirement 1 and results that can be used to create airplane images with informative filenames that can be used to build Streamlit App (\"Get to know the dataset\"-page )\n",
        "\n",
        "df_summary_stats\n",
        "\n",
        "\n",
        "\n",
        "\n"
      ]
    },
    {
      "cell_type": "markdown",
      "metadata": {
        "id": "9uWZXH9LwoQg"
      },
      "source": [
        "---"
      ]
    },
    {
      "cell_type": "markdown",
      "metadata": {},
      "source": [
        "# Change working directory"
      ]
    },
    {
      "cell_type": "markdown",
      "metadata": {},
      "source": [
        "We need to change the working directory from its current folder to its parent folder\n",
        "* Access the current directory with os.getcwd()"
      ]
    },
    {
      "cell_type": "code",
      "execution_count": null,
      "metadata": {},
      "outputs": [],
      "source": [
        "import os\n",
        "current_dir = os.getcwd()\n",
        "current_dir"
      ]
    },
    {
      "cell_type": "markdown",
      "metadata": {},
      "source": [
        "Make the parent of the current directory the new current directory\n",
        "* os.path.dirname() gets the parent directory\n",
        "* os.chir() defines the new current directory"
      ]
    },
    {
      "cell_type": "code",
      "execution_count": null,
      "metadata": {},
      "outputs": [],
      "source": [
        "os.chdir(os.path.dirname(current_dir))\n",
        "print(\"You set a new current directory\")"
      ]
    },
    {
      "cell_type": "markdown",
      "metadata": {},
      "source": [
        "Confirm the new current directory"
      ]
    },
    {
      "cell_type": "code",
      "execution_count": null,
      "metadata": {},
      "outputs": [],
      "source": [
        "current_dir = os.getcwd()\n",
        "current_dir"
      ]
    },
    {
      "cell_type": "markdown",
      "metadata": {
        "id": "_tdAGw4Zwssu"
      },
      "source": [
        "---"
      ]
    },
    {
      "cell_type": "markdown",
      "metadata": {},
      "source": [
        "# Imports"
      ]
    },
    {
      "cell_type": "code",
      "execution_count": null,
      "metadata": {},
      "outputs": [],
      "source": [
        "import pandas as pd\n",
        "import seaborn as sns\n",
        "import matplotlib.pyplot as plt\n",
        "import plotly.graph_objs as go\n",
        "import numpy as np\n",
        "\n",
        "from matplotlib.lines import Line2D\n",
        "from sklearn.linear_model import LinearRegression"
      ]
    },
    {
      "cell_type": "markdown",
      "metadata": {
        "id": "t2oPUd1K_qCr"
      },
      "source": [
        "# Load Data"
      ]
    },
    {
      "cell_type": "markdown",
      "metadata": {},
      "source": [
        "* Dropping the columns with Meta Data 'Model' and 'Company' since these are identifier variables not needed for the study\n",
        "* Dropping the two Engine \"size\" features 'THR' (Force with unit lbf) and 'SHP' (Power with unit SHP). The \"THR\" column is occupied (otherwise showing NaN) when the \"Engine Type\" is categorized with Jet and the same goes for the \"SHP\" when the \"Engine Type\" is categorized with piston or propjet. These two features () are interesting from an Aircraft Design perspective but since these are different quantities with different units they become difficult and awkward to compare with each other."
      ]
    },
    {
      "cell_type": "code",
      "execution_count": null,
      "metadata": {
        "colab": {
          "base_uri": "https://localhost:8080/"
        },
        "id": "oqqga261_w4N",
        "outputId": "a936deda-749e-4926-c6a0-c857edfb43ae"
      },
      "outputs": [],
      "source": [
        "df = pd.read_csv(\"/workspace/data-driven-design/outputs/datasets/collection/airplane_performance_study.csv\")\n",
        "df.head(10)\n"
      ]
    },
    {
      "cell_type": "markdown",
      "metadata": {},
      "source": [
        "---"
      ]
    },
    {
      "cell_type": "markdown",
      "metadata": {
        "id": "xsBHpBFJ0ZFa"
      },
      "source": [
        "# Data Exploration from the domain specific perspective of Airplane Design and Performance"
      ]
    },
    {
      "cell_type": "markdown",
      "metadata": {},
      "source": [
        "## Mean and extremes in the data set"
      ]
    },
    {
      "cell_type": "markdown",
      "metadata": {},
      "source": [
        "We are interested to get more familiar with the dataset and to see if we can pin which airplanes that constitutes the most average and extremes in the data set. The Categorical feature Engine are not considered in this exploratory exercise."
      ]
    },
    {
      "cell_type": "markdown",
      "metadata": {},
      "source": [
        "Acclaim Ultra (M20V) (Mooney Aircraft) MIN: 280.0 is selected for the min value for THR - feature. Mighty strange since it has a prop. Probable explanation is that this value still exxist for this airplane (check!). This airplane is with a Vmax of 242 knots the fastest single-engine production piston aircraft in the world. The Engine Type and Multi_Engine for this airplane, I just discovered (Vmax is however correct) is incorrect. It should be a Engine Type: Piston and Multi Engine: false and these wrong entries is the reason for why it appears in the min THR category. I have NOT corrected this error yet.  "
      ]
    },
    {
      "cell_type": "code",
      "execution_count": null,
      "metadata": {},
      "outputs": [],
      "source": [
        "# Assuming df is defined and contains the relevant features and company/model columns\n",
        "# Create an empty DataFrame with columns showing what I want to display\n",
        "columns = ['FEATURE', 'units', 'MIN_model', 'MIN_company', 'MIN_value', \n",
        "           'MEAN_model', 'MEAN_company', 'MEAN_value', \n",
        "           'MAX_model', 'MAX_company', 'MAX_value']\n",
        "df_summary_stats = pd.DataFrame(columns=columns)\n",
        "\n",
        "# Fill the 'FEATURE' column with all relevant features leaving the categorical values out\n",
        "df_summary_stats['FEATURE'] = ['Wing_Span', 'Length', 'Height', \n",
        "                                'THR', 'SHP', 'AUW', 'MEW',\n",
        "                                'FW', 'Vmax', 'Vcruise', 'Vstall',\n",
        "                                'Range', 'Hmax', 'Hmax_(One)',\n",
        "                                'ROC', 'ROC_(One)', 'Vlo', 'Slo',\n",
        "                                'Vl', 'Sl']\n",
        "\n",
        "# Define units for each feature\n",
        "units = ['ft', 'ft', 'ft',\n",
        "         'lbf', 'HP',\n",
        "         'lb', 'lb', 'lb', 'knots',\n",
        "         'knots', 'knots', 'N.m.',\n",
        "         'ft', 'ft', 'ft/min', 'ft/min',\n",
        "         'ft', 'ft/min', 'ft', 'ft/min']\n",
        "\n",
        "# Add the units to the new column\n",
        "df_summary_stats['units'] = units\n",
        "\n",
        "# Calculate statistics and fill df_summary_stats\n",
        "for feature in df_summary_stats['FEATURE']:\n",
        "    if feature in df.columns:\n",
        "        # Minimum statistics\n",
        "        min_value = df[feature].min()\n",
        "        min_index = df[feature].idxmin()\n",
        "        df_summary_stats.loc[df_summary_stats['FEATURE'] == feature, 'MIN_model'] = df.loc[min_index, 'Model']\n",
        "        df_summary_stats.loc[df_summary_stats['FEATURE'] == feature, 'MIN_company'] = df.loc[min_index, 'Company']\n",
        "        df_summary_stats.loc[df_summary_stats['FEATURE'] == feature, 'MIN_value'] = f\"{min_value:.1f}\"  # Format to 1 decimal\n",
        "\n",
        "        # Mean statistics\n",
        "        mean_value = df[feature].mean()\n",
        "        df_summary_stats.loc[df_summary_stats['FEATURE'] == feature, 'MEAN_value'] = f\"{mean_value:.1f}\"  # Format to 1 decimal\n",
        "        \n",
        "        # Finding the closest value to the mean\n",
        "        closest_index = (df[feature] - mean_value).abs().idxmin()\n",
        "        df_summary_stats.loc[df_summary_stats['FEATURE'] == feature, 'MEAN_model'] = df.loc[closest_index, 'Model']\n",
        "        df_summary_stats.loc[df_summary_stats['FEATURE'] == feature, 'MEAN_company'] = df.loc[closest_index, 'Company']\n",
        "\n",
        "        # Maximum statistics\n",
        "        max_value = df[feature].max()\n",
        "        max_index = df[feature].idxmax()\n",
        "        df_summary_stats.loc[df_summary_stats['FEATURE'] == feature, 'MAX_model'] = df.loc[max_index, 'Model']\n",
        "        df_summary_stats.loc[df_summary_stats['FEATURE'] == feature, 'MAX_company'] = df.loc[max_index, 'Company']\n",
        "        df_summary_stats.loc[df_summary_stats['FEATURE'] == feature, 'MAX_value'] = f\"{max_value:.1f}\"  # Format to 1 decimal\n",
        "    else:\n",
        "        print(f\"Feature '{feature}' not found in the DataFrame.\")\n",
        "\n",
        "df_summary_stats\n"
      ]
    },
    {
      "cell_type": "code",
      "execution_count": 7,
      "metadata": {},
      "outputs": [],
      "source": [
        "df_summary_stats.to_csv('/workspace/data-driven-design/outputs/datasets/collection/df_summary_stats.csv', index=False)"
      ]
    },
    {
      "cell_type": "code",
      "execution_count": null,
      "metadata": {},
      "outputs": [],
      "source": [
        "df_summary_stats\n"
      ]
    },
    {
      "cell_type": "markdown",
      "metadata": {},
      "source": [
        "---"
      ]
    },
    {
      "cell_type": "markdown",
      "metadata": {},
      "source": [
        "## Range dependencie on proportion of fuel Weight"
      ]
    },
    {
      "cell_type": "markdown",
      "metadata": {},
      "source": [
        "The Range Equation (derived from the Breguet equations) include the proportion of the fuel weight to the overall weight of the aircraft. It measures this by the relationship between the initial weight of the aircraft (before take off) to the weight of the airplane (after landing) after the fuel has been burned off.\n",
        "A very interesting pattern emerges where it is not linear but also not exponential, rather a sort of two-phased linearity with one slope up until a 'Wi/Wf' 1.35 after which the slope changes abruptly. Perhaps the reason for this suprise pattern lies in the the Engine types. This would warrant the same plot to be printed with the different Engine types separately!\n",
        "\n",
        "<img src=\"/workspace/data-driven-design/images_notebook/range_eq.png\" alt=\"Range Equationr\" height=\"300\" />"
      ]
    },
    {
      "cell_type": "markdown",
      "metadata": {},
      "source": [
        "We have manually identified (by scrolling the Wi/Wf column) and removed the outlier that must be due to erroniouos data in FW and/or AUW."
      ]
    },
    {
      "cell_type": "code",
      "execution_count": null,
      "metadata": {},
      "outputs": [],
      "source": [
        "pd.set_option('display.max_rows', None)  # Show all rows\n",
        "pd.set_option('display.max_columns', None)  # Show all columns\n",
        "\n",
        "print(df)"
      ]
    },
    {
      "cell_type": "code",
      "execution_count": null,
      "metadata": {},
      "outputs": [],
      "source": [
        "# Print features for data point in row 467\n",
        "data_point = df.iloc[467]\n",
        "print(data_point)"
      ]
    },
    {
      "cell_type": "code",
      "execution_count": 12,
      "metadata": {},
      "outputs": [],
      "source": [
        "# Remove extreme outlier (most likely due to erronious data) from the DataFrameat index 467.\n",
        "df = df.drop(index=467).reset_index(drop=True)"
      ]
    },
    {
      "cell_type": "code",
      "execution_count": null,
      "metadata": {},
      "outputs": [],
      "source": [
        "    # Remove extreme outlier from the DataFrame\n",
        "    df = df.drop(index=467).reset_index(drop=True)\n",
        "\n",
        "    # Calculate Wi / Wf based on the formula\n",
        "    df['Wi/Wf'] = df['AUW'] / (df['AUW'] - df['FW'])\n",
        "\n",
        "    # Create a regression plot using seaborn\n",
        "    plt.figure(figsize=(10, 6))\n",
        "\n",
        "    # Linear regression with orange scatter points\n",
        "    sns.regplot(x='Wi/Wf', y='Range', data=df, label='Linear', color='blue', \n",
        "                scatter_kws={'color': 'orange'})\n",
        "\n",
        "    # Quadratic regression\n",
        "    sns.regplot(x='Wi/Wf', y='Range', data=df, order=2, label='Quadratic', color='red', \n",
        "                scatter_kws={'color': 'orange'})  # Keep scatter orange for both\n",
        "\n",
        "    # Customize the plot\n",
        "    plt.title('Effect of Wi/Wf on Range')\n",
        "    plt.xlabel('Wi/Wf')\n",
        "    plt.ylabel('Range')\n",
        "    plt.grid()\n",
        "\n",
        "    # Create custom legend handles\n",
        "    custom_legend = [\n",
        "        Line2D([0], [0], color='blue', label='Linear Regression'),\n",
        "        Line2D([0], [0], color='red', label='Quadratic Regression')\n",
        "    ]\n",
        "    plt.legend(handles=custom_legend)\n",
        "\n",
        "    # Display the plot\n",
        "    plt.show()"
      ]
    },
    {
      "cell_type": "markdown",
      "metadata": {},
      "source": [
        "---"
      ]
    },
    {
      "cell_type": "markdown",
      "metadata": {},
      "source": [
        "## Ceiling as a function of Wing Span"
      ]
    },
    {
      "cell_type": "markdown",
      "metadata": {},
      "source": [
        "Finally, my former prof. Peter Lissaman found, when developing the solar powered High Altitude Airplane Helios (Wing Span: 75 m) at Aerovironment/NASA, that Hmax was completely dependent on Wing Span. Since this is not obvious from the equations of Hmax it will be interesting to see if this also applies to General Aviation. We can see that the pattern from Helios is reproducible also for General Aviation (at least for 2 out of 3 Engine types). See Airplane Performance Predictor Streamlit app for more conclusions.\n",
        "\n",
        "<br>\n",
        "<img src=\"/workspace/data-driven-design/images_notebook/helios.jpg\" alt=\"Equation for\" style=\"width: 40%;\"/>"
      ]
    },
    {
      "cell_type": "code",
      "execution_count": null,
      "metadata": {},
      "outputs": [],
      "source": [
        "# Set the style for the plot\n",
        "sns.set(style=\"whitegrid\")\n",
        "\n",
        "# Create the plot\n",
        "plt.figure(figsize=(10, 6))\n",
        "\n",
        "# Plot regression line for Piston (Engine_Type = 0)\n",
        "sns.regplot(x='Wing_Span', y='Hmax', data=df[df['Engine_Type'] == 0], \n",
        "            scatter_kws={'alpha': 0.5}, \n",
        "            line_kws={'label': 'Piston'}, \n",
        "            color='blue')\n",
        "\n",
        "# Plot regression line for Propjet (Engine_Type = 1)\n",
        "sns.regplot(x='Wing_Span', y='Hmax', data=df[df['Engine_Type'] == 1], \n",
        "            scatter_kws={'alpha': 0.5}, \n",
        "            line_kws={'label': 'Propjet'}, \n",
        "            color='orange')\n",
        "\n",
        "# Plot regression line for Jet (Engine_Type = 2)\n",
        "sns.regplot(x='Wing_Span', y='Hmax', data=df[df['Engine_Type'] == 2], \n",
        "            scatter_kws={'alpha': 0.5}, \n",
        "            line_kws={'label': 'Jet'}, \n",
        "            color='green')\n",
        "\n",
        "# Add legend and titles\n",
        "plt.legend()\n",
        "plt.title('Effect of Wing Span on Hmax by Engine Type')\n",
        "plt.xlabel('Wing Span')\n",
        "plt.ylabel('Hmax')\n",
        "\n",
        "# Plot\n",
        "plt.show()\n"
      ]
    },
    {
      "cell_type": "markdown",
      "metadata": {},
      "source": [
        "---"
      ]
    },
    {
      "cell_type": "markdown",
      "metadata": {},
      "source": [
        "## Exploration of 3D Regression plots\n",
        "\n",
        "Below is an exercise to get familiar with the 3D plots with a regression surface instead of a regression line."
      ]
    },
    {
      "cell_type": "code",
      "execution_count": null,
      "metadata": {},
      "outputs": [],
      "source": [
        "import pandas as pd\n",
        "import plotly.graph_objs as go\n",
        "import numpy as np\n",
        "\n",
        "# Assuming df is your DataFrame with 'AUW', 'FW', and 'Range' columns\n",
        "\n",
        "# Create a grid for AUW and FW using the unique values\n",
        "AUW_range = df['AUW'].unique()\n",
        "FW_range = df['FW'].unique()\n",
        "\n",
        "# Create a meshgrid\n",
        "AUW_grid, FW_grid = np.meshgrid(AUW_range, FW_range)\n",
        "\n",
        "# Create a pivot table for Z values\n",
        "Z = df.pivot_table(values='Range', index='FW', columns='AUW').values\n",
        "\n",
        "# Create the figure\n",
        "fig = go.Figure(data=[go.Surface(z=Z, x=AUW_grid, y=FW_grid)])\n",
        "fig.update_layout(title='3D Surface Plot of AUW vs. FW',\n",
        "                  scene=dict(xaxis_title='AUW',\n",
        "                             yaxis_title='FW',\n",
        "                             zaxis_title='Range'),\n",
        "                  autosize=True)\n",
        "\n",
        "# Show the plot\n",
        "fig.show()\n"
      ]
    },
    {
      "cell_type": "code",
      "execution_count": null,
      "metadata": {},
      "outputs": [],
      "source": [
        "# Assuming df is your DataFrame with 'AUW', 'FW', and 'Range' columns\n",
        "\n",
        "# Prepare the data\n",
        "X = df[['AUW', 'FW']]\n",
        "y = df['Range']\n",
        "\n",
        "# Fit the linear regression model\n",
        "model = LinearRegression()\n",
        "model.fit(X, y)\n",
        "\n",
        "# Create a grid for AUW and FW using the unique values\n",
        "AUW_range = np.linspace(df['AUW'].min(), df['AUW'].max(), 100)\n",
        "FW_range = np.linspace(df['FW'].min(), df['FW'].max(), 100)\n",
        "AUW_grid, FW_grid = np.meshgrid(AUW_range, FW_range)\n",
        "\n",
        "# Predict Z values using the regression model\n",
        "Z = model.predict(np.c_[AUW_grid.ravel(), FW_grid.ravel()]).reshape(AUW_grid.shape)\n",
        "\n",
        "# Create the figure\n",
        "fig = go.Figure()\n",
        "\n",
        "# Add the regression plane\n",
        "fig.add_trace(go.Surface(z=Z, x=AUW_grid, y=FW_grid, colorscale='Viridis', opacity=0.5, name='Regression Plane'))\n",
        "\n",
        "# Add the scatter plot\n",
        "fig.add_trace(go.Scatter3d(x=df['AUW'], y=df['FW'], z=df['Range'], mode='markers', \n",
        "                             marker=dict(size=5, color='red', opacity=0.8), name='Data Points'))\n",
        "\n",
        "# Update layout\n",
        "fig.update_layout(title='3D Regression Plane with Scatter Plot',\n",
        "                  scene=dict(xaxis_title='AUW',\n",
        "                             yaxis_title='FW',\n",
        "                             zaxis_title='Range'),\n",
        "                  autosize=True)\n",
        "\n",
        "# Show the plot\n",
        "fig.show()\n"
      ]
    }
  ],
  "metadata": {
    "accelerator": "GPU",
    "colab": {
      "name": "Data Practitioner Jupyter Notebook.ipynb",
      "provenance": []
    },
    "interpreter": {
      "hash": "8b8334dab9339717f727a1deaf837b322d7a41c20d15cc86be99a8e69ceec8ce"
    },
    "kernelspec": {
      "display_name": "Python 3.8.12 64-bit ('3.8.12': pyenv)",
      "name": "python3"
    },
    "language_info": {
      "codemirror_mode": {
        "name": "ipython",
        "version": 3
      },
      "file_extension": ".py",
      "mimetype": "text/x-python",
      "name": "python",
      "nbconvert_exporter": "python",
      "pygments_lexer": "ipython3",
      "version": "3.8.18"
    },
    "orig_nbformat": 2
  },
  "nbformat": 4,
  "nbformat_minor": 2
}
