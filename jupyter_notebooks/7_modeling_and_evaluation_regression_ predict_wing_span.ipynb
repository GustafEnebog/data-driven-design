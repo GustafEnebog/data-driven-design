{
  "cells": [
    {
      "cell_type": "markdown",
      "metadata": {
        "id": "0aStgWSO0E0E"
      },
      "source": [
        "# **Modeling and Evaluation Regression Predict Wing Span Notebook**"
      ]
    },
    {
      "cell_type": "markdown",
      "metadata": {
        "id": "1eLEkw5O0ECa"
      },
      "source": [
        "## Objectives\n",
        "\n",
        "*   Fit and evaluate a regression model to predict Wing Span for Single piston Engined airplanes.\n",
        "\n",
        "\n",
        "## Inputs\n",
        "\n",
        "* outputs/datasets/collection/airplane_performance_study.csv\n",
        "* Instructions on which variables to use for data cleaning and feature engineering. They are found in their respective notebooks.\n",
        "\n",
        "## Outputs\n",
        "\n",
        "* feature_importance (3 files) \n",
        "* errors_analysis\n",
        "* Predicted vs Actual Plot\n",
        "* Residuals Distribution Plot\n",
        "* Residuals vs Fitted Plot\n",
        "* Train set\n",
        "* Test set\n",
        "* Modeling pipeline"
      ]
    },
    {
      "cell_type": "markdown",
      "metadata": {
        "id": "9uWZXH9LwoQg"
      },
      "source": [
        "---"
      ]
    },
    {
      "cell_type": "code",
      "execution_count": 1,
      "metadata": {},
      "outputs": [],
      "source": [
        "import warnings\n",
        "warnings.filterwarnings('ignore')"
      ]
    },
    {
      "cell_type": "markdown",
      "metadata": {},
      "source": [
        "# Change working directory"
      ]
    },
    {
      "cell_type": "markdown",
      "metadata": {},
      "source": [
        "We need to change the working directory from its current folder to its parent folder\n",
        "* Access the current directory with os.getcwd()"
      ]
    },
    {
      "cell_type": "code",
      "execution_count": 2,
      "metadata": {},
      "outputs": [
        {
          "data": {
            "text/plain": [
              "'/workspace/data-driven-design/jupyter_notebooks'"
            ]
          },
          "execution_count": 2,
          "metadata": {},
          "output_type": "execute_result"
        }
      ],
      "source": [
        "import os\n",
        "current_dir = os.getcwd()\n",
        "current_dir"
      ]
    },
    {
      "cell_type": "markdown",
      "metadata": {},
      "source": [
        "Make the parent of the current directory the new current directory\n",
        "* os.path.dirname() gets the parent directory\n",
        "* os.chir() defines the new current directory"
      ]
    },
    {
      "cell_type": "code",
      "execution_count": 3,
      "metadata": {},
      "outputs": [
        {
          "name": "stdout",
          "output_type": "stream",
          "text": [
            "You set a new current directory\n"
          ]
        }
      ],
      "source": [
        "os.chdir(os.path.dirname(current_dir))\n",
        "print(\"You set a new current directory\")"
      ]
    },
    {
      "cell_type": "markdown",
      "metadata": {},
      "source": [
        "Confirm the new current directory"
      ]
    },
    {
      "cell_type": "code",
      "execution_count": 4,
      "metadata": {},
      "outputs": [
        {
          "data": {
            "text/plain": [
              "'/workspace/data-driven-design'"
            ]
          },
          "execution_count": 4,
          "metadata": {},
          "output_type": "execute_result"
        }
      ],
      "source": [
        "current_dir = os.getcwd()\n",
        "current_dir"
      ]
    },
    {
      "cell_type": "markdown",
      "metadata": {
        "id": "pXKlJFX0iuM5"
      },
      "source": [
        "---"
      ]
    },
    {
      "cell_type": "markdown",
      "metadata": {},
      "source": [
        "# Imports"
      ]
    },
    {
      "cell_type": "code",
      "execution_count": 5,
      "metadata": {},
      "outputs": [],
      "source": [
        "import os\n",
        "\n",
        "import numpy as np\n",
        "import pandas as pd\n",
        "import matplotlib.pyplot as plt\n",
        "import seaborn as sns\n",
        "import joblib\n",
        "\n",
        "import warnings\n",
        "warnings.simplefilter(action='ignore', category=UserWarning)\n",
        "\n",
        "from sklearn.pipeline import Pipeline\n",
        "from sklearn.preprocessing import StandardScaler\n",
        "from sklearn.ensemble import RandomForestRegressor\n",
        "from sklearn.model_selection import train_test_split\n",
        "from sklearn.metrics import mean_squared_error\n",
        "from sklearn.metrics import confusion_matrix\n",
        "from sklearn.model_selection import KFold\n",
        "from sklearn.model_selection import cross_val_score"
      ]
    },
    {
      "cell_type": "markdown",
      "metadata": {
        "id": "-mavJ8DibrcQ"
      },
      "source": [
        "# Load Data"
      ]
    },
    {
      "cell_type": "markdown",
      "metadata": {},
      "source": [
        "In order to not compare apples with oranges the code below filters out all Multi Engined, jet and propjet leaving only the subset of **single Piston Engines**. It drops these columns as well as the performance modification (TP mods) column and the Hmax_(One) and ROC_(One)-columns since they only pertain to Multi Engined airplane."
      ]
    },
    {
      "cell_type": "code",
      "execution_count": 6,
      "metadata": {},
      "outputs": [
        {
          "name": "stdout",
          "output_type": "stream",
          "text": [
            "Directory exists: True\n",
            "Files in directory: ['airplane_performance_study.csv', 'df_summary_stats.csv']\n"
          ]
        }
      ],
      "source": [
        "import os\n",
        "\n",
        "# Check if the directory exists\n",
        "directory = \"outputs/datasets/collection/\"\n",
        "print(\"Directory exists:\", os.path.exists(directory))\n",
        "\n",
        "# List files in the directory\n",
        "print(\"Files in directory:\", os.listdir(directory))\n"
      ]
    },
    {
      "cell_type": "code",
      "execution_count": 7,
      "metadata": {
        "id": "Xk7DU_ekbtX8"
      },
      "outputs": [
        {
          "name": "stdout",
          "output_type": "stream",
          "text": [
            "(402, 16)\n"
          ]
        },
        {
          "data": {
            "text/html": [
              "<div>\n",
              "<style scoped>\n",
              "    .dataframe tbody tr th:only-of-type {\n",
              "        vertical-align: middle;\n",
              "    }\n",
              "\n",
              "    .dataframe tbody tr th {\n",
              "        vertical-align: top;\n",
              "    }\n",
              "\n",
              "    .dataframe thead th {\n",
              "        text-align: right;\n",
              "    }\n",
              "</style>\n",
              "<table border=\"1\" class=\"dataframe\">\n",
              "  <thead>\n",
              "    <tr style=\"text-align: right;\">\n",
              "      <th></th>\n",
              "      <th>Wing_Span</th>\n",
              "      <th>Length</th>\n",
              "      <th>Height</th>\n",
              "      <th>AUW</th>\n",
              "      <th>MEW</th>\n",
              "      <th>FW</th>\n",
              "      <th>Vmax</th>\n",
              "      <th>Vcruise</th>\n",
              "      <th>Vstall</th>\n",
              "      <th>Range</th>\n",
              "      <th>Hmax</th>\n",
              "      <th>ROC</th>\n",
              "      <th>Vlo</th>\n",
              "      <th>Slo</th>\n",
              "      <th>Vl</th>\n",
              "      <th>Sl</th>\n",
              "    </tr>\n",
              "  </thead>\n",
              "  <tbody>\n",
              "    <tr>\n",
              "      <th>0</th>\n",
              "      <td>37.416667</td>\n",
              "      <td>25.250000</td>\n",
              "      <td>10.250000</td>\n",
              "      <td>2050.0</td>\n",
              "      <td>1180.0</td>\n",
              "      <td>241.2</td>\n",
              "      <td>104.000000</td>\n",
              "      <td>91.0</td>\n",
              "      <td>46.0</td>\n",
              "      <td>370.0</td>\n",
              "      <td>13000.000000</td>\n",
              "      <td>450.000000</td>\n",
              "      <td>900.000000</td>\n",
              "      <td>391.970247</td>\n",
              "      <td>1300.0</td>\n",
              "      <td>257.745075</td>\n",
              "    </tr>\n",
              "    <tr>\n",
              "      <th>1</th>\n",
              "      <td>36.083333</td>\n",
              "      <td>20.583333</td>\n",
              "      <td>8.750000</td>\n",
              "      <td>1350.0</td>\n",
              "      <td>820.0</td>\n",
              "      <td>100.5</td>\n",
              "      <td>89.000000</td>\n",
              "      <td>83.0</td>\n",
              "      <td>44.0</td>\n",
              "      <td>190.0</td>\n",
              "      <td>12300.000000</td>\n",
              "      <td>600.000000</td>\n",
              "      <td>720.000000</td>\n",
              "      <td>26.247647</td>\n",
              "      <td>800.0</td>\n",
              "      <td>225.324824</td>\n",
              "    </tr>\n",
              "    <tr>\n",
              "      <th>2</th>\n",
              "      <td>35.000000</td>\n",
              "      <td>21.416667</td>\n",
              "      <td>8.583333</td>\n",
              "      <td>1300.0</td>\n",
              "      <td>810.0</td>\n",
              "      <td>127.3</td>\n",
              "      <td>90.000000</td>\n",
              "      <td>78.0</td>\n",
              "      <td>37.0</td>\n",
              "      <td>210.0</td>\n",
              "      <td>16000.000000</td>\n",
              "      <td>650.000000</td>\n",
              "      <td>475.000000</td>\n",
              "      <td>363.139711</td>\n",
              "      <td>850.0</td>\n",
              "      <td>585.751317</td>\n",
              "    </tr>\n",
              "    <tr>\n",
              "      <th>3</th>\n",
              "      <td>35.000000</td>\n",
              "      <td>21.416667</td>\n",
              "      <td>8.583333</td>\n",
              "      <td>1300.0</td>\n",
              "      <td>800.0</td>\n",
              "      <td>127.3</td>\n",
              "      <td>88.000000</td>\n",
              "      <td>78.0</td>\n",
              "      <td>37.0</td>\n",
              "      <td>210.0</td>\n",
              "      <td>13000.000000</td>\n",
              "      <td>620.000000</td>\n",
              "      <td>500.000000</td>\n",
              "      <td>407.797297</td>\n",
              "      <td>850.0</td>\n",
              "      <td>642.046166</td>\n",
              "    </tr>\n",
              "    <tr>\n",
              "      <th>4</th>\n",
              "      <td>35.000000</td>\n",
              "      <td>21.416667</td>\n",
              "      <td>8.750000</td>\n",
              "      <td>1220.0</td>\n",
              "      <td>740.0</td>\n",
              "      <td>93.8</td>\n",
              "      <td>83.000000</td>\n",
              "      <td>74.0</td>\n",
              "      <td>33.0</td>\n",
              "      <td>175.0</td>\n",
              "      <td>12500.000000</td>\n",
              "      <td>370.000000</td>\n",
              "      <td>632.000000</td>\n",
              "      <td>297.056192</td>\n",
              "      <td>885.0</td>\n",
              "      <td>329.571813</td>\n",
              "    </tr>\n",
              "    <tr>\n",
              "      <th>5</th>\n",
              "      <td>36.083333</td>\n",
              "      <td>20.333333</td>\n",
              "      <td>8.750000</td>\n",
              "      <td>1250.0</td>\n",
              "      <td>786.0</td>\n",
              "      <td>100.5</td>\n",
              "      <td>78.000000</td>\n",
              "      <td>72.0</td>\n",
              "      <td>33.0</td>\n",
              "      <td>180.0</td>\n",
              "      <td>11000.000000</td>\n",
              "      <td>360.000000</td>\n",
              "      <td>583.000000</td>\n",
              "      <td>393.226454</td>\n",
              "      <td>880.0</td>\n",
              "      <td>542.445142</td>\n",
              "    </tr>\n",
              "    <tr>\n",
              "      <th>13</th>\n",
              "      <td>42.250000</td>\n",
              "      <td>30.000000</td>\n",
              "      <td>11.416667</td>\n",
              "      <td>6300.0</td>\n",
              "      <td>3650.0</td>\n",
              "      <td>536.0</td>\n",
              "      <td>104.000000</td>\n",
              "      <td>91.0</td>\n",
              "      <td>60.0</td>\n",
              "      <td>235.0</td>\n",
              "      <td>10186.534495</td>\n",
              "      <td>486.010839</td>\n",
              "      <td>2080.000000</td>\n",
              "      <td>1080.000000</td>\n",
              "      <td>1190.0</td>\n",
              "      <td>588.000000</td>\n",
              "    </tr>\n",
              "    <tr>\n",
              "      <th>14</th>\n",
              "      <td>42.416667</td>\n",
              "      <td>25.500000</td>\n",
              "      <td>11.500000</td>\n",
              "      <td>5200.0</td>\n",
              "      <td>3650.0</td>\n",
              "      <td>428.8</td>\n",
              "      <td>103.336468</td>\n",
              "      <td>100.0</td>\n",
              "      <td>52.0</td>\n",
              "      <td>200.0</td>\n",
              "      <td>6333.745675</td>\n",
              "      <td>1360.000000</td>\n",
              "      <td>1050.000000</td>\n",
              "      <td>430.000000</td>\n",
              "      <td>1150.0</td>\n",
              "      <td>565.000000</td>\n",
              "    </tr>\n",
              "    <tr>\n",
              "      <th>15</th>\n",
              "      <td>35.916667</td>\n",
              "      <td>24.333333</td>\n",
              "      <td>10.833333</td>\n",
              "      <td>4500.0</td>\n",
              "      <td>3160.0</td>\n",
              "      <td>308.2</td>\n",
              "      <td>128.000000</td>\n",
              "      <td>96.0</td>\n",
              "      <td>59.0</td>\n",
              "      <td>148.0</td>\n",
              "      <td>14500.000000</td>\n",
              "      <td>1600.000000</td>\n",
              "      <td>860.000000</td>\n",
              "      <td>505.000000</td>\n",
              "      <td>770.0</td>\n",
              "      <td>410.000000</td>\n",
              "    </tr>\n",
              "    <tr>\n",
              "      <th>16</th>\n",
              "      <td>42.250000</td>\n",
              "      <td>25.916667</td>\n",
              "      <td>26.083333</td>\n",
              "      <td>3150.0</td>\n",
              "      <td>2680.0</td>\n",
              "      <td>308.2</td>\n",
              "      <td>128.000000</td>\n",
              "      <td>91.0</td>\n",
              "      <td>52.0</td>\n",
              "      <td>155.0</td>\n",
              "      <td>16984.027272</td>\n",
              "      <td>1350.000000</td>\n",
              "      <td>1365.533522</td>\n",
              "      <td>1000.000000</td>\n",
              "      <td>540.0</td>\n",
              "      <td>1150.000000</td>\n",
              "    </tr>\n",
              "  </tbody>\n",
              "</table>\n",
              "</div>"
            ],
            "text/plain": [
              "    Wing_Span     Length     Height     AUW     MEW     FW        Vmax  \\\n",
              "0   37.416667  25.250000  10.250000  2050.0  1180.0  241.2  104.000000   \n",
              "1   36.083333  20.583333   8.750000  1350.0   820.0  100.5   89.000000   \n",
              "2   35.000000  21.416667   8.583333  1300.0   810.0  127.3   90.000000   \n",
              "3   35.000000  21.416667   8.583333  1300.0   800.0  127.3   88.000000   \n",
              "4   35.000000  21.416667   8.750000  1220.0   740.0   93.8   83.000000   \n",
              "5   36.083333  20.333333   8.750000  1250.0   786.0  100.5   78.000000   \n",
              "13  42.250000  30.000000  11.416667  6300.0  3650.0  536.0  104.000000   \n",
              "14  42.416667  25.500000  11.500000  5200.0  3650.0  428.8  103.336468   \n",
              "15  35.916667  24.333333  10.833333  4500.0  3160.0  308.2  128.000000   \n",
              "16  42.250000  25.916667  26.083333  3150.0  2680.0  308.2  128.000000   \n",
              "\n",
              "    Vcruise  Vstall  Range          Hmax          ROC          Vlo  \\\n",
              "0      91.0    46.0  370.0  13000.000000   450.000000   900.000000   \n",
              "1      83.0    44.0  190.0  12300.000000   600.000000   720.000000   \n",
              "2      78.0    37.0  210.0  16000.000000   650.000000   475.000000   \n",
              "3      78.0    37.0  210.0  13000.000000   620.000000   500.000000   \n",
              "4      74.0    33.0  175.0  12500.000000   370.000000   632.000000   \n",
              "5      72.0    33.0  180.0  11000.000000   360.000000   583.000000   \n",
              "13     91.0    60.0  235.0  10186.534495   486.010839  2080.000000   \n",
              "14    100.0    52.0  200.0   6333.745675  1360.000000  1050.000000   \n",
              "15     96.0    59.0  148.0  14500.000000  1600.000000   860.000000   \n",
              "16     91.0    52.0  155.0  16984.027272  1350.000000  1365.533522   \n",
              "\n",
              "            Slo      Vl           Sl  \n",
              "0    391.970247  1300.0   257.745075  \n",
              "1     26.247647   800.0   225.324824  \n",
              "2    363.139711   850.0   585.751317  \n",
              "3    407.797297   850.0   642.046166  \n",
              "4    297.056192   885.0   329.571813  \n",
              "5    393.226454   880.0   542.445142  \n",
              "13  1080.000000  1190.0   588.000000  \n",
              "14   430.000000  1150.0   565.000000  \n",
              "15   505.000000   770.0   410.000000  \n",
              "16  1000.000000   540.0  1150.000000  "
            ]
          },
          "execution_count": 7,
          "metadata": {},
          "output_type": "execute_result"
        }
      ],
      "source": [
        "df = (pd.read_csv(\"outputs/datasets/collection/airplane_performance_study.csv\")\n",
        "      .query(\"Engine_Type == 0 and Multi_Engine == 0 and TP_mods == 0\")  # subset of airplanes with single Piston Enginees without any Turbo Prop performance modification TP_mods dmultiple Engines\n",
        "      .drop(labels=['Model', 'Company', 'THR', 'SHP', 'Engine_Type', 'Multi_Engine', 'TP_mods', 'Hmax_(One)', 'ROC_(One)'], axis=1)\n",
        "      )\n",
        "\n",
        "print(df.shape)\n",
        "df.head(10)"
      ]
    },
    {
      "cell_type": "markdown",
      "metadata": {},
      "source": [
        "---"
      ]
    },
    {
      "cell_type": "markdown",
      "metadata": {},
      "source": [
        "## Define features and target"
      ]
    },
    {
      "cell_type": "markdown",
      "metadata": {},
      "source": [
        "Define features and target\n",
        "\n",
        "X are the features for the model (all columns in df except for target Wing_Span.\n",
        "y is the target variable which is the Wing_Span column in the df."
      ]
    },
    {
      "cell_type": "code",
      "execution_count": 8,
      "metadata": {},
      "outputs": [],
      "source": [
        "# Define features and target\n",
        "X = df.drop('Wing_Span', axis=1)  # Features (where I drop the target variable)\n",
        "y = df['Wing_Span']  # Target variable"
      ]
    },
    {
      "cell_type": "markdown",
      "metadata": {},
      "source": [
        "## Split Train Test Set\n",
        "\n",
        "80% of df is split into the train set and 20% is left for the test set.\n",
        "The random_state=0 parameter ensures reproducibility of the split.\n",
        "\n",
        "We see that we have a suffiecent numper of data points to work with."
      ]
    },
    {
      "cell_type": "code",
      "execution_count": 9,
      "metadata": {},
      "outputs": [
        {
          "name": "stdout",
          "output_type": "stream",
          "text": [
            "* Train set: (321, 15) (321,) \n",
            "* Test set: (81, 15) (81,)\n"
          ]
        }
      ],
      "source": [
        "# Split the data into training and testing sets\n",
        "X_train, X_test, y_train, y_test = train_test_split(X, y, test_size=0.2, random_state=0)  # 80% to train and 20% to test.\n",
        "\n",
        "print(\"* Train set:\", X_train.shape, y_train.shape,\n",
        "      \"\\n* Test set:\",  X_test.shape, y_test.shape)"
      ]
    },
    {
      "cell_type": "markdown",
      "metadata": {},
      "source": [
        "---"
      ]
    },
    {
      "cell_type": "markdown",
      "metadata": {},
      "source": [
        "# MP Pipeline: Regressor"
      ]
    },
    {
      "cell_type": "markdown",
      "metadata": {},
      "source": [
        "## Create Pipeline\n",
        "\n",
        "'scaler' applies standard scaling to the (numerical) features, ensuring that they have a mean = 0 and a standard deviation = 1.\n",
        "'regressor' initializes Random Forest regression model for predicting target variable (Wing_Span)."
      ]
    },
    {
      "cell_type": "code",
      "execution_count": 10,
      "metadata": {},
      "outputs": [],
      "source": [
        "pipeline = Pipeline(steps=[\n",
        "    ('scaler', StandardScaler()),  # Scale numerical features\n",
        "    ('regressor', RandomForestRegressor(random_state=0))  # Regression model using Random Forrest\n",
        "])"
      ]
    },
    {
      "cell_type": "markdown",
      "metadata": {},
      "source": [
        "## Fit the model\n",
        "\n",
        "build the training model using the training dataset.\n",
        "\n",
        "StandardScaler is applied to scale the features in X_train.\n",
        "\n",
        "RandomForestRegressor is trained on the scaled features (from previous step) and corresponding target values."
      ]
    },
    {
      "cell_type": "code",
      "execution_count": 11,
      "metadata": {},
      "outputs": [
        {
          "data": {
            "text/html": [
              "<style>#sk-container-id-1 {color: black;}#sk-container-id-1 pre{padding: 0;}#sk-container-id-1 div.sk-toggleable {background-color: white;}#sk-container-id-1 label.sk-toggleable__label {cursor: pointer;display: block;width: 100%;margin-bottom: 0;padding: 0.3em;box-sizing: border-box;text-align: center;}#sk-container-id-1 label.sk-toggleable__label-arrow:before {content: \"▸\";float: left;margin-right: 0.25em;color: #696969;}#sk-container-id-1 label.sk-toggleable__label-arrow:hover:before {color: black;}#sk-container-id-1 div.sk-estimator:hover label.sk-toggleable__label-arrow:before {color: black;}#sk-container-id-1 div.sk-toggleable__content {max-height: 0;max-width: 0;overflow: hidden;text-align: left;background-color: #f0f8ff;}#sk-container-id-1 div.sk-toggleable__content pre {margin: 0.2em;color: black;border-radius: 0.25em;background-color: #f0f8ff;}#sk-container-id-1 input.sk-toggleable__control:checked~div.sk-toggleable__content {max-height: 200px;max-width: 100%;overflow: auto;}#sk-container-id-1 input.sk-toggleable__control:checked~label.sk-toggleable__label-arrow:before {content: \"▾\";}#sk-container-id-1 div.sk-estimator input.sk-toggleable__control:checked~label.sk-toggleable__label {background-color: #d4ebff;}#sk-container-id-1 div.sk-label input.sk-toggleable__control:checked~label.sk-toggleable__label {background-color: #d4ebff;}#sk-container-id-1 input.sk-hidden--visually {border: 0;clip: rect(1px 1px 1px 1px);clip: rect(1px, 1px, 1px, 1px);height: 1px;margin: -1px;overflow: hidden;padding: 0;position: absolute;width: 1px;}#sk-container-id-1 div.sk-estimator {font-family: monospace;background-color: #f0f8ff;border: 1px dotted black;border-radius: 0.25em;box-sizing: border-box;margin-bottom: 0.5em;}#sk-container-id-1 div.sk-estimator:hover {background-color: #d4ebff;}#sk-container-id-1 div.sk-parallel-item::after {content: \"\";width: 100%;border-bottom: 1px solid gray;flex-grow: 1;}#sk-container-id-1 div.sk-label:hover label.sk-toggleable__label {background-color: #d4ebff;}#sk-container-id-1 div.sk-serial::before {content: \"\";position: absolute;border-left: 1px solid gray;box-sizing: border-box;top: 0;bottom: 0;left: 50%;z-index: 0;}#sk-container-id-1 div.sk-serial {display: flex;flex-direction: column;align-items: center;background-color: white;padding-right: 0.2em;padding-left: 0.2em;position: relative;}#sk-container-id-1 div.sk-item {position: relative;z-index: 1;}#sk-container-id-1 div.sk-parallel {display: flex;align-items: stretch;justify-content: center;background-color: white;position: relative;}#sk-container-id-1 div.sk-item::before, #sk-container-id-1 div.sk-parallel-item::before {content: \"\";position: absolute;border-left: 1px solid gray;box-sizing: border-box;top: 0;bottom: 0;left: 50%;z-index: -1;}#sk-container-id-1 div.sk-parallel-item {display: flex;flex-direction: column;z-index: 1;position: relative;background-color: white;}#sk-container-id-1 div.sk-parallel-item:first-child::after {align-self: flex-end;width: 50%;}#sk-container-id-1 div.sk-parallel-item:last-child::after {align-self: flex-start;width: 50%;}#sk-container-id-1 div.sk-parallel-item:only-child::after {width: 0;}#sk-container-id-1 div.sk-dashed-wrapped {border: 1px dashed gray;margin: 0 0.4em 0.5em 0.4em;box-sizing: border-box;padding-bottom: 0.4em;background-color: white;}#sk-container-id-1 div.sk-label label {font-family: monospace;font-weight: bold;display: inline-block;line-height: 1.2em;}#sk-container-id-1 div.sk-label-container {text-align: center;}#sk-container-id-1 div.sk-container {/* jupyter's `normalize.less` sets `[hidden] { display: none; }` but bootstrap.min.css set `[hidden] { display: none !important; }` so we also need the `!important` here to be able to override the default hidden behavior on the sphinx rendered scikit-learn.org. See: https://github.com/scikit-learn/scikit-learn/issues/21755 */display: inline-block !important;position: relative;}#sk-container-id-1 div.sk-text-repr-fallback {display: none;}</style><div id=\"sk-container-id-1\" class=\"sk-top-container\"><div class=\"sk-text-repr-fallback\"><pre>Pipeline(steps=[(&#x27;scaler&#x27;, StandardScaler()),\n",
              "                (&#x27;regressor&#x27;, RandomForestRegressor(random_state=0))])</pre><b>In a Jupyter environment, please rerun this cell to show the HTML representation or trust the notebook. <br />On GitHub, the HTML representation is unable to render, please try loading this page with nbviewer.org.</b></div><div class=\"sk-container\" hidden><div class=\"sk-item sk-dashed-wrapped\"><div class=\"sk-label-container\"><div class=\"sk-label sk-toggleable\"><input class=\"sk-toggleable__control sk-hidden--visually\" id=\"sk-estimator-id-1\" type=\"checkbox\" ><label for=\"sk-estimator-id-1\" class=\"sk-toggleable__label sk-toggleable__label-arrow\">Pipeline</label><div class=\"sk-toggleable__content\"><pre>Pipeline(steps=[(&#x27;scaler&#x27;, StandardScaler()),\n",
              "                (&#x27;regressor&#x27;, RandomForestRegressor(random_state=0))])</pre></div></div></div><div class=\"sk-serial\"><div class=\"sk-item\"><div class=\"sk-estimator sk-toggleable\"><input class=\"sk-toggleable__control sk-hidden--visually\" id=\"sk-estimator-id-2\" type=\"checkbox\" ><label for=\"sk-estimator-id-2\" class=\"sk-toggleable__label sk-toggleable__label-arrow\">StandardScaler</label><div class=\"sk-toggleable__content\"><pre>StandardScaler()</pre></div></div></div><div class=\"sk-item\"><div class=\"sk-estimator sk-toggleable\"><input class=\"sk-toggleable__control sk-hidden--visually\" id=\"sk-estimator-id-3\" type=\"checkbox\" ><label for=\"sk-estimator-id-3\" class=\"sk-toggleable__label sk-toggleable__label-arrow\">RandomForestRegressor</label><div class=\"sk-toggleable__content\"><pre>RandomForestRegressor(random_state=0)</pre></div></div></div></div></div></div></div>"
            ],
            "text/plain": [
              "Pipeline(steps=[('scaler', StandardScaler()),\n",
              "                ('regressor', RandomForestRegressor(random_state=0))])"
            ]
          },
          "execution_count": 11,
          "metadata": {},
          "output_type": "execute_result"
        }
      ],
      "source": [
        "pipeline.fit(X_train, y_train)"
      ]
    },
    {
      "cell_type": "markdown",
      "metadata": {},
      "source": [
        "## Make predictions\n",
        "\n",
        "Scaling test features using StandardScaler fitted during training.\n",
        "\n",
        "Using the trained RandomForestRegressor to predict on scaled test data.\n",
        "\n",
        "Output: The predicted values for target (Wing_Span) stored in the predictions variable."
      ]
    },
    {
      "cell_type": "code",
      "execution_count": 12,
      "metadata": {},
      "outputs": [],
      "source": [
        "predictions = pipeline.predict(X_test)"
      ]
    },
    {
      "cell_type": "markdown",
      "metadata": {},
      "source": [
        "---"
      ]
    },
    {
      "cell_type": "markdown",
      "metadata": {},
      "source": [
        "## Evaluate Model Test Set"
      ]
    },
    {
      "cell_type": "markdown",
      "metadata": {},
      "source": [
        "### Mean Squared Error Calculation\n",
        "\n",
        "The mean_squared_error computes the mean squared error (MSE) between the actual values (y_test) and the predicted values (predictions). The MSE provids a quantitative measure of the model's performance on the test dataset.\n",
        "\n",
        " MSE is ok but not great, typically off by almost 3 ft (square root on MSE)! However we will do a cross-validation downstreams to see if this more reliable value is better."
      ]
    },
    {
      "cell_type": "code",
      "execution_count": 13,
      "metadata": {},
      "outputs": [
        {
          "name": "stdout",
          "output_type": "stream",
          "text": [
            "Mean Squared Error: 7.269560176611815\n"
          ]
        }
      ],
      "source": [
        "mse = mean_squared_error(y_test, predictions)\n",
        "print(f'Mean Squared Error: {mse}')"
      ]
    },
    {
      "cell_type": "markdown",
      "metadata": {},
      "source": [
        "## Print feature importances (for RandomForestRegressor)\n",
        "\n",
        "feature_importance_df is created that in descending order (by importance) list an \"importance score\"-for each feature providing insights into which features are most influential in predicting the target variable (Wing_Span).It makes much sense that the weights are on top since the Wing Span is related to the Wing Area (not in the data set) and that Wing Area is directly related to lift that in turn is directly related to the weights (since the lift need to offset the weight in order for the airplane to fly)"
      ]
    },
    {
      "cell_type": "code",
      "execution_count": 14,
      "metadata": {},
      "outputs": [
        {
          "name": "stdout",
          "output_type": "stream",
          "text": [
            "    Feature  Importance\n",
            "2       AUW    0.323164\n",
            "0    Length    0.249754\n",
            "3       MEW    0.150723\n",
            "8     Range    0.041125\n",
            "1    Height    0.039843\n",
            "14       Sl    0.031536\n",
            "6   Vcruise    0.024841\n",
            "7    Vstall    0.023296\n",
            "12      Slo    0.020960\n",
            "13       Vl    0.020804\n",
            "5      Vmax    0.020709\n",
            "4        FW    0.018682\n",
            "9      Hmax    0.012260\n",
            "11      Vlo    0.011164\n",
            "10      ROC    0.011140\n"
          ]
        }
      ],
      "source": [
        "importances = pipeline.named_steps['regressor'].feature_importances_\n",
        "feature_names = X.columns\n",
        "feature_importance_df = pd.DataFrame({'Feature': feature_names, 'Importance': importances})\n",
        "print(feature_importance_df.sort_values(by='Importance', ascending=False))"
      ]
    },
    {
      "cell_type": "markdown",
      "metadata": {},
      "source": [
        "Save above output"
      ]
    },
    {
      "cell_type": "code",
      "execution_count": 15,
      "metadata": {},
      "outputs": [
        {
          "data": {
            "text/plain": [
              "['outputs/ml_pipeline/predict_analysis/feature_importance_df.pkl']"
            ]
          },
          "execution_count": 15,
          "metadata": {},
          "output_type": "execute_result"
        }
      ],
      "source": [
        "# Save the feature names as a .pkl file\n",
        "joblib.dump(feature_names.tolist(), 'outputs/ml_pipeline/predict_analysis/feature_names.pkl')\n",
        "\n",
        "# Save the feature importance DataFrame as a .pkl file\n",
        "joblib.dump(feature_importance_df, 'outputs/ml_pipeline/predict_analysis/feature_importance_df.pkl')\n"
      ]
    },
    {
      "cell_type": "markdown",
      "metadata": {},
      "source": [
        "---"
      ]
    },
    {
      "cell_type": "markdown",
      "metadata": {},
      "source": [
        "## Plot Regression"
      ]
    },
    {
      "cell_type": "markdown",
      "metadata": {},
      "source": [
        "### Predicted vs actual values\n",
        "The points in the scatter plot represent the predicted Wing_Span values (on the y-axis) against the actual Wing_Span values (on the x-axis) for the test set."
      ]
    },
    {
      "cell_type": "code",
      "execution_count": 16,
      "metadata": {},
      "outputs": [
        {
          "name": "stdout",
          "output_type": "stream",
          "text": [
            "(81,)\n"
          ]
        }
      ],
      "source": [
        "print(y_test.shape)"
      ]
    },
    {
      "cell_type": "code",
      "execution_count": 17,
      "metadata": {},
      "outputs": [
        {
          "data": {
            "image/png": "[encoded data removed]",
            "text/plain": [
              "<Figure size 1000x600 with 1 Axes>"
            ]
          },
          "metadata": {},
          "output_type": "display_data"
        }
      ],
      "source": [
        "plt.figure(figsize=(10, 6))\n",
        "plt.scatter(y_test, predictions, alpha=0.6)\n",
        "plt.plot([y_test.min(), y_test.max()], [y_test.min(), y_test.max()], 'r--')  # Diagonal line\n",
        "plt.title('Predicted vs Actual Wing Span')\n",
        "plt.xlabel('Actual Wing Span')\n",
        "plt.ylabel('Predicted Wing Span')\n",
        "plt.xlim([y_test.min(), y_test.max()])\n",
        "plt.ylim([y_test.min(), y_test.max()])\n",
        "plt.grid()\n",
        "plt.savefig('outputs/ml_pipeline/predict_analysis/predicted_vs_actual.png')  # Save the plot as a PNG file\n",
        "plt.show()"
      ]
    },
    {
      "cell_type": "markdown",
      "metadata": {},
      "source": [
        "### Residual plot\n",
        "\n",
        "Calculating Residuals: The residuals are calculated by subtracting the predicted values (predictions) from the actual values (y_test). Residuals indicate the difference between what the model predicted and what the actual values were.\n",
        "\n",
        "This histogram helps visualize the distribution of the residuals, which can indicate how well the model is performing. Ideally, residuals should be normally distributed around zero if the model is a good fit.\n",
        "\n",
        "The Residuals Distribution shows that the distribution of errors (if negelecting the outlier) are such that all errors are all well within +- 5 meter. (and that the model rather tend overestimate than underestimate the wingspan)."
      ]
    },
    {
      "cell_type": "code",
      "execution_count": 18,
      "metadata": {},
      "outputs": [
        {
          "data": {
            "image/png": "[encoded data removed]",
            "text/plain": [
              "<Figure size 1000x600 with 1 Axes>"
            ]
          },
          "metadata": {},
          "output_type": "display_data"
        }
      ],
      "source": [
        "residuals = y_test - predictions\n",
        "plt.figure(figsize=(10, 6))\n",
        "sns.histplot(residuals, kde=True)\n",
        "plt.title('Residuals Distribution')\n",
        "plt.xlabel('Residuals')\n",
        "plt.ylabel('Frequency')\n",
        "plt.grid()\n",
        "plt.savefig('outputs/ml_pipeline/predict_analysis/residuals_distribution.png')  # Save the plot as a PNG file\n",
        "plt.show()"
      ]
    },
    {
      "cell_type": "markdown",
      "metadata": {},
      "source": [
        "### Residuals vs Fitted plot\n",
        "\n",
        "Each point represents a fitted value (predicted wingspan) from the train set plotted against its corresponding residual.\n",
        "\n",
        "Ideally, the residuals should be randomly scattered around the horizontal line at zero without any discernible pattern however our pattern appear to be \"high\" which is consistent with our previous plots.\n",
        "\n",
        "If we the \"High pattern\" is real it could indicate: it may indicate issues such as non-linearity, omitted variables, or model miss-specification.\n",
        "\n",
        "We also notice an outlier at the bottom of the graf that we could hunt down and remove since it potentially could skew the data."
      ]
    },
    {
      "cell_type": "code",
      "execution_count": 19,
      "metadata": {},
      "outputs": [
        {
          "data": {
            "image/png": "[encoded data removed]",
            "text/plain": [
              "<Figure size 1000x600 with 1 Axes>"
            ]
          },
          "metadata": {},
          "output_type": "display_data"
        }
      ],
      "source": [
        "plt.figure(figsize=(10, 6))\n",
        "plt.scatter(predictions, residuals, alpha=0.6)\n",
        "plt.axhline(0, color='red', linestyle='--')\n",
        "plt.title('Residuals vs Fitted')\n",
        "plt.xlabel('Fitted Values (Predicted Wing Span)')\n",
        "plt.ylabel('Residuals')\n",
        "plt.grid()\n",
        "plt.savefig('outputs/ml_pipeline/predict_analysis/residuals_vs_fitted.png')  # Save the plot\n",
        "plt.show()\n"
      ]
    },
    {
      "cell_type": "markdown",
      "metadata": {},
      "source": [
        "---"
      ]
    },
    {
      "cell_type": "markdown",
      "metadata": {},
      "source": [
        "## Cross Validation with K-fold"
      ]
    },
    {
      "cell_type": "markdown",
      "metadata": {},
      "source": [
        "Cross-validation gives a more reliable estimate of model performance and shows that our model is more reliable than we thought before having made the cross-validation (MSE before minus KSA after cross-validation) in MSE with 7.26.. - 4.41.. = 2,85.."
      ]
    },
    {
      "cell_type": "code",
      "execution_count": 20,
      "metadata": {},
      "outputs": [
        {
          "name": "stdout",
          "output_type": "stream",
          "text": [
            "Cross-validation Mean Squared Errors for each fold: [ 2.36853335 12.97039229  5.9289398  11.36416269  1.24801417  1.46864077\n",
            "  1.58278889  2.3368686   1.31605791  3.52885421]\n",
            "Average MSE across 10 folds: 4.4113252687381435\n"
          ]
        }
      ],
      "source": [
        "# Define the number of folds\n",
        "# The selection of 10 folds is standard for more reliable estimates especially if the size of the data set allows which it does in our case.\n",
        "#\n",
        "n_folds = 10 \n",
        "\n",
        "# Initialize KFold cross-validator\n",
        "kf = KFold(n_splits=n_folds, shuffle=True, random_state=0)\n",
        "\n",
        "# Perform cross-validation and calculate MSE for each fold\n",
        "cv_scores = cross_val_score(pipeline, X, y, cv=kf, scoring='neg_mean_squared_error')\n",
        "\n",
        "# Since cross_val_score returns negative MSE, we convert it to positive\n",
        "cv_scores = -cv_scores\n",
        "\n",
        "mse_k_means = cv_scores.mean()\n",
        "\n",
        "# Print out the cross-validation results\n",
        "print(f'Cross-validation Mean Squared Errors for each fold: {cv_scores}')\n",
        "print(f'Average MSE across {n_folds} folds: {mse_k_means}')\n",
        "\n",
        "# Save MSE to a text file\n",
        "with open('outputs/ml_pipeline/predict_analysis/mse_cv.txt', 'w') as f:\n",
        "    f.write(f'Cross-validation Mean Squared Errors for each fold: {cv_scores}\\n')\n",
        "    f.write(f'Average MSE across {n_folds} folds: {cv_scores.mean()}\\n')"
      ]
    },
    {
      "cell_type": "markdown",
      "metadata": {},
      "source": [
        "## Evaluation of model prediction"
      ]
    },
    {
      "cell_type": "markdown",
      "metadata": {},
      "source": [
        "All previous plots have appearntly given a slight overestimation of the Wingspan. This is confirmed by a \n",
        "Mean Error (ME) of approximately 5%. The Relative Error of 0.18% (based on a Wingspan range for the y_test of 29.08 feet) shows that this is error is not significant."
      ]
    },
    {
      "cell_type": "code",
      "execution_count": 21,
      "metadata": {},
      "outputs": [
        {
          "name": "stdout",
          "output_type": "stream",
          "text": [
            "Mean Error (ME): 0.05124485596708101\n",
            "Mean Absolute Error (MAE): 1.280277777777778\n",
            "Root Mean Squared Error (RMSE): 2.100315516473214\n",
            "Relative Error (using RMSE): 0.0597 (5.97%)\n",
            "R-Squared (R²): 0.49311638225084053\n"
          ]
        }
      ],
      "source": [
        "# From now on we will use the result of the Cross-validation\n",
        "mse = mse_k_means\n",
        "\n",
        "# Mean Error (ME)\n",
        "mean_error = np.mean(predictions - y_test)\n",
        "print(\"Mean Error (ME):\", mean_error)\n",
        "\n",
        "# Mean Absolute Error (MAE)\n",
        "mae = np.mean(np.abs(predictions - y_test))\n",
        "print(\"Mean Absolute Error (MAE):\", mae)\n",
        "\n",
        "# Mean value of y_test (used for relative error calculation)\n",
        "mean_y_test = np.mean(y_test)\n",
        "\n",
        "# Root Mean Squared Error (RMSE)\n",
        "rmse = np.sqrt(mse)\n",
        "print(\"Root Mean Squared Error (RMSE):\", rmse)\n",
        "\n",
        "# Relative Error (using RMSE)\n",
        "relative_error_rmse = rmse / mean_y_test\n",
        "print(f\"Relative Error (using RMSE): {relative_error_rmse:.4f} ({relative_error_rmse * 100:.2f}%)\")\n",
        "\n",
        "# R-Squared (R²)\n",
        "y_mean = np.mean(y_test)\n",
        "ss_total = np.sum((y_test - y_mean) ** 2)\n",
        "ss_residual = np.sum((y_test - predictions) ** 2)\n",
        "r_squared = 1 - (ss_residual / ss_total)\n",
        "print(\"R-Squared (R²):\", r_squared)\n",
        "\n",
        "# Save the results to a text file\n",
        "output_path = 'outputs/ml_pipeline/predict_analysis/error_analysis.txt'\n",
        "with open(output_path, 'w') as f:\n",
        "    f.write(f'Mean Error (ME): {mean_error:.4f} feet\\n')\n",
        "    f.write(f'Mean Absolute Error (MAE): {mae:.4f} feet\\n')\n",
        "    f.write(f'Mean Squared Error (MSE): {mse:.4f} feet\\n')\n",
        "    f.write(f'Root Mean Squared Error (RMSE): {rmse:.4f} feet\\n')\n",
        "    f.write(f'Relative Error using RMSE (RE)): {relative_error_rmse:.4f} ({relative_error_rmse * 100:.2f}%)\\n')\n",
        "    f.write(f'R-Squared (R²): {r_squared:.4f}\\n')"
      ]
    },
    {
      "cell_type": "markdown",
      "metadata": {},
      "source": [
        "Code for generating confusion matrix where the numerical continuous values has been binned into segments. Not that the code is cleaning/dropping NaN (due to no data points in those \"bucket\"-intervals) that, if they would not be removed, would break the function."
      ]
    },
    {
      "cell_type": "code",
      "execution_count": 22,
      "metadata": {},
      "outputs": [
        {
          "name": "stdout",
          "output_type": "stream",
          "text": [
            "5 Bins Edges: [ 16.   33.6  51.2  68.8  86.4 104. ]\n",
            "Bin Labels: ['16.0 to 33.6', '33.6 to 51.2', '51.2 to 68.8', '68.8 to 86.4', '86.4 to 104.0']\n",
            "Checking for NaN or Inf values in y_test:\n",
            "y_test contains NaN: False\n",
            "y_test contains Inf: False\n",
            "Checking for NaN or Inf values in predictions:\n",
            "predictions contains NaN: False\n",
            "predictions contains Inf: False\n"
          ]
        },
        {
          "data": {
            "image/png": "[encoded data removed]",
            "text/plain": [
              "<Figure size 1200x600 with 4 Axes>"
            ]
          },
          "metadata": {},
          "output_type": "display_data"
        }
      ],
      "source": [
        "def create_confusion_matrix(y_test, predictions, bins, bin_labels):\n",
        "    \"\"\"\n",
        "    Creates and visualizes both a normalized and raw confusion matrix by discretizing\n",
        "    the continuous target and prediction values into bins.\n",
        "    \n",
        "    Parameters:\n",
        "    -----------\n",
        "    y_test : array-like\n",
        "        The true values of the target variable (e.g., `Wing_Span`).\n",
        "        \n",
        "    predictions : array-like\n",
        "        The predicted values of the target variable (e.g., predicted `Wing_Span`).\n",
        "        \n",
        "    bins : list\n",
        "        A list of bin edges used to discretize the continuous values.\n",
        "        \n",
        "    bin_labels : list\n",
        "        A list of labels for each bin, corresponding to the bin edges.\n",
        "        \n",
        "    Returns:\n",
        "    --------\n",
        "    None\n",
        "    \"\"\"\n",
        "    \n",
        "    # Discretize the actual values and predictions into the bins (using the bin edges)\n",
        "    y_test_binned = pd.cut(y_test, bins=bins, labels=False, right=False)  # right=False makes bins left-inclusive\n",
        "    predictions_binned = pd.cut(predictions, bins=bins, labels=False, right=False)\n",
        "    \n",
        "    # Calculate confusion matrix using numerical indices for bins\n",
        "    cm = confusion_matrix(y_test_binned, predictions_binned)\n",
        "    \n",
        "    # Normalize the confusion matrix (by row, i.e., actual values)\n",
        "    cm_percentage = cm.astype('float') / cm.sum(axis=1)[:, np.newaxis]  # Normalize by row (actual values)\n",
        "    \n",
        "    # Create a figure with two subplots\n",
        "    plt.figure(figsize=(12, 6))\n",
        "\n",
        "    # Raw confusion matrix plot (without normalization)\n",
        "    plt.subplot(1, 2, 1)\n",
        "    sns.heatmap(cm, annot=True, fmt='d', cmap='Blues', xticklabels=bin_labels, yticklabels=bin_labels)\n",
        "    plt.title('Raw Confusion Matrix')\n",
        "    plt.xlabel('Predicted Wing Span')\n",
        "    plt.ylabel('Actual Wing Span')\n",
        "\n",
        "    # Normalized confusion matrix plot (percentage format)\n",
        "    plt.subplot(1, 2, 2)\n",
        "    sns.heatmap(cm_percentage, annot=True, fmt='.2%', cmap='Blues', xticklabels=bin_labels, yticklabels=bin_labels)\n",
        "    plt.title('Normalized Confusion Matrix')\n",
        "    plt.xlabel('Predicted Wing Span')\n",
        "    plt.ylabel('Actual Wing Span')\n",
        "\n",
        "    # Save the confusion matrix plot (both raw and normalized)\n",
        "    plt.savefig(\"outputs/ml_pipeline/predict_analysis/confusion_matrix.png\")\n",
        "\n",
        "    # Adjust layout and show plot\n",
        "    plt.tight_layout()\n",
        "    plt.show()\n",
        "\n",
        "    return cm, cm_percentage\n",
        "\n",
        "def clean_data(y_test, predictions):\n",
        "    \"\"\"\n",
        "    Cleans the input data by removing NaN or infinite values.\n",
        "    \n",
        "    Parameters:\n",
        "    -----------\n",
        "    y_test : array-like\n",
        "        The true values of the target variable (e.g., `Wing_Span`).\n",
        "        \n",
        "    predictions : array-like\n",
        "        The predicted values of the target variable (e.g., predicted `Wing_Span`).\n",
        "        \n",
        "    Returns:\n",
        "    --------\n",
        "    cleaned_y_test : array-like\n",
        "        Cleaned true values of the target variable (no NaN or infinite values).\n",
        "        \n",
        "    cleaned_predictions : array-like\n",
        "        Cleaned predicted values (no NaN or infinite values).\n",
        "    \"\"\"\n",
        "    # Remove NaN or infinite values\n",
        "    mask = np.isfinite(y_test) & np.isfinite(predictions)\n",
        "    cleaned_y_test = y_test[mask]\n",
        "    cleaned_predictions = predictions[mask]\n",
        "    \n",
        "    return cleaned_y_test, cleaned_predictions\n",
        "\n",
        "# Example usage of the function:\n",
        "min_wing_span = 16\n",
        "max_wing_span = 104\n",
        "\n",
        "# Create 5 equally spaced bins between the minimum and maximum values\n",
        "bins_5 = np.linspace(min_wing_span, max_wing_span, 6)  # 6 edges = 5 bins\n",
        "print(\"5 Bins Edges:\", bins_5)\n",
        "\n",
        "# Create bin labels based on the bin edges\n",
        "bin_labels_5 = [f'{round(bins_5[i], 1)} to {round(bins_5[i+1], 1)}' for i in range(len(bins_5)-1)]\n",
        "print(\"Bin Labels:\", bin_labels_5)\n",
        "\n",
        "# Check if y_test or predictions contain NaN or Inf values\n",
        "print(\"Checking for NaN or Inf values in y_test:\")\n",
        "print(f\"y_test contains NaN: {np.any(np.isnan(y_test))}\")\n",
        "print(f\"y_test contains Inf: {np.any(np.isinf(y_test))}\")\n",
        "\n",
        "print(\"Checking for NaN or Inf values in predictions:\")\n",
        "print(f\"predictions contains NaN: {np.any(np.isnan(predictions))}\")\n",
        "print(f\"predictions contains Inf: {np.any(np.isinf(predictions))}\")\n",
        "\n",
        "# If any NaN or Inf values found, remove or replace them\n",
        "valid_mask = ~np.isnan(y_test) & ~np.isinf(y_test) & ~np.isnan(predictions) & ~np.isinf(predictions)\n",
        "y_test_clean = y_test[valid_mask]\n",
        "predictions_clean = predictions[valid_mask]\n",
        "\n",
        "# Call the function with the actual and predicted values\n",
        "confusion_matrix_result, normalized_confusion_matrix = create_confusion_matrix(y_test_clean, predictions_clean, bins_5, bin_labels_5)"
      ]
    },
    {
      "cell_type": "markdown",
      "metadata": {},
      "source": [
        "---"
      ]
    },
    {
      "cell_type": "markdown",
      "metadata": {},
      "source": [
        "# Push files to the repo"
      ]
    },
    {
      "cell_type": "markdown",
      "metadata": {
        "id": "ShuJ5tYUC06o"
      },
      "source": [
        "The following plots has already been save upstream right after they where created:\n",
        "* feature_importance (3 files) \n",
        "* Mean Squared Error\n",
        "* Predicted vs Actual Plot\n",
        "* Residuals Distribution Plot\n",
        "* Residuals vs Fitted Plot\n",
        "\n",
        "Below we will generate the following files:\n",
        "* Train set\n",
        "* Test set\n",
        "* Modeling pipeline"
      ]
    },
    {
      "cell_type": "code",
      "execution_count": 23,
      "metadata": {},
      "outputs": [
        {
          "data": {
            "text/plain": [
              "['outputs/ml_pipeline/predict_analysis/wingspan_predictor_model.pkl']"
            ]
          },
          "execution_count": 23,
          "metadata": {},
          "output_type": "execute_result"
        }
      ],
      "source": [
        "joblib.dump(pipeline, 'outputs/ml_pipeline/predict_analysis/wingspan_predictor_model.pkl')\n"
      ]
    },
    {
      "cell_type": "code",
      "execution_count": 24,
      "metadata": {
        "id": "8vBpPvnaG5Mb"
      },
      "outputs": [
        {
          "name": "stdout",
          "output_type": "stream",
          "text": [
            "[Errno 17] File exists: 'outputs/ml_pipeline/predict_analysis'\n"
          ]
        }
      ],
      "source": [
        "file_path = f'outputs/ml_pipeline/predict_analysis'\n",
        "\n",
        "try:\n",
        "  os.makedirs(name=file_path)\n",
        "except Exception as e:\n",
        "  print(e)"
      ]
    },
    {
      "cell_type": "markdown",
      "metadata": {
        "id": "4TvoMsi3DNw1"
      },
      "source": [
        "## Train Set: features and target"
      ]
    },
    {
      "cell_type": "code",
      "execution_count": 25,
      "metadata": {
        "id": "yJHmwyqgDOr1"
      },
      "outputs": [
        {
          "data": {
            "text/html": [
              "<div>\n",
              "<style scoped>\n",
              "    .dataframe tbody tr th:only-of-type {\n",
              "        vertical-align: middle;\n",
              "    }\n",
              "\n",
              "    .dataframe tbody tr th {\n",
              "        vertical-align: top;\n",
              "    }\n",
              "\n",
              "    .dataframe thead th {\n",
              "        text-align: right;\n",
              "    }\n",
              "</style>\n",
              "<table border=\"1\" class=\"dataframe\">\n",
              "  <thead>\n",
              "    <tr style=\"text-align: right;\">\n",
              "      <th></th>\n",
              "      <th>Length</th>\n",
              "      <th>Height</th>\n",
              "      <th>AUW</th>\n",
              "      <th>MEW</th>\n",
              "      <th>FW</th>\n",
              "      <th>Vmax</th>\n",
              "      <th>Vcruise</th>\n",
              "      <th>Vstall</th>\n",
              "      <th>Range</th>\n",
              "      <th>Hmax</th>\n",
              "      <th>ROC</th>\n",
              "      <th>Vlo</th>\n",
              "      <th>Slo</th>\n",
              "      <th>Vl</th>\n",
              "      <th>Sl</th>\n",
              "    </tr>\n",
              "  </thead>\n",
              "  <tbody>\n",
              "    <tr>\n",
              "      <th>394</th>\n",
              "      <td>27.166667</td>\n",
              "      <td>8.833333</td>\n",
              "      <td>2550.0</td>\n",
              "      <td>1572.0</td>\n",
              "      <td>348.4</td>\n",
              "      <td>132.0</td>\n",
              "      <td>130.0</td>\n",
              "      <td>47.0</td>\n",
              "      <td>570.0</td>\n",
              "      <td>17000.0</td>\n",
              "      <td>870.0</td>\n",
              "      <td>1360.0</td>\n",
              "      <td>800.0</td>\n",
              "      <td>1345.0</td>\n",
              "      <td>635.0</td>\n",
              "    </tr>\n",
              "    <tr>\n",
              "      <th>685</th>\n",
              "      <td>29.000000</td>\n",
              "      <td>9.500000</td>\n",
              "      <td>3600.0</td>\n",
              "      <td>2071.0</td>\n",
              "      <td>629.8</td>\n",
              "      <td>189.0</td>\n",
              "      <td>175.0</td>\n",
              "      <td>61.0</td>\n",
              "      <td>648.0</td>\n",
              "      <td>20000.0</td>\n",
              "      <td>1050.0</td>\n",
              "      <td>1875.0</td>\n",
              "      <td>1410.0</td>\n",
              "      <td>1760.0</td>\n",
              "      <td>1050.0</td>\n",
              "    </tr>\n",
              "    <tr>\n",
              "      <th>550</th>\n",
              "      <td>23.500000</td>\n",
              "      <td>8.083333</td>\n",
              "      <td>2350.0</td>\n",
              "      <td>1520.0</td>\n",
              "      <td>201.0</td>\n",
              "      <td>123.0</td>\n",
              "      <td>117.0</td>\n",
              "      <td>45.0</td>\n",
              "      <td>305.0</td>\n",
              "      <td>13500.0</td>\n",
              "      <td>800.0</td>\n",
              "      <td>1375.0</td>\n",
              "      <td>650.0</td>\n",
              "      <td>900.0</td>\n",
              "      <td>475.0</td>\n",
              "    </tr>\n",
              "    <tr>\n",
              "      <th>141</th>\n",
              "      <td>25.083333</td>\n",
              "      <td>6.500000</td>\n",
              "      <td>2900.0</td>\n",
              "      <td>1820.0</td>\n",
              "      <td>261.3</td>\n",
              "      <td>179.0</td>\n",
              "      <td>165.0</td>\n",
              "      <td>50.0</td>\n",
              "      <td>470.0</td>\n",
              "      <td>19800.0</td>\n",
              "      <td>1225.0</td>\n",
              "      <td>1260.0</td>\n",
              "      <td>1050.0</td>\n",
              "      <td>1050.0</td>\n",
              "      <td>710.0</td>\n",
              "    </tr>\n",
              "    <tr>\n",
              "      <th>132</th>\n",
              "      <td>26.333333</td>\n",
              "      <td>6.500000</td>\n",
              "      <td>3400.0</td>\n",
              "      <td>2027.0</td>\n",
              "      <td>335.0</td>\n",
              "      <td>217.0</td>\n",
              "      <td>200.0</td>\n",
              "      <td>55.0</td>\n",
              "      <td>600.0</td>\n",
              "      <td>29500.0</td>\n",
              "      <td>1225.0</td>\n",
              "      <td>1320.0</td>\n",
              "      <td>950.0</td>\n",
              "      <td>1177.0</td>\n",
              "      <td>647.0</td>\n",
              "    </tr>\n",
              "  </tbody>\n",
              "</table>\n",
              "</div>"
            ],
            "text/plain": [
              "        Length    Height     AUW     MEW     FW   Vmax  Vcruise  Vstall  \\\n",
              "394  27.166667  8.833333  2550.0  1572.0  348.4  132.0    130.0    47.0   \n",
              "685  29.000000  9.500000  3600.0  2071.0  629.8  189.0    175.0    61.0   \n",
              "550  23.500000  8.083333  2350.0  1520.0  201.0  123.0    117.0    45.0   \n",
              "141  25.083333  6.500000  2900.0  1820.0  261.3  179.0    165.0    50.0   \n",
              "132  26.333333  6.500000  3400.0  2027.0  335.0  217.0    200.0    55.0   \n",
              "\n",
              "     Range     Hmax     ROC     Vlo     Slo      Vl      Sl  \n",
              "394  570.0  17000.0   870.0  1360.0   800.0  1345.0   635.0  \n",
              "685  648.0  20000.0  1050.0  1875.0  1410.0  1760.0  1050.0  \n",
              "550  305.0  13500.0   800.0  1375.0   650.0   900.0   475.0  \n",
              "141  470.0  19800.0  1225.0  1260.0  1050.0  1050.0   710.0  \n",
              "132  600.0  29500.0  1225.0  1320.0   950.0  1177.0   647.0  "
            ]
          },
          "execution_count": 25,
          "metadata": {},
          "output_type": "execute_result"
        }
      ],
      "source": [
        "X_train.head()"
      ]
    },
    {
      "cell_type": "code",
      "execution_count": 26,
      "metadata": {},
      "outputs": [],
      "source": [
        "X_train.to_csv('outputs/ml_pipeline/predict_analysis/X_train.csv', index=False)"
      ]
    },
    {
      "cell_type": "code",
      "execution_count": 27,
      "metadata": {},
      "outputs": [],
      "source": [
        "X_train.to_csv(f\"{file_path}/X_train.csv\", index=False)"
      ]
    },
    {
      "cell_type": "code",
      "execution_count": 28,
      "metadata": {
        "id": "pB6pjmAcDOym"
      },
      "outputs": [
        {
          "data": {
            "text/plain": [
              "394    35.833333\n",
              "685    32.833333\n",
              "550    34.000000\n",
              "141    32.750000\n",
              "132    33.416667\n",
              "         ...    \n",
              "681    36.166667\n",
              "396    36.083333\n",
              "321    35.833333\n",
              "61     44.333333\n",
              "376    35.833333\n",
              "Name: Wing_Span, Length: 321, dtype: float64"
            ]
          },
          "execution_count": 28,
          "metadata": {},
          "output_type": "execute_result"
        }
      ],
      "source": [
        "y_train"
      ]
    },
    {
      "cell_type": "code",
      "execution_count": 29,
      "metadata": {},
      "outputs": [],
      "source": [
        "y_train.to_csv('outputs/ml_pipeline/predict_analysis/y_train.csv', index=False)"
      ]
    },
    {
      "cell_type": "markdown",
      "metadata": {
        "id": "aVbS3OnRDYtJ"
      },
      "source": [
        "## Test Set: features and target"
      ]
    },
    {
      "cell_type": "code",
      "execution_count": 30,
      "metadata": {
        "id": "XbgF38n1DaPp"
      },
      "outputs": [
        {
          "data": {
            "text/html": [
              "<div>\n",
              "<style scoped>\n",
              "    .dataframe tbody tr th:only-of-type {\n",
              "        vertical-align: middle;\n",
              "    }\n",
              "\n",
              "    .dataframe tbody tr th {\n",
              "        vertical-align: top;\n",
              "    }\n",
              "\n",
              "    .dataframe thead th {\n",
              "        text-align: right;\n",
              "    }\n",
              "</style>\n",
              "<table border=\"1\" class=\"dataframe\">\n",
              "  <thead>\n",
              "    <tr style=\"text-align: right;\">\n",
              "      <th></th>\n",
              "      <th>Length</th>\n",
              "      <th>Height</th>\n",
              "      <th>AUW</th>\n",
              "      <th>MEW</th>\n",
              "      <th>FW</th>\n",
              "      <th>Vmax</th>\n",
              "      <th>Vcruise</th>\n",
              "      <th>Vstall</th>\n",
              "      <th>Range</th>\n",
              "      <th>Hmax</th>\n",
              "      <th>ROC</th>\n",
              "      <th>Vlo</th>\n",
              "      <th>Slo</th>\n",
              "      <th>Vl</th>\n",
              "      <th>Sl</th>\n",
              "    </tr>\n",
              "  </thead>\n",
              "  <tbody>\n",
              "    <tr>\n",
              "      <th>403</th>\n",
              "      <td>27.000000</td>\n",
              "      <td>9.916667</td>\n",
              "      <td>2220.0</td>\n",
              "      <td>1574.0</td>\n",
              "      <td>281.4</td>\n",
              "      <td>98.0</td>\n",
              "      <td>97.0</td>\n",
              "      <td>44.0</td>\n",
              "      <td>435.0</td>\n",
              "      <td>12000.0</td>\n",
              "      <td>715.0</td>\n",
              "      <td>2390.0</td>\n",
              "      <td>1620.0</td>\n",
              "      <td>1345.000000</td>\n",
              "      <td>590.0</td>\n",
              "    </tr>\n",
              "    <tr>\n",
              "      <th>821</th>\n",
              "      <td>22.250000</td>\n",
              "      <td>6.500000</td>\n",
              "      <td>1750.0</td>\n",
              "      <td>1040.0</td>\n",
              "      <td>268.0</td>\n",
              "      <td>109.0</td>\n",
              "      <td>100.0</td>\n",
              "      <td>42.0</td>\n",
              "      <td>296.0</td>\n",
              "      <td>18000.0</td>\n",
              "      <td>750.0</td>\n",
              "      <td>1140.0</td>\n",
              "      <td>720.0</td>\n",
              "      <td>1630.096648</td>\n",
              "      <td>500.0</td>\n",
              "    </tr>\n",
              "    <tr>\n",
              "      <th>136</th>\n",
              "      <td>26.333333</td>\n",
              "      <td>6.500000</td>\n",
              "      <td>3400.0</td>\n",
              "      <td>1915.0</td>\n",
              "      <td>335.0</td>\n",
              "      <td>183.0</td>\n",
              "      <td>177.0</td>\n",
              "      <td>55.0</td>\n",
              "      <td>543.0</td>\n",
              "      <td>17500.0</td>\n",
              "      <td>1136.0</td>\n",
              "      <td>1320.0</td>\n",
              "      <td>965.0</td>\n",
              "      <td>1177.000000</td>\n",
              "      <td>647.0</td>\n",
              "    </tr>\n",
              "    <tr>\n",
              "      <th>155</th>\n",
              "      <td>25.750000</td>\n",
              "      <td>8.083333</td>\n",
              "      <td>2750.0</td>\n",
              "      <td>1696.0</td>\n",
              "      <td>381.9</td>\n",
              "      <td>145.0</td>\n",
              "      <td>137.0</td>\n",
              "      <td>60.0</td>\n",
              "      <td>647.0</td>\n",
              "      <td>15385.0</td>\n",
              "      <td>927.0</td>\n",
              "      <td>1561.0</td>\n",
              "      <td>1063.0</td>\n",
              "      <td>1462.000000</td>\n",
              "      <td>816.0</td>\n",
              "    </tr>\n",
              "    <tr>\n",
              "      <th>142</th>\n",
              "      <td>25.083333</td>\n",
              "      <td>6.500000</td>\n",
              "      <td>2775.0</td>\n",
              "      <td>1722.0</td>\n",
              "      <td>261.3</td>\n",
              "      <td>169.0</td>\n",
              "      <td>160.0</td>\n",
              "      <td>48.0</td>\n",
              "      <td>550.0</td>\n",
              "      <td>19000.0</td>\n",
              "      <td>1300.0</td>\n",
              "      <td>1270.0</td>\n",
              "      <td>1060.0</td>\n",
              "      <td>1025.000000</td>\n",
              "      <td>680.0</td>\n",
              "    </tr>\n",
              "  </tbody>\n",
              "</table>\n",
              "</div>"
            ],
            "text/plain": [
              "        Length    Height     AUW     MEW     FW   Vmax  Vcruise  Vstall  \\\n",
              "403  27.000000  9.916667  2220.0  1574.0  281.4   98.0     97.0    44.0   \n",
              "821  22.250000  6.500000  1750.0  1040.0  268.0  109.0    100.0    42.0   \n",
              "136  26.333333  6.500000  3400.0  1915.0  335.0  183.0    177.0    55.0   \n",
              "155  25.750000  8.083333  2750.0  1696.0  381.9  145.0    137.0    60.0   \n",
              "142  25.083333  6.500000  2775.0  1722.0  261.3  169.0    160.0    48.0   \n",
              "\n",
              "     Range     Hmax     ROC     Vlo     Slo           Vl     Sl  \n",
              "403  435.0  12000.0   715.0  2390.0  1620.0  1345.000000  590.0  \n",
              "821  296.0  18000.0   750.0  1140.0   720.0  1630.096648  500.0  \n",
              "136  543.0  17500.0  1136.0  1320.0   965.0  1177.000000  647.0  \n",
              "155  647.0  15385.0   927.0  1561.0  1063.0  1462.000000  816.0  \n",
              "142  550.0  19000.0  1300.0  1270.0  1060.0  1025.000000  680.0  "
            ]
          },
          "execution_count": 30,
          "metadata": {},
          "output_type": "execute_result"
        }
      ],
      "source": [
        "X_test.head()"
      ]
    },
    {
      "cell_type": "code",
      "execution_count": 31,
      "metadata": {},
      "outputs": [],
      "source": [
        "X_test.to_csv('outputs/ml_pipeline/predict_analysis/X_test_head.csv', index=False)"
      ]
    },
    {
      "cell_type": "code",
      "execution_count": 32,
      "metadata": {
        "id": "5Jz66iMaDacI"
      },
      "outputs": [
        {
          "data": {
            "text/plain": [
              "403    35.833333\n",
              "821    36.000000\n",
              "136    33.416667\n",
              "155    32.750000\n",
              "142    32.750000\n",
              "         ...    \n",
              "27     27.000000\n",
              "317    36.500000\n",
              "21     35.666667\n",
              "573    33.166667\n",
              "683    36.166667\n",
              "Name: Wing_Span, Length: 81, dtype: float64"
            ]
          },
          "execution_count": 32,
          "metadata": {},
          "output_type": "execute_result"
        }
      ],
      "source": [
        "y_test"
      ]
    },
    {
      "cell_type": "code",
      "execution_count": 33,
      "metadata": {},
      "outputs": [],
      "source": [
        "y_test.to_csv('outputs/ml_pipeline/predict_analysis/y_test.csv', index=False)"
      ]
    },
    {
      "cell_type": "markdown",
      "metadata": {},
      "source": [
        "---"
      ]
    }
  ],
  "metadata": {
    "accelerator": "GPU",
    "colab": {
      "name": "Modeling and Evaluation - Predict Tenure.ipynb",
      "provenance": []
    },
    "kernelspec": {
      "display_name": "Python 3",
      "language": "python",
      "name": "python3"
    },
    "language_info": {
      "codemirror_mode": {
        "name": "ipython",
        "version": 3
      },
      "file_extension": ".py",
      "mimetype": "text/x-python",
      "name": "python",
      "nbconvert_exporter": "python",
      "pygments_lexer": "ipython3",
      "version": "3.12.8"
    },
    "orig_nbformat": 2,
    "vscode": {
      "interpreter": {
        "hash": "8b8334dab9339717f727a1deaf837b322d7a41c20d15cc86be99a8e69ceec8ce"
      }
    }
  },
  "nbformat": 4,
  "nbformat_minor": 2
}
